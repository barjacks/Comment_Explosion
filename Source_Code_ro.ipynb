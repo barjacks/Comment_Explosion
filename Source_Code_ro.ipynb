{
 "cells": [
  {
   "cell_type": "markdown",
   "metadata": {},
   "source": [
    "# Scraping 20Min Ro"
   ]
  },
  {
   "cell_type": "code",
   "execution_count": 1,
   "metadata": {
    "collapsed": false
   },
   "outputs": [
    {
     "data": {
      "text/plain": [
       "'2016-Jul-10'"
      ]
     },
     "execution_count": 1,
     "metadata": {},
     "output_type": "execute_result"
    }
   ],
   "source": [
    "import requests\n",
    "from bs4 import BeautifulSoup\n",
    "import re\n",
    "import time\n",
    "import twython\n",
    "\n",
    "datestring = time.strftime(\"%Y-%h-%d\")\n",
    "datestring"
   ]
  },
  {
   "cell_type": "code",
   "execution_count": 2,
   "metadata": {
    "collapsed": true
   },
   "outputs": [],
   "source": [
    "api_key = \"\"\n",
    "api_secret = \"\"\n",
    "\n",
    "access_token = \"\"\n",
    "token_secret = \"\""
   ]
  },
  {
   "cell_type": "code",
   "execution_count": 3,
   "metadata": {
    "collapsed": true
   },
   "outputs": [],
   "source": [
    "def to_int(x):\n",
    "    if x == None:\n",
    "        return 0\n",
    "    else:\n",
    "        return int(x)"
   ]
  },
  {
   "cell_type": "code",
   "execution_count": 4,
   "metadata": {
    "collapsed": false
   },
   "outputs": [],
   "source": [
    "twitter = twython.Twython(api_key, api_secret, access_token, token_secret)"
   ]
  },
  {
   "cell_type": "code",
   "execution_count": 5,
   "metadata": {
    "collapsed": true
   },
   "outputs": [],
   "source": [
    "# Grab the 20Min Homepage\n",
    "response_20_minutes = requests.get(\"http://www.20min.ch/ro/\")"
   ]
  },
  {
   "cell_type": "code",
   "execution_count": 6,
   "metadata": {
    "collapsed": false
   },
   "outputs": [],
   "source": [
    "# Feed it into BeautifulSoup\n",
    "_20Minutes = BeautifulSoup(response_20_minutes.text, 'html.parser')"
   ]
  },
  {
   "cell_type": "code",
   "execution_count": 7,
   "metadata": {
    "collapsed": false
   },
   "outputs": [],
   "source": [
    "stories_20Minutes = _20Minutes.find_all(\"div\", {'id': 'content'})"
   ]
  },
  {
   "cell_type": "code",
   "execution_count": 8,
   "metadata": {
    "collapsed": false
   },
   "outputs": [],
   "source": [
    "#finding everything outside of the loop\n",
    "teaser_stories_20Minutes = stories_20Minutes[0].find_all('div', {'class': \"teaser \"})\n",
    "\n",
    "#starting the dictionary:\n",
    "all_stories_20Minutes = []\n",
    "\n",
    "#The Loop\n",
    "for story in teaser_stories_20Minutes:\n",
    "    \n",
    "    #Getting the comments\n",
    "    comments = story.find('div', {'class': \"teaser_media front clearfix\"})\n",
    "    if comments:\n",
    "        try:\n",
    "            comment = comments.find('span', {'class': 'icon_talkback'}).next_sibling\n",
    "            #Just using the number of comments\n",
    "            comment = comment[:4]\n",
    "            #A regular expression to make sure to get articles with more of 999 comments\n",
    "            if re.search(r\"\\D$\", comment):\n",
    "                comment = int(comment[:3])\n",
    "            else:\n",
    "                comment = int(comment)\n",
    "        except:\n",
    "            comment = 1\n",
    "    \n",
    "    #Getting the the title\n",
    "    title_div = story.find('div', {'class': \"teaser_title front\"})\n",
    "    title_string = title_div.find('h2').string\n",
    "    if re.search(r\"\\x96\", title_string):\n",
    "        title_string.replace(\"\\x96\", \"\")\n",
    "        \n",
    "    \n",
    "    #Getting the HREF\n",
    "    #href = story.find('h3')\n",
    "    #href = href.find('a', href=True)\n",
    "    #href = href['href']\n",
    "    \n",
    "    #Dealing with non-full links\n",
    "    #if re.search(r\"^http:\", href):\n",
    "    #    href = href\n",
    "    #else:\n",
    "    try:\n",
    "        href = story.find('h3').get('data-vr-contentbox')\n",
    "        href = href.replace('Link ', 'http://www.20min.ch')\n",
    "    except:\n",
    "        0\n",
    "    #Creating the dictionary:\n",
    "    dictionary = {'Site': '@20minutesonline', 'Titel': title_string, 'Kommentare': to_int(comment), 'Link': href, 'Date': datestring}\n",
    "    \n",
    "    #List of dictionaries:\n",
    "    all_stories_20Minutes.append(dictionary)\n"
   ]
  },
  {
   "cell_type": "code",
   "execution_count": 9,
   "metadata": {
    "collapsed": false
   },
   "outputs": [],
   "source": [
    "#all_stories_20Minutes"
   ]
  },
  {
   "cell_type": "code",
   "execution_count": 10,
   "metadata": {
    "collapsed": false
   },
   "outputs": [],
   "source": [
    "#sorting the dictionary according to the value of the keys\n",
    "import operator\n",
    "all_stories_20Minutes.sort(key=operator.itemgetter('Kommentare'), reverse=True)"
   ]
  },
  {
   "cell_type": "code",
   "execution_count": 11,
   "metadata": {
    "collapsed": false
   },
   "outputs": [],
   "source": [
    "#all_stories_20Minutes"
   ]
  },
  {
   "cell_type": "code",
   "execution_count": 12,
   "metadata": {
    "collapsed": false
   },
   "outputs": [],
   "source": [
    "sentence = \"En Romandie, l'article le plus commenté est par {}, avec {} commentaires. {}\".format(all_stories_20Minutes[0]['Site'], all_stories_20Minutes[0]['Kommentare'],  all_stories_20Minutes[0]['Link'])"
   ]
  },
  {
   "cell_type": "code",
   "execution_count": 13,
   "metadata": {
    "collapsed": false
   },
   "outputs": [
    {
     "data": {
      "text/plain": [
       "\"En Romandie, l'article le plus commenté est par @20minutesonline, avec 345 commentaires. http://www.20min.ch/ro/news/vaud/story/Des-militants-transformes-en-barquettes-de-viande-23495719\""
      ]
     },
     "execution_count": 13,
     "metadata": {},
     "output_type": "execute_result"
    }
   ],
   "source": [
    "sentence"
   ]
  },
  {
   "cell_type": "code",
   "execution_count": 14,
   "metadata": {
    "collapsed": false
   },
   "outputs": [
    {
     "data": {
      "text/plain": [
       "{'contributors': None,\n",
       " 'coordinates': None,\n",
       " 'created_at': 'Sun Jul 10 12:31:59 +0000 2016',\n",
       " 'entities': {'hashtags': [],\n",
       "  'symbols': [],\n",
       "  'urls': [{'display_url': '20min.ch/ro/news/vaud/s…',\n",
       "    'expanded_url': 'http://www.20min.ch/ro/news/vaud/story/Des-militants-transformes-en-barquettes-de-viande-23495719',\n",
       "    'indices': [89, 112],\n",
       "    'url': 'https://t.co/I8nyT5ItOk'}],\n",
       "  'user_mentions': [{'id': 123840635,\n",
       "    'id_str': '123840635',\n",
       "    'indices': [48, 64],\n",
       "    'name': '20 minutes',\n",
       "    'screen_name': '20minutesOnline'}]},\n",
       " 'favorite_count': 0,\n",
       " 'favorited': False,\n",
       " 'geo': None,\n",
       " 'id': 752118165564424192,\n",
       " 'id_str': '752118165564424192',\n",
       " 'in_reply_to_screen_name': None,\n",
       " 'in_reply_to_status_id': None,\n",
       " 'in_reply_to_status_id_str': None,\n",
       " 'in_reply_to_user_id': None,\n",
       " 'in_reply_to_user_id_str': None,\n",
       " 'is_quote_status': False,\n",
       " 'lang': 'fr',\n",
       " 'place': None,\n",
       " 'possibly_sensitive': False,\n",
       " 'retweet_count': 0,\n",
       " 'retweeted': False,\n",
       " 'source': '<a href=\"http://www.barnabyskinner.com/\" rel=\"nofollow\">First_App_data_and_databases</a>',\n",
       " 'text': \"En Romandie, l'article le plus commenté est par @20minutesonline, avec 345 commentaires. https://t.co/I8nyT5ItOk\",\n",
       " 'truncated': False,\n",
       " 'user': {'contributors_enabled': False,\n",
       "  'created_at': 'Thu Jul 07 18:44:01 +0000 2016',\n",
       "  'default_profile': False,\n",
       "  'default_profile_image': False,\n",
       "  'description': 'Morgens, mittags und abends die meistdiskutierte Story der Front @20min @tagesanzeiger @watson @blickch. Ein Projekt von @BarJack.',\n",
       "  'entities': {'description': {'urls': []},\n",
       "   'url': {'urls': [{'display_url': 'github.com/barjacks/Comme…',\n",
       "      'expanded_url': 'https://github.com/barjacks/Comment_Explosion',\n",
       "      'indices': [0, 23],\n",
       "      'url': 'https://t.co/ydysYu1W7A'}]}},\n",
       "  'favourites_count': 0,\n",
       "  'follow_request_sent': False,\n",
       "  'followers_count': 26,\n",
       "  'following': False,\n",
       "  'friends_count': 2,\n",
       "  'geo_enabled': False,\n",
       "  'has_extended_profile': False,\n",
       "  'id': 751124626298765312,\n",
       "  'id_str': '751124626298765312',\n",
       "  'is_translation_enabled': False,\n",
       "  'is_translator': False,\n",
       "  'lang': 'en',\n",
       "  'listed_count': 2,\n",
       "  'location': '',\n",
       "  'name': 'Comment_Explosion',\n",
       "  'notifications': False,\n",
       "  'profile_background_color': '000000',\n",
       "  'profile_background_image_url': 'http://abs.twimg.com/images/themes/theme1/bg.png',\n",
       "  'profile_background_image_url_https': 'https://abs.twimg.com/images/themes/theme1/bg.png',\n",
       "  'profile_background_tile': False,\n",
       "  'profile_banner_url': 'https://pbs.twimg.com/profile_banners/751124626298765312/1467918128',\n",
       "  'profile_image_url': 'http://pbs.twimg.com/profile_images/751131761325793281/_MFSDult_normal.jpg',\n",
       "  'profile_image_url_https': 'https://pbs.twimg.com/profile_images/751131761325793281/_MFSDult_normal.jpg',\n",
       "  'profile_link_color': '999999',\n",
       "  'profile_sidebar_border_color': '000000',\n",
       "  'profile_sidebar_fill_color': '000000',\n",
       "  'profile_text_color': '000000',\n",
       "  'profile_use_background_image': False,\n",
       "  'protected': False,\n",
       "  'screen_name': 'com_expl',\n",
       "  'statuses_count': 13,\n",
       "  'time_zone': None,\n",
       "  'url': 'https://t.co/ydysYu1W7A',\n",
       "  'utc_offset': None,\n",
       "  'verified': False}}"
      ]
     },
     "execution_count": 14,
     "metadata": {},
     "output_type": "execute_result"
    }
   ],
   "source": [
    "twitter.update_status(status=sentence)"
   ]
  },
  {
   "cell_type": "code",
   "execution_count": null,
   "metadata": {
    "collapsed": true
   },
   "outputs": [],
   "source": []
  }
 ],
 "metadata": {
  "kernelspec": {
   "display_name": "Python 3",
   "language": "python",
   "name": "python3"
  },
  "language_info": {
   "codemirror_mode": {
    "name": "ipython",
    "version": 3
   },
   "file_extension": ".py",
   "mimetype": "text/x-python",
   "name": "python",
   "nbconvert_exporter": "python",
   "pygments_lexer": "ipython3",
   "version": "3.5.1"
  }
 },
 "nbformat": 4,
 "nbformat_minor": 0
}
