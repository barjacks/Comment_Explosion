{
 "cells": [
  {
   "cell_type": "markdown",
   "metadata": {},
   "source": [
    "# Scraping the two news sites with most coments, 20Min & Watson"
   ]
  },
  {
   "cell_type": "code",
   "execution_count": 84,
   "metadata": {
    "collapsed": false
   },
   "outputs": [
    {
     "data": {
      "text/plain": [
       "'2016-Jul-09'"
      ]
     },
     "execution_count": 84,
     "metadata": {},
     "output_type": "execute_result"
    }
   ],
   "source": [
    "import requests\n",
    "from bs4 import BeautifulSoup\n",
    "import re\n",
    "import time\n",
    "import twython\n",
    "\n",
    "datestring = time.strftime(\"%Y-%h-%d\")\n",
    "datestring"
   ]
  },
  {
   "cell_type": "code",
   "execution_count": 85,
   "metadata": {
    "collapsed": true
   },
   "outputs": [],
   "source": [
    "api_key = \"\"\n",
    "api_secret = \"\"\n",
    "\n",
    "access_token = \"\"\n",
    "token_secret = \"\""
   ]
  },
  {
   "cell_type": "code",
   "execution_count": 86,
   "metadata": {
    "collapsed": true
   },
   "outputs": [],
   "source": [
    "twitter = twython.Twython(api_key, api_secret, access_token, token_secret)"
   ]
  },
  {
   "cell_type": "code",
   "execution_count": 87,
   "metadata": {
    "collapsed": true
   },
   "outputs": [],
   "source": [
    "#Grab the 20Min & Watson Homepages\n",
    "response = requests.get(\"http://www.20min.ch\")\n",
    "response_watson = requests.get(\"http://www.watson.ch/\")\n",
    "response_Tagi = requests.get(\"http://www.tagesanzeiger.ch\")\n",
    "response_blick = requests.get(\"http://www.blick.ch\")"
   ]
  },
  {
   "cell_type": "code",
   "execution_count": 88,
   "metadata": {
    "collapsed": false
   },
   "outputs": [],
   "source": [
    "#Feed them into BeautifulSoup\n",
    "_20Min = BeautifulSoup(response.text, 'html.parser')\n",
    "Watson = BeautifulSoup(response_watson.text, 'html.parser')\n",
    "Tagi = BeautifulSoup(response_Tagi.text, 'html.parser')\n",
    "blick = BeautifulSoup(response_blick.text, 'html.parser')"
   ]
  },
  {
   "cell_type": "code",
   "execution_count": 89,
   "metadata": {
    "collapsed": false
   },
   "outputs": [],
   "source": [
    "#Grabbing the various Stories\n",
    "stories = _20Min.find_all(\"div\", {'id': 'content'})\n",
    "stories_watson = Watson.find_all('div', {'class': 'teaser teaser_type_default     font_m  combo_bg combo_fg'})\n",
    "Tagi_stories = Tagi.find_all(\"div\", {'class': 'featureStory standard'})\n",
    "Tagi_kommentare = Tagi.find_all(\"div\", {'class': 'articleStory valued'})\n",
    "blick_stories = blick.find_all('div', {'class': 'g6Slead'})"
   ]
  },
  {
   "cell_type": "code",
   "execution_count": 90,
   "metadata": {
    "collapsed": true
   },
   "outputs": [],
   "source": [
    "#Int Function\n",
    "def to_int(x):\n",
    "    if x == None:\n",
    "        return 0\n",
    "    else:\n",
    "        return int(x)"
   ]
  },
  {
   "cell_type": "code",
   "execution_count": 91,
   "metadata": {
    "collapsed": false
   },
   "outputs": [],
   "source": [
    "#finding everything outside of the loop\n",
    "teaser_stories = stories[0].find_all('div', {'class': \"teaser \"})\n",
    "\n",
    "#starting the dictionary:\n",
    "all_stories = []\n",
    "\n",
    "#The Loop\n",
    "for story in teaser_stories:\n",
    "    \n",
    "    #Getting the comments\n",
    "    comments = story.find('div', {'class': \"teaser_media front clearfix\"})\n",
    "    if comments:\n",
    "        try:\n",
    "            comment = comments.find('span', {'class': 'icon_talkback'}).next_sibling\n",
    "            #Just using the number of comments\n",
    "            comment = comment[:4]\n",
    "            #A regular expression to make sure to get articles with more of 999 comments\n",
    "            if re.search(r\"\\D$\", comment):\n",
    "                comment = int(comment[:3])\n",
    "            else:\n",
    "                comment = int(comment)\n",
    "        except:\n",
    "            comment = 1\n",
    "    \n",
    "    #Getting the the title\n",
    "    title_div = story.find('div', {'class': \"teaser_title front\"})\n",
    "    title_string = title_div.find('h2').string\n",
    "    if re.search(r\"\\x96\", title_string):\n",
    "        title_string.replace(\"\\x96\", \"\")\n",
    "        \n",
    "    \n",
    "    #Getting the HREF\n",
    "    href = story.find('h3')\n",
    "    href = href.find('a', href=True)\n",
    "    href = href['href']\n",
    "    \n",
    "    #Dealing with non-full links\n",
    "    if re.search(r\"^http:\", href):\n",
    "        href = href\n",
    "    else:\n",
    "        href = 'http://www.20min.ch' + href\n",
    "    \n",
    "    #Creating the dictionary:\n",
    "    dictionary = {'Site': '@20min', 'Titel': title_string, 'Kommentare': int(comment), 'Link': href, 'Date': datestring}\n",
    "    \n",
    "    #List of dictionaries:\n",
    "    all_stories.append(dictionary)"
   ]
  },
  {
   "cell_type": "code",
   "execution_count": 92,
   "metadata": {
    "collapsed": true
   },
   "outputs": [],
   "source": [
    "#starting the dictionary:\n",
    "all_stories_watson = []\n",
    "\n",
    "#looping through titles, comments, links\n",
    "for story in stories_watson:\n",
    "    \n",
    "    #getting HREF\n",
    "    href = story.find('a', {'class': 'storylink combo_bd'})\n",
    "    try:\n",
    "        href = href['href']\n",
    "        href = ('http://watson.ch' + href)\n",
    "    except:\n",
    "        href == None\n",
    "        \n",
    "    #Getting the story\n",
    "    title = story.find('h2')\n",
    "    if title == None:\n",
    "        title = None\n",
    "    else:\n",
    "        title = title.string\n",
    "    \n",
    "    #Getting the Comments\n",
    "    comments = story.find('a', {'class': 'comments'})\n",
    "    if comments == None:\n",
    "        comments = 0\n",
    "    else:\n",
    "        comments = story.find('img', {'src': '/media/img/main/icons/icon_comments.png'}).span.text\n",
    "        comments = int(comments)\n",
    "    \n",
    "    #creating the dictionary\n",
    "    dictionary = {'Site': '@watson_news', 'Titel': title, 'Kommentare': int(comments), 'Link': href, 'Date': datestring}\n",
    "    \n",
    "    #creating the list\n",
    "    all_stories_watson.append(dictionary)"
   ]
  },
  {
   "cell_type": "code",
   "execution_count": 93,
   "metadata": {
    "collapsed": true
   },
   "outputs": [],
   "source": [
    "Tagi_Dict = []\n",
    "\n",
    "#looping through all the stories\n",
    "for x in Tagi_stories:\n",
    "    \n",
    "    #Getting each headline and extracting only the text\n",
    "    try:\n",
    "        title = x.find('h3').get_text().strip()\n",
    "    except:\n",
    "        title == None\n",
    "\n",
    "    #Getting the byline\n",
    "    #time = title.find('p', {'class' : 'storyInfo'})\n",
    "    \n",
    "    #Getting time\n",
    "    #time = x.find('p', {'class' : 'storyInfo'})\n",
    "    #time = time.find('time', {'class' : 'time'})\n",
    "    \n",
    "    #Getting Kommentare\n",
    "    if x.find('a', {'title' : 'Kommentare'}) is None:\n",
    "        kommentare = 0\n",
    "    else:\n",
    "        kommentare = x.find('a', {'title' : 'Kommentare'}).string\n",
    "        #kommentare = kommentare.replace(u'\\xa0', ' ')\n",
    "        kommentare = int(re.findall(r\"\\d+\", kommentare)[0])\n",
    "        \n",
    "    #Getting HREF\n",
    "    try:\n",
    "        href = x.find('h3')\n",
    "        href = href.find('a').get('href')\n",
    "        href = 'http://www.tagesanzeiger.ch' + href\n",
    "    except:\n",
    "        href == None\n",
    "        \n",
    "    #Creating dictionary with Tagi Headlines, time\n",
    "    title = { 'Site': '@tagesanzeiger', 'Titel': title, 'Kommentare': kommentare, 'Link': href, 'Date': datestring}\n",
    "    \n",
    "    Tagi_Dict.append(title)"
   ]
  },
  {
   "cell_type": "code",
   "execution_count": 94,
   "metadata": {
    "collapsed": false
   },
   "outputs": [],
   "source": [
    "Tagi_Kommentare_Dict = []\n",
    "\n",
    "for x in Tagi_kommentare:\n",
    "    \n",
    "    #Getting each headline and extracting only the text\n",
    "    try:\n",
    "        title = x.find('h4').get_text().strip()\n",
    "    except:\n",
    "        title == None\n",
    "    \n",
    "    #Getting Kommentare\n",
    "    if x.find('span', {'class' : 'icon icon-comment'}) is None:\n",
    "        kommentare = 0\n",
    "    else:\n",
    "        kommentare = x.find('span', {'class' : 'icon icon-comment'}).next_sibling\n",
    "        kommentare = kommentare[:4]\n",
    "        #A regular expression to make sure to get articles with more of 999 comments\n",
    "        if re.search(r\"\\D$\", kommentare):\n",
    "            kommentare = int(float(kommentare[:2]))\n",
    "        else:\n",
    "            kommentare = int(kommentare)\n",
    "    #Getting HREF\n",
    "    try:\n",
    "        href = x.find('h4')\n",
    "        href = href.find('a').get('href')\n",
    "        href = 'http://www.tagesanzeiger.ch' + href\n",
    "    except:\n",
    "        href == None\n",
    "        \n",
    "    #Creating dictionary with Tagi Headlines, time\n",
    "    Kommentare = { 'Site': '@tagesanzeiger', 'Titel': title, 'Kommentare': kommentare, 'Link': href, 'Date': datestring}\n",
    "    \n",
    "    Tagi_Kommentare_Dict.append(Kommentare)"
   ]
  },
  {
   "cell_type": "code",
   "execution_count": 95,
   "metadata": {
    "collapsed": false
   },
   "outputs": [],
   "source": [
    "all_stories_blick = []\n",
    "\n",
    "for item in blick_stories:\n",
    "    #Titel\n",
    "    try:\n",
    "        title = item.find('span', {'class': 'headline__item'}).string.strip()\n",
    "    except:\n",
    "        None\n",
    "    \n",
    "    #Comments\n",
    "    try:\n",
    "        Kommentare = item.find('span', {'class': 'mini-sharebar__comments'})\n",
    "        Kommentare = Kommentare.string\n",
    "    #print(Kommentare)\n",
    "    except:\n",
    "        None\n",
    "    \n",
    "    #HREF\n",
    "    try:\n",
    "        item.find('span', {'class': 'article__shareButton_mail'})\n",
    "        href = item.find('span', {'class': 'article__shareButton_mail'})\n",
    "        href = href.get('data-share-url').replace('?utm_source=email&utm_medium=social_user&utm_campaign=blick_web', \"\")\n",
    "    except:\n",
    "        None\n",
    "        \n",
    "    dict_items = {'Site': '@blickch', 'Titel': title, 'Kommentare': to_int(Kommentare), 'Link': href, 'Date': datestring}\n",
    "    all_stories_blick.append(dict_items)\n",
    "    \n",
    "all_stories_blick = [dict(t) for t in set([tuple(d.items()) for d in all_stories_blick])] "
   ]
  },
  {
   "cell_type": "code",
   "execution_count": 96,
   "metadata": {
    "collapsed": false
   },
   "outputs": [],
   "source": [
    "#adding the two dictionaries\n",
    "all_stories.extend(all_stories_watson)\n",
    "all_stories.extend(Tagi_Dict)\n",
    "all_stories.extend(Tagi_Kommentare_Dict)\n",
    "all_stories.extend(all_stories_blick)"
   ]
  },
  {
   "cell_type": "code",
   "execution_count": 97,
   "metadata": {
    "collapsed": false
   },
   "outputs": [],
   "source": [
    "#sorting the dictionary according to the value of the keys\n",
    "import operator\n",
    "all_stories.sort(key=operator.itemgetter('Kommentare'), reverse=True)"
   ]
  },
  {
   "cell_type": "code",
   "execution_count": 98,
   "metadata": {
    "collapsed": false
   },
   "outputs": [
    {
     "name": "stdout",
     "output_type": "stream",
     "text": [
      "[{'Titel': 'Nationalratskommission bittet Ältere zur Kasse', 'Link': 'http://www.20min.ch/schweiz/news/story/Nationalratskommission-bittet--ltere-zur-Kasse-16499162', 'Kommentare': 780, 'Date': '2016-Jul-09', 'Site': '@20min'}, {'Titel': 'Deutsche Chefs wollen nicht mehr in die Schweiz', 'Link': 'http://www.20min.ch/finance/news/story/Deutsche-Chefs-wollen-nicht-mehr-in-die-Schweiz-24079080', 'Kommentare': 642, 'Date': '2016-Jul-09', 'Site': '@20min'}, {'Titel': 'Lohnt es sich, den Motor am Rotlicht abzuschalten?', 'Link': 'http://www.20min.ch/schweiz/energy-challenge/story/Lohnt-es-sich--den-Motor-am-Rotlicht-abzuschalten--21177214', 'Kommentare': 595, 'Date': '2016-Jul-09', 'Site': '@20min'}, {'Titel': 'Krankenkassenprämien steigen immer mehr', 'Link': 'http://www.20min.ch/finance/news/story/Krankenkassenpraemien-steigen-immer-mehr-24655934', 'Kommentare': 396, 'Date': '2016-Jul-09', 'Site': '@20min'}, {'Titel': '99+ Bilder und Gifs gegen Langeweile: Der Picdump ist da!', 'Link': 'http://watson.ch/Popul%C3%A4rkultur/Nightlife/435146696-99+-Bilder-und-Gifs-gegen-Langeweile--Der-Picdump-ist-da!', 'Kommentare': 322, 'Date': '2016-Jul-09', 'Site': '@watson_news'}, {'Titel': '«So sehen Bünzli aus, die am Rasenmähen sind»', 'Link': 'http://www.20min.ch/people/schweiz/story/-So-sehen-Buenzli-aus--die-am-Rasenmaehen-sind--21134724', 'Kommentare': 253, 'Date': '2016-Jul-09', 'Site': '@20min'}, {'Titel': 'Salt-Abos fliegen bei Mobilezone raus', 'Link': 'http://www.20min.ch/finance/news/story/Salt-Abos-fliegen-bei-Mobilezone-raus-11249922', 'Kommentare': 229, 'Date': '2016-Jul-09', 'Site': '@20min'}, {'Titel': 'Was kann man tun, wenn ein Flug annulliert wird?', 'Link': 'http://www.20min.ch/finance/news/story/Was-kann-man-tun--wenn-ein-Flug-annulliert-wird--19751249', 'Kommentare': 148, 'Date': '2016-Jul-09', 'Site': '@20min'}, {'Titel': '«Mein Freund kommt extra für mich in die Schweiz»', 'Link': 'http://www.20min.ch/community/stories/story/-Mein-Freund-kommt-extra-fuer-mich-in-die-Schweiz--30663474', 'Kommentare': 145, 'Date': '2016-Jul-09', 'Site': '@20min'}, {'Titel': 'Darum hatte Salt gestern einen Totalausfall', 'Link': 'http://www.20min.ch/digital/news/story/Darum-hatte-Salt-gestern-einen-Totalausfall-24903910', 'Kommentare': 134, 'Date': '2016-Jul-09', 'Site': '@20min'}, {'Titel': 'Bomben-Roboter ist die neue Waffe der Polizei', 'Link': 'http://www.20min.ch/panorama/news/story/Bomben-Roboter-ist-die-neue-Waffe-der-Polizei-29514670', 'Kommentare': 129, 'Date': '2016-Jul-09', 'Site': '@20min'}, {'Titel': 'Tropennacht leitet heisses Wochenende ein', 'Link': 'http://www.20min.ch/schweiz/news/story/Tropennacht-leitet-heisses-Wochenende-ein-13285423', 'Kommentare': 125, 'Date': '2016-Jul-09', 'Site': '@20min'}, {'Titel': 'UPC-Kunden müssen ihr Passwort ändern', 'Link': 'http://www.20min.ch/digital/news/story/UPC-Kunden-muessen-ihr-Passwort-aendern-26881844', 'Kommentare': 109, 'Date': '2016-Jul-09', 'Site': '@20min'}, {'Titel': 'Finden Sie heraus, wie Sie mit dem Chef reden sollten', 'Link': 'http://www.20min.ch/wissen/news/story/Finden-Sie-heraus--wie-Sie-mit-dem-Chef-reden-sollten-27744258', 'Kommentare': 104, 'Date': '2016-Jul-09', 'Site': '@20min'}, {'Titel': '«Die Zustände in den Camps gehen mir nahe»', 'Link': 'http://www.20min.ch/schweiz/news/story/-Die-Zustaende-in-den-Camps-gehen-mir-nahe--10860101', 'Kommentare': 99, 'Date': '2016-Jul-09', 'Site': '@20min'}, {'Titel': 'Weil ihr so schön brav wart: 101 Bilder für ein besseres Wochenende – EXTRA PICDUMP', 'Link': 'http://watson.ch/Popul%C3%A4rkultur/Nightlife/235485990-Weil-ihr-so-sch%C3%B6n-brav-wart--101-Bilder-f%C3%BCr-ein-besseres-Wochenende-%E2%80%93-EXTRA-PICDUMP', 'Kommentare': 96, 'Date': '2016-Jul-09', 'Site': '@watson_news'}, {'Titel': '«Statt AKWs braucht es Tausende Batterien»', 'Link': 'http://www.20min.ch/schweiz/energy-challenge/story/-Statt-AKWs-braucht-es-Tausende-Batterien--21860029', 'Kommentare': 86, 'Date': '2016-Jul-09', 'Site': '@20min'}, {'Titel': \"«Brauche jedes Jahr 31'000 Euro für Handys»\", 'Link': 'http://www.20min.ch/people/international/story/-Brauche-jedes-Jahr-31-000-Euro-fuer-Handys--28780044', 'Kommentare': 85, 'Date': '2016-Jul-09', 'Site': '@20min'}, {'Titel': 'Kikos Mitinsasse wusste von den Fluchtplänen', 'Link': 'http://www.20min.ch/schweiz/zuerich/story/Kikos-Mitinsasse-wusste-von-den-Fluchtplaenen-24701227', 'Kommentare': 84, 'Date': '2016-Jul-09', 'Site': '@20min'}, {'Titel': 'Wie ich am Open Air zum gläsernen Festival-Besucher wurde und was nun mit den Daten passiert', 'Link': 'http://watson.ch/Digital/Schweiz/987676318-Wie-ich-am-Open-Air-zum-gl%C3%A4sernen-Festival-Besucher-wurde-und-was-nun-mit-den-Daten-passiert', 'Kommentare': 76, 'Date': '2016-Jul-09', 'Site': '@watson_news'}, {'Titel': '16 extrem deprimierende Musik-Fakten (der Schweizer Beitrag ist fast der schlimmste imfall)', 'Link': 'http://watson.ch/Popul%C3%A4rkultur/Musik/672849407-16-extrem-deprimierende-Musik-Fakten-%28der-Schweizer-Beitrag-ist-fast-der-schlimmste-imfall%29', 'Kommentare': 72, 'Date': '2016-Jul-09', 'Site': '@watson_news'}, {'Titel': 'Der Sommerdrink 2016 braucht keinen Alkohol', 'Link': 'http://www.20min.ch/native/stories/story/Der-Sommerdrink-2016-braucht-keinen-Alkohol-18277838', 'Kommentare': 69, 'Date': '2016-Jul-09', 'Site': '@20min'}, {'Titel': 'Die Berner Reitschule hat «keine Lust mehr» und schliesst (vorerst?) die Türen', 'Link': 'http://watson.ch/Schweiz/Popul%C3%A4rkultur/751645960-Die-Berner-Reitschule-hat-%C2%ABkeine-Lust-mehr%C2%BB-und-schliesst-%28vorerst-%29-die-T%C3%BCren', 'Kommentare': 60, 'Date': '2016-Jul-09', 'Site': '@watson_news'}, {'Titel': 'Nato verlegt Truppen nach Osteuropa', 'Link': 'http://www.20min.ch/panorama/news/story/Nato-verlegt-Truppen-nach-Osteuropa-14489248', 'Kommentare': 58, 'Date': '2016-Jul-09', 'Site': '@20min'}, {'Titel': 'Was Disney-Prinzessinnen aus den Mädchen machen', 'Link': 'http://www.20min.ch/wissen/news/story/Was-Disney-Prinzessinnen-aus-den-Maedchen-machen-19220509', 'Kommentare': 58, 'Date': '2016-Jul-09', 'Site': '@20min'}, {'Titel': '«Ein Grossraumbüro kann wunderbar sein»', 'Link': 'http://www.20min.ch/wissen/news/story/-Ein-Grossraumbuero-kann-wunderbar-sein--27146840', 'Kommentare': 56, 'Date': '2016-Jul-09', 'Site': '@20min'}, {'Titel': 'Entwarnung nach anonymer Drohung gegen Dallas Polizei', 'Link': 'http://www.blick.ch/news/ausland/bei-protestmarsch-gegen-polizeigewalt-3-polizisten-in-dallas-erschossen-id5239247.html', 'Kommentare': 55, 'Date': '2016-Jul-09', 'Site': '@blickch'}, {'Titel': 'Auf diese News haben wir alle gewartet: Wer öfter Pasta isst, bleibt schlanker', 'Link': 'http://watson.ch/watson-Leser%20empfehlen/Forschung/567635908-Auf-diese-News-haben-wir-alle-gewartet--Wer-%C3%B6fter-Pasta-isst--bleibt-schlanker', 'Kommentare': 53, 'Date': '2016-Jul-09', 'Site': '@watson_news'}, {'Titel': '750 Meldungen aus dem Ausland \\x96 pro Monat', 'Link': 'http://www.20min.ch/schweiz/news/story/750-Meldungen-aus-dem-Ausland---pro-Monat-10923771', 'Kommentare': 51, 'Date': '2016-Jul-09', 'Site': '@20min'}, {'Titel': 'Das ist Nina Agdal, Leo DiCaprios alte Neue', 'Link': 'http://www.20min.ch/people/international/story/Das-ist-Nina-Agdal--Leo-DiCaprios-alte-Neue-28647397', 'Kommentare': 47, 'Date': '2016-Jul-09', 'Site': '@20min'}, {'Titel': '«Sechs Franken für ein Bier? Das ist verrückt!»', 'Link': 'http://www.20min.ch/tilllate/redirect.tmpl?storyurl=/jugend/tilllate/story/-Sechs-Franken-fuer-ein-Bier--Das-ist-verrueckt---26515473&tilllateurl=http://ch.tilllate.com/de/story/festival-cash?ref=20min-story', 'Kommentare': 47, 'Date': '2016-Jul-09', 'Site': '@20min'}, {'Titel': '«Nicht die Waffe tötete meinen Buben, ich tat es»', 'Link': 'http://www.20min.ch/panorama/news/story/-Nicht-die-Waffe-toetete-meinen-Buben--ich-tat-es--26946298', 'Kommentare': 45, 'Date': '2016-Jul-09', 'Site': '@20min'}, {'Titel': 'Mit dem Schulbus von Alaska bis Argentinien', 'Link': 'http://www.20min.ch/leben/reisen/story/Mit-dem-Schulbus-von-Alaska-bis-Argentinien-12453067', 'Kommentare': 41, 'Date': '2016-Jul-09', 'Site': '@20min'}, {'Titel': '20 Minuten knackt die Milliarden-Grenze', 'Link': 'http://www.20min.ch/finance/news/story/20-Minuten-knackt-die-Milliarden-Grenze-12135114', 'Kommentare': 39, 'Date': '2016-Jul-09', 'Site': '@20min'}, {'Titel': 'AfD-Politikerin twittert gegen die deutsche Elf', 'Link': 'http://www.20min.ch/ausland/news/story/AfD-Politikerin-twittert-gegen-die-deutsche-Elf-22571002', 'Kommentare': 36, 'Date': '2016-Jul-09', 'Site': '@20min'}, {'Titel': 'So schön leidet und jubelt Serena Williams', 'Link': 'http://www.20min.ch/sport/tennis/story/So-schoen-leidet-und-jubelt-Serena-Williams-26926754', 'Kommentare': 36, 'Date': '2016-Jul-09', 'Site': '@20min'}, {'Titel': 'Williams hievt sich auf eine Stufe mit Steffi Graf', 'Link': 'http://www.20min.ch/sport/tennis/story/Williams-hievt-sich-auf-eine-Stufe-mit-Steffi-Graf-20527926', 'Kommentare': 36, 'Date': '2016-Jul-09', 'Site': '@20min'}, {'Titel': 'Huh! Wer plötzlich alles behauptet, den Schlachtruf der isländischen Fans erfunden zu haben', 'Link': 'http://watson.ch/EM%202016/Sport/532744155-Huh!-Wer-pl%C3%B6tzlich-alles-behauptet--den-Schlachtruf-der-isl%C3%A4ndischen-Fans-erfunden-zu-haben', 'Kommentare': 36, 'Date': '2016-Jul-09', 'Site': '@watson_news'}, {'Titel': 'Nachlässig eingesetzte Gentech stärkt Schädlinge', 'Link': 'http://www.20min.ch/wissen/news/story/Nachlaessig-eingesetzte-Gentech-staerkt-Schaedlinge-22828346', 'Kommentare': 35, 'Date': '2016-Jul-09', 'Site': '@20min'}, {'Titel': 'Die Robo-Bombe von Dallas: Einsatz von C4-Sprengstoff gegen Täter wirft Fragen auf', 'Link': 'http://watson.ch/International/USA/275472601-Die-Robo-Bombe-von-Dallas--Einsatz-von-C4-Sprengstoff-gegen-T%C3%A4ter-wirft-Fragen-auf', 'Kommentare': 35, 'Date': '2016-Jul-09', 'Site': '@watson_news'}, {'Titel': 'Berner Reitschule bis auf Weiteres geschlossen', 'Link': 'http://www.blick.ch/news/berner-reitschule-bis-auf-weiteres-geschlossen-id5244958.html', 'Kommentare': 35, 'Date': '2016-Jul-09', 'Site': '@blickch'}, {'Titel': 'Giulias grosse Schwester', 'Link': 'http://www.20min.ch/auto/youngtimer/story/Giulias-grosse-Schwester-30406473', 'Kommentare': 34, 'Date': '2016-Jul-09', 'Site': '@20min'}, {'Titel': 'So wird Ihre Wohnung zum Backofen', 'Link': 'http://www.20min.ch/immobilien/news/story/So-wird-Ihre-Wohnung-zum-Backofen-12943935', 'Kommentare': 33, 'Date': '2016-Jul-09', 'Site': '@20min'}, {'Titel': 'Wahr oder falsch? 15 Ernährungs-Mythen im Check', 'Link': 'http://watson.ch/Wissen/Fit%20for%20Life/453978770-Wahr-oder-falsch--15-Ern%C3%A4hrungs-Mythen-im-Check', 'Kommentare': 33, 'Date': '2016-Jul-09', 'Site': '@watson_news'}, {'Titel': 'Coiffeur wegen sexueller Belästigung angeklagt', 'Link': 'http://www.20min.ch/schweiz/zuerich/story/Coiffeur-wegen-sexueller-Belaestigung-angeklagt-29427551', 'Kommentare': 31, 'Date': '2016-Jul-09', 'Site': '@20min'}, {'Titel': '«Weltwoche»-Autor hat (auch) bei watson abgekupfert', 'Link': 'http://watson.ch/Digital/Schweiz/493138867-%C2%ABWeltwoche%C2%BB-Autor-hat-%28auch%29-bei-watson-abgekupfert', 'Kommentare': 31, 'Date': '2016-Jul-09', 'Site': '@watson_news'}, {'Titel': 'Erkennst du den Schweizer Film an nur einem Bild? (Es ist cheibe schwer, nur zum säge ...)', 'Link': 'http://watson.ch/Popul%C3%A4rkultur/Quiz/518434944-Erkennst-du-den-Schweizer-Film-an-nur-einem-Bild--%28Es-ist-cheibe-schwer--nur-zum-s%C3%A4ge----%29', 'Kommentare': 29, 'Date': '2016-Jul-09', 'Site': '@watson_news'}, {'Titel': 'Es bleibt beim Brexit', 'Link': 'http://www.tagesanzeiger.ch/ausland/brexit/ex-bleibt-beim-brexit/story/29383294', 'Kommentare': 29, 'Date': '2016-Jul-09', 'Site': '@tagesanzeiger'}, {'Titel': 'Der Büpf-Pfupf: Wie man ein Referendum\\nbesser nicht durchführen sollte', 'Link': 'http://watson.ch/Schweiz/B%C3%BCpf/362198236-Der-B%C3%BCpf-Pfupf--Wie-man-ein-Referendum-besser-nicht-durchf%C3%BChren-sollte', 'Kommentare': 26, 'Date': '2016-Jul-09', 'Site': '@watson_news'}, {'Titel': 'Gesunde Schoggi zum Trinken', 'Link': 'http://www.20min.ch/fitness/fitfood/story/Gesunde-Schoggi-zum-Trinken-24352471', 'Kommentare': 24, 'Date': '2016-Jul-09', 'Site': '@20min'}, {'Titel': 'Darum hat der Pfannenwender Schlitze', 'Link': 'http://www.20min.ch/wissen/news/story/Darum-hat-der-Pfannenwender-Schlitze-31091999', 'Kommentare': 23, 'Date': '2016-Jul-09', 'Site': '@20min'}, {'Titel': '5 Spiele für weniger Langeweile im Stau', 'Link': 'http://www.20min.ch/sogehtsommer/sommer/story/5-Spiele-fuer-weniger-Langeweile-im-Stau-19044096', 'Kommentare': 22, 'Date': '2016-Jul-09', 'Site': '@20min'}, {'Titel': 'Gymirektor mit Fehlern auf Stadtrats-Wahlplakat', 'Link': 'http://www.20min.ch/schweiz/romandie/story/Gymirektor-mit-Fehlern-auf-Stadtrats-Wahlplakat-11118165', 'Kommentare': 21, 'Date': '2016-Jul-09', 'Site': '@20min'}, {'Titel': 'Presse, Pussy und Pomade: Eine Beleidigung «mal von der anderen Seite beleuchtet»', 'Link': 'http://watson.ch/EM%202016/Schweiz/321308722-Presse--Pussy-und-Pomade--Eine-Beleidigung-%C2%ABmal-von-der-anderen-Seite-beleuchtet%C2%BB', 'Kommentare': 21, 'Date': '2016-Jul-09', 'Site': '@watson_news'}, {'Titel': 'Kalte Suppe für heisse Sommertage', 'Link': 'http://www.20min.ch/fitness/fitfood/story/Kalte-Suppe-fuer-heisse-Sommertage-27332596', 'Kommentare': 20, 'Date': '2016-Jul-09', 'Site': '@20min'}, {'Titel': 'Unser erstes Rechtschreib-Quiz war zu einfach? Nimm das, du Deutsch-Experte!', 'Link': 'http://watson.ch/Wissen/Quiz/140974260-Unser-erstes-Rechtschreib-Quiz-war-zu-einfach--Nimm-das--du-Deutsch-Experte!', 'Kommentare': 20, 'Date': '2016-Jul-09', 'Site': '@watson_news'}, {'Titel': 'Diese Bilder beweisen, dass wir betrunken ALLES lecker finden (und nicht kochen sollten)', 'Link': 'http://watson.ch/Popul%C3%A4rkultur/watson-Leser%20empfehlen/694381399-Diese-Bilder-beweisen--dass-wir-betrunken-ALLES-lecker-finden-%28und-nicht-kochen-sollten%29', 'Kommentare': 20, 'Date': '2016-Jul-09', 'Site': '@watson_news'}, {'Titel': 'Du verlierst immer deine Freunde im Getümmel? Wenn du diese 10 Aufgaben meisterst, bist du bereit\\xa0fürs Züri Fäscht', 'Link': 'http://watson.ch/Quiz/Nightlife/238140942-Du-verlierst-immer-deine-Freunde-im-Get%C3%BCmmel--Wenn-du-diese-10-Aufgaben-meisterst--bist-du-bereit-f%C3%BCrs-Z%C3%BCri-F%C3%A4scht', 'Kommentare': 20, 'Date': '2016-Jul-09', 'Site': '@watson_news'}, {'Titel': 'Wüste Schlägerei unter Eritreern, Somalier und Schweizer', 'Link': 'http://www.blick.ch/news/schweiz/zuerich/14-festnahmen-im-zuercher-kreis-4-wueste-schlaegerei-unter-eritreern-somalier-und-schweizer-id5244674.html', 'Kommentare': 20, 'Date': '2016-Jul-09', 'Site': '@blickch'}, {'Titel': 'Lügen bei der Wohnungsbewerbung', 'Link': 'http://www.20min.ch/immobilien/news/story/Luegen-bei-der-Wohnungsbewerbung-23034725', 'Kommentare': 19, 'Date': '2016-Jul-09', 'Site': '@20min'}, {'Titel': 'Nach dem Motorenstart sind die Zweifel weg', 'Link': 'http://www.20min.ch/auto/youngtimer/story/Nach-dem-Motorenstart-sind-die-Zweifel-weg-27985491', 'Kommentare': 19, 'Date': '2016-Jul-09', 'Site': '@20min'}, {'Titel': '«Stiftung Wadentest» oder «SV Wacker Durchsaufen»? Wähle den legendärsten Grümpi-Namen', 'Link': 'http://watson.ch/Sport/Schweiz/860703369-%C2%ABStiftung-Wadentest%C2%BB-oder-%C2%ABSV-Wacker-Durchsaufen%C2%BB--W%C3%A4hle-den-legend%C3%A4rsten-Gr%C3%BCmpi-Namen', 'Kommentare': 18, 'Date': '2016-Jul-09', 'Site': '@watson_news'}, {'Titel': 'Die besten Sportlerpics auf Social Media: Maze, Veith und Kirchgasser mit der Milka-Kuh', 'Link': 'http://watson.ch/Sport/articles/596122896-Die-besten-Sportlerpics-auf-Social-Media--Maze--Veith-und-Kirchgasser-mit-der-Milka-Kuh', 'Kommentare': 18, 'Date': '2016-Jul-09', 'Site': '@watson_news'}, {'Titel': 'Botschafter gibt Ueli Maurer auf die Mütze', 'Link': 'http://www.blick.ch/news/politik/nach-italien-besuch-botschafter-gibt-ueli-maurer-eins-auf-die-muetze-id5244241.html', 'Kommentare': 18, 'Date': '2016-Jul-09', 'Site': '@blickch'}, {'Titel': 'Reitschule macht die Schotten dicht', 'Link': 'http://www.20min.ch/schweiz/bern/story/Reitschule-macht-die-Schotten-dicht-18858083', 'Kommentare': 17, 'Date': '2016-Jul-09', 'Site': '@20min'}, {'Titel': 'Sommer, Djourou oder Shaqiri – welcher Schweizer Nati-Spieler bist du?', 'Link': 'http://watson.ch/EM%202016/Sport/114290467-Sommer--Djourou-oder-Shaqiri-%E2%80%93-welcher-Schweizer-Nati-Spieler-bist-du-', 'Kommentare': 17, 'Date': '2016-Jul-09', 'Site': '@watson_news'}, {'Titel': '«Wir messen die SVP an den Worten ihres Asyl-Chefs»', 'Link': 'http://www.blick.ch/news/politik/auch-die-spler-cedric-wermuth-und-mattea-meyer-waren-in-den-gleichen-fluechtlingslagern-wie-andreas-glarner-wir-messen-die-svp-an-den-worten-ihres-asyl-chefs-id5243540.html', 'Kommentare': 17, 'Date': '2016-Jul-09', 'Site': '@blickch'}, {'Titel': 'Für Favre ist die EM «ein Horror»', 'Link': 'http://www.blick.ch/sport/fussball/euro2016/schweizer-coach-mit-rundumschlag-fuer-favre-ist-die-em-ein-horror-id5244852.html', 'Kommentare': 17, 'Date': '2016-Jul-09', 'Site': '@blickch'}, {'Titel': '«Die Franzosen mussten zuerst hungrig werden»', 'Link': 'http://www.20min.ch/em2016/international/story/-Die-Franzosen-mussten-zuerst-hungrig-werden--26682832', 'Kommentare': 15, 'Date': '2016-Jul-09', 'Site': '@20min'}, {'Titel': 'Traumhäuser, in denen Sie garantiert niemand stört', 'Link': 'http://www.20min.ch/immobilien/news/story/Traumhaeuser--in-denen-Sie-garantiert-niemand-stoert-30168917', 'Kommentare': 15, 'Date': '2016-Jul-09', 'Site': '@20min'}, {'Titel': 'Iron Maiden lassen Eddie auf die Smartphones los', 'Link': 'http://www.20min.ch/digital/games/story/Iron-Maiden-lassen-Eddie-auf-die-Smartphones-los-13848126', 'Kommentare': 14, 'Date': '2016-Jul-09', 'Site': '@20min'}, {'Titel': 'Rettet Big Data die Stromkonzerne?', 'Link': 'http://www.20min.ch/schweiz/energy-challenge/story/Rettet-Big-Data-die-Stromkonzerne--19936080', 'Kommentare': 13, 'Date': '2016-Jul-09', 'Site': '@20min'}, {'Titel': 'Was alles noch langsamer ist als Giroud: Kontinentaldrift und Zaza! Die besten User-Kommentare', 'Link': 'http://watson.ch/EM%202016/Sport/618637817-Was-alles-noch-langsamer-ist-als-Giroud--Kontinentaldrift-und-Zaza!-Die-besten-User-Kommentare', 'Kommentare': 13, 'Date': '2016-Jul-09', 'Site': '@watson_news'}, {'Titel': 'Blutrache und Hexerei-Vorwürfe – so spielten sie im Mittelalter Fussball\\xa0', 'Link': 'http://watson.ch/International/Best%20of%20watson/266858657-Blutrache-und-Hexerei-Vorw%C3%BCrfe-%E2%80%93-so-spielten-sie-im-Mittelalter-Fussball-', 'Kommentare': 13, 'Date': '2016-Jul-09', 'Site': '@watson_news'}, {'Titel': 'Fussballstars und ihre Schwestern', 'Link': 'http://www.20min.ch/people/international/story/Fussballstars-und-ihre-Schwestern-26650565', 'Kommentare': 12, 'Date': '2016-Jul-09', 'Site': '@20min'}, {'Titel': '«Saugen statt baggern» – schau mal, was heute bei watson abging', 'Link': 'http://watson.ch/Schweiz/Region%20Z%C3%BCrich/842104468-%C2%ABSaugen-statt-baggern%C2%BB-%E2%80%93-schau-mal--was-heute-bei-watson-abging', 'Kommentare': 11, 'Date': '2016-Jul-09', 'Site': '@watson_news'}, {'Titel': 'Abkühlung auf laotische Art', 'Link': 'http://www.20min.ch/leben/reisen/story/Abkuehlung-auf-laotische-Art-11326167', 'Kommentare': 10, 'Date': '2016-Jul-09', 'Site': '@20min'}, {'Titel': 'Uruguay gewinnt vor Gericht gegen Tabakkonzern Philip Morris', 'Link': 'http://watson.ch/Wirtschaft/International/593392087-Uruguay-gewinnt-vor-Gericht-gegen-Tabakkonzern-Philip-Morris', 'Kommentare': 10, 'Date': '2016-Jul-09', 'Site': '@watson_news'}, {'Titel': 'Frankreichs grosser Vorteil: Die Erinnerung an den Heimtriumph 1998', 'Link': 'http://watson.ch/EM%202016/Sport/765189965-Frankreichs-grosser-Vorteil--Die-Erinnerung-an-den-Heimtriumph-1998', 'Kommentare': 9, 'Date': '2016-Jul-09', 'Site': '@watson_news'}, {'Titel': 'Velo-, Töff- und Cabrio-Fahrer: Wie gut kennst du die Schweizer Pässe?', 'Link': 'http://watson.ch/Schweiz/Quiz/303349143-Velo---T%C3%B6ff--und-Cabrio-Fahrer--Wie-gut-kennst-du-die-Schweizer-P%C3%A4sse-', 'Kommentare': 9, 'Date': '2016-Jul-09', 'Site': '@watson_news'}, {'Titel': 'Röntgengeräte und Gepäckkontrollen gegen den Terror', 'Link': 'http://www.tagesanzeiger.ch/reisen/reisenews/roentgengeraete-und-gepaeckkontrollen-gegen-den-terror/story/22437825', 'Kommentare': 9, 'Date': '2016-Jul-09', 'Site': '@tagesanzeiger'}, {'Titel': 'Stier Lorenzo durchsticht das Herz von Torero Barrio\\xa0– und avanciert im Internet gerade zum Helden', 'Link': 'http://watson.ch/International/Spanien/703508493-Stier-Lorenzo-durchsticht-das-Herz-von-Torero-Barrio-%E2%80%93-und-avanciert-im-Internet-gerade-zum-Helden', 'Kommentare': 8, 'Date': '2016-Jul-09', 'Site': '@watson_news'}, {'Titel': 'Hier kannst du was erleben! 13 extreme Orte der Welt', 'Link': 'http://watson.ch/Wissen/Natur/895008808-Hier-kannst-du-was-erleben!-13-extreme-Orte-der-Welt', 'Kommentare': 8, 'Date': '2016-Jul-09', 'Site': '@watson_news'}, {'Titel': '«Ibracadabras» fauler Zauber und Ladehemmungen bei Müller – die Verlierer der EM', 'Link': 'http://watson.ch/EM%202016/Sport/296295937-%C2%ABIbracadabras%C2%BB-fauler-Zauber-und-Ladehemmungen-bei-M%C3%BCller-%E2%80%93-die-Verlierer-der-EM', 'Kommentare': 7, 'Date': '2016-Jul-09', 'Site': '@watson_news'}, {'Titel': 'Mit diesem Trick finden iPhone-Nutzer heraus, wie gut die Mobilfunk-Verbindung wirklich ist', 'Link': 'http://watson.ch/Digital/Apple/432669373-Mit-diesem-Trick-finden-iPhone-Nutzer-heraus--wie-gut-die-Mobilfunk-Verbindung-wirklich-ist', 'Kommentare': 7, 'Date': '2016-Jul-09', 'Site': '@watson_news'}, {'Titel': 'Wie viel Gift steckt in deinen Kleidern? Hier siehst du, wer sauber und wer dreckig produziert', 'Link': 'http://watson.ch/Wissen/Wirtschaft/830394943-Wie-viel-Gift-steckt-in-deinen-Kleidern--Hier-siehst-du--wer-sauber-und-wer-dreckig-produziert', 'Kommentare': 7, 'Date': '2016-Jul-09', 'Site': '@watson_news'}, {'Titel': '6 TV-Tabus von 1949 und 6 Nacktszenen aus «Game of Thrones» zum Vergleich', 'Link': 'http://watson.ch/Popul%C3%A4rkultur/Nightlife/332657553-6-TV-Tabus-von-1949-und-6-Nacktszenen-aus-%C2%ABGame-of-Thrones%C2%BB-zum-Vergleich', 'Kommentare': 7, 'Date': '2016-Jul-09', 'Site': '@watson_news'}, {'Titel': 'Die Lieblinge der US-Waffenlobby – und warum Politiker die Gewalt nicht in den Griff kriegen', 'Link': 'http://watson.ch/International/Waffen/507591364-Die-Lieblinge-der-US-Waffenlobby-%E2%80%93-und-warum-Politiker-die-Gewalt-nicht-in-den-Griff-kriegen', 'Kommentare': 6, 'Date': '2016-Jul-09', 'Site': '@watson_news'}, {'Titel': '92 Gründe, die (leider) absolut dagegen sprechen, dass du dich dieses Wochenende besäufst', 'Link': 'http://watson.ch/Popul%C3%A4rkultur/Nightlife/102617779-92-Gr%C3%BCnde--die-%28leider%29-absolut-dagegen-sprechen--dass-du-dich-dieses-Wochenende-bes%C3%A4ufst', 'Kommentare': 6, 'Date': '2016-Jul-09', 'Site': '@watson_news'}, {'Titel': 'Superkanone V3: Wie ein Kennedy Hitlers Hochdruckpumpe ausschalten sollte', 'Link': 'http://watson.ch/Wissen/History/783683165-Superkanone-V3--Wie-ein-Kennedy-Hitlers-Hochdruckpumpe-ausschalten-sollte', 'Kommentare': 6, 'Date': '2016-Jul-09', 'Site': '@watson_news'}, {'Titel': 'Weltmeister mit Ladehemmungen – Deutschland fehlt an der EM die Kälte vor dem Tor', 'Link': 'http://watson.ch/EM%202016/Sport/132157065-Weltmeister-mit-Ladehemmungen-%E2%80%93-Deutschland-fehlt-an-der-EM-die-K%C3%A4lte-vor-dem-Tor', 'Kommentare': 6, 'Date': '2016-Jul-09', 'Site': '@watson_news'}, {'Titel': 'Aufgepasst! Bund warnt vor versandten Microsoft-Office-Dokumenten', 'Link': 'http://watson.ch/Digital/articles/316963171-Aufgepasst!-Bund-warnt-vor-versandten-Microsoft-Office-Dokumenten', 'Kommentare': 6, 'Date': '2016-Jul-09', 'Site': '@watson_news'}, {'Titel': 'Muss die britische Premierministerin Mutter sein? Kinderlose Theresa May wird angegriffen', 'Link': 'http://watson.ch/International/Brexit/961175614-Muss-die-britische-Premierministerin-Mutter-sein--Kinderlose-Theresa-May-wird-angegriffen', 'Kommentare': 5, 'Date': '2016-Jul-09', 'Site': '@watson_news'}, {'Titel': 'Vereint gegen Putin und den IS', 'Link': 'http://www.blick.ch/news/ausland/nato-gipfel-in-warschau-vereint-gegen-putin-und-den-is-id5244703.html', 'Kommentare': 5, 'Date': '2016-Jul-09', 'Site': '@blickch'}, {'Titel': 'Auf Erkundung in der Olympia-Stadt', 'Link': 'http://www.blick.ch/life/reisen/fernweh/rio-de-janeiro-tipps-und-infos-auf-erkundung-in-der-olympia-stadt-id5225525.html', 'Kommentare': 5, 'Date': '2016-Jul-09', 'Site': '@blickch'}, {'Titel': '«20 Minuten»-Website soll erneut Malware verbreiten – Tamedia dementiert', 'Link': 'http://watson.ch/Digital/Schweiz/919902150-%C2%AB20-Minuten%C2%BB-Website-soll-erneut-Malware-verbreiten-%E2%80%93-Tamedia-dementiert', 'Kommentare': 4, 'Date': '2016-Jul-09', 'Site': '@watson_news'}, {'Titel': 'Bale oder Ronaldo? 12 Fragen, die nur echte Profis beantworten können', 'Link': 'http://watson.ch/EM%202016/Sport/738132844-Bale-oder-Ronaldo--12-Fragen--die-nur-echte-Profis-beantworten-k%C3%B6nnen', 'Kommentare': 4, 'Date': '2016-Jul-09', 'Site': '@watson_news'}, {'Titel': 'Diese Frau scheitert 6 Minuten lang am Einparkieren', 'Link': 'http://www.blick.ch/video/viral/achtung-fremdschaem-gefahr-diese-frau-scheitert-6-minuten-lang-am-einparkieren-id5217917.html', 'Kommentare': 4, 'Date': '2016-Jul-09', 'Site': '@blickch'}, {'Titel': 'Pasta hält schlank', 'Link': 'http://www.blick.ch/gesundheit/ernaehrung/gute-nachricht-mit-haken-pasta-haelt-schlank-id5236973.html', 'Kommentare': 4, 'Date': '2016-Jul-09', 'Site': '@blickch'}, {'Titel': 'Früchte und Gemüse sind teurer', 'Link': 'http://www.blick.ch/news/wirtschaft/steigende-konsumentenpreise-fruechte-und-gemuese-sind-teurer-id5238886.html', 'Kommentare': 4, 'Date': '2016-Jul-09', 'Site': '@blickch'}, {'Titel': 'Der amerikanische Albtraum', 'Link': 'http://www.blick.ch/news/ausland/massaker-an-polizisten-in-dallas-der-amerikanische-albtraum-id5243659.html', 'Kommentare': 4, 'Date': '2016-Jul-09', 'Site': '@blickch'}, {'Titel': 'Nope! Britische Regierung will keine erneute Abstimmung über den Brexit', 'Link': 'http://watson.ch/International/Brexit/679336508-Nope!-Britische-Regierung-will-keine-erneute-Abstimmung-%C3%BCber-den-Brexit', 'Kommentare': 3, 'Date': '2016-Jul-09', 'Site': '@watson_news'}, {'Titel': '«Wie Champions!» und «Bonne nuit, Schweini!» – die Pressestimmen zu Frankreichs Triumph gegen Deutschland', 'Link': 'http://watson.ch/EM%202016/Sport/923011686-%C2%ABWie-Champions!%C2%BB-und-%C2%ABBonne-nuit--Schweini!%C2%BB-%E2%80%93-die-Pressestimmen-zu-Frankreichs-Triumph-gegen-Deutschland', 'Kommentare': 3, 'Date': '2016-Jul-09', 'Site': '@watson_news'}, {'Titel': 'Der Umgang von Facebook mit Hass-Kommentaren ist so intransparent wie die FIFA und Putin', 'Link': 'http://watson.ch/Digital/International/717987921-Der-Umgang-von-Facebook-mit-Hass-Kommentaren-ist-so-intransparent-wie-die-FIFA-und-Putin', 'Kommentare': 3, 'Date': '2016-Jul-09', 'Site': '@watson_news'}, {'Titel': 'Mit rauschender Abfahrt überrascht Chris Froome seine Konkurrenten – der Brite ist neuer Leader', 'Link': 'http://watson.ch/Sport/Velo/400725078-Mit-rauschender-Abfahrt-%C3%BCberrascht-Chris-Froome-seine-Konkurrenten-%E2%80%93-der-Brite-ist-neuer-Leader', 'Kommentare': 3, 'Date': '2016-Jul-09', 'Site': '@watson_news'}, {'Titel': 'Zum Open Air Frauenfeld: Erkennst du all diese Rap-Songs anhand einer Grafik?', 'Link': 'http://watson.ch/Popul%C3%A4rkultur/Musik/568267612-Zum-Open-Air-Frauenfeld--Erkennst-du-all-diese-Rap-Songs-anhand-einer-Grafik-', 'Kommentare': 3, 'Date': '2016-Jul-09', 'Site': '@watson_news'}, {'Titel': 'Schaun mer mal, wie gut du aufgepasst hast: Kennst du die Stadien der EM 2016?', 'Link': 'http://watson.ch/EM%202016/Sport/330455847-Schaun-mer-mal--wie-gut-du-aufgepasst-hast--Kennst-du-die-Stadien-der-EM-2016-', 'Kommentare': 2, 'Date': '2016-Jul-09', 'Site': '@watson_news'}, {'Titel': 'Der Geniestreich von Froome', 'Link': 'http://www.tagesanzeiger.ch/sport/rad/der-geniestreich-von-froome/story/15109935', 'Kommentare': 2, 'Date': '2016-Jul-09', 'Site': '@tagesanzeiger'}, {'Titel': 'Amerika ist im Unreinen mit sich', 'Link': 'http://www.tagesanzeiger.ch/ausland/amerika/amerika-ist-im-unreinen-mit-sich/story/15773675', 'Kommentare': 2, 'Date': '2016-Jul-09', 'Site': '@tagesanzeiger'}, {'Titel': 'Keiner kümmert sich um die CS', 'Link': 'http://www.blick.ch/news/wirtschaft/blickwechsel-von-chefpublizist-rene-luechinger-keiner-kuemmert-sich-um-die-cs-id5244453.html', 'Kommentare': 2, 'Date': '2016-Jul-09', 'Site': '@blickch'}, {'Titel': 'Schnabeln geht vor Federer schauen', 'Link': 'http://www.blick.ch/people-tv/international/heidi-klum-und-vito-auf-der-wimbledon-tribuehne-schnabeln-geht-vor-federer-schauen-id5244574.html', 'Kommentare': 2, 'Date': '2016-Jul-09', 'Site': '@blickch'}, {'Titel': 'Die neue E-Klasse überzeugt', 'Link': 'http://www.blick.ch/auto/news_n_trends/auto-umweltliste-mit-sommer-update-die-neue-e-klasse-ueberzeugt-id5236859.html', 'Kommentare': 2, 'Date': '2016-Jul-09', 'Site': '@blickch'}, {'Titel': 'Schweizer Tennis-Bösewicht nutzt Regel-Witz', 'Link': 'http://www.blick.ch/sport/tennis/gesperrter-yann-marti-28-schweizer-tennis-boesewicht-nutzt-regel-witz-id5244969.html', 'Kommentare': 2, 'Date': '2016-Jul-09', 'Site': '@blickch'}, {'Titel': 'Dieser Muslim macht Rassisten lächerlich', 'Link': 'http://www.blick.ch/news/satire-projekt-datteltaeter-gegen-islamophobie-dieser-muslim-macht-die-npd-laecherlich-id5236025.html', 'Kommentare': 2, 'Date': '2016-Jul-09', 'Site': '@blickch'}, {'Titel': 'Zuwanderung \\x96 Bund billigt kantonale Willkür', 'Link': 'http://www.20min.ch/schweiz/news/story/Zuwanderung---Bund-billigt-kantonale-Willkuer-27832223', 'Kommentare': 1, 'Date': '2016-Jul-09', 'Site': '@20min'}, {'Titel': 'Verrückter Vater hält Sohn zwei Jahre lang gefangen', 'Link': 'http://www.20min.ch/panorama/news/story/Verrueckter-Vater-haelt-Sohn-zwei-Jahre-lang-gefangen-15336572', 'Kommentare': 1, 'Date': '2016-Jul-09', 'Site': '@20min'}, {'Titel': 'An die Premiere von Spielbergs neustem Film «BFG»', 'Link': 'http://www.20min.ch/panorama/wettbewerbe/story/An-die-Premiere-von-Spielbergs-neustem-Film--BFG--21874718', 'Kommentare': 1, 'Date': '2016-Jul-09', 'Site': '@20min'}, {'Titel': 'Ratten-Zellen treiben Roboter-Rochen an', 'Link': 'http://www.20min.ch/wissen/news/story/Ratten-Zellen-treiben-Roboter-Rochen-an-21280587', 'Kommentare': 1, 'Date': '2016-Jul-09', 'Site': '@20min'}, {'Titel': 'Falsche Virenwarnung für 20min.ch', 'Link': 'http://www.20min.ch/digital/news/story/Falsche-Virenwarnung-fuer-20min-ch-11347989', 'Kommentare': 1, 'Date': '2016-Jul-09', 'Site': '@20min'}, {'Titel': 'Es bleibt beim Brexit', 'Link': 'http://www.20min.ch/ausland/news/story/Es-bleibt-beim-Brexit-27083212', 'Kommentare': 1, 'Date': '2016-Jul-09', 'Site': '@20min'}, {'Titel': '19-Jährige zeigt ihren Mobbern den Stinkefinger', 'Link': 'http://www.20min.ch/tilllate/redirect.tmpl?storyurl=/jugend/tilllate/story/19-Jaehrige-zeigt-ihren-Mobbern-den-Stinkefinger-13744207&tilllateurl=http://ch.tilllate.com/de/story/emilie-gemobbt-frankreich?ref=20min-story', 'Kommentare': 1, 'Date': '2016-Jul-09', 'Site': '@20min'}, {'Titel': 'Erdogan lässt Merkel abblitzen', 'Link': 'http://www.20min.ch/ausland/news/story/Erdogan-laesst-Merkel-abblitzen-21255868', 'Kommentare': 1, 'Date': '2016-Jul-09', 'Site': '@20min'}, {'Titel': 'Lawine reisst Alpinisten 100 Meter in die Tiefe', 'Link': 'http://www.20min.ch/schweiz/ostschweiz/story/Lawine-reisst-Alpinisten-100-Meter-in-die-Tiefe-16634980', 'Kommentare': 1, 'Date': '2016-Jul-09', 'Site': '@20min'}, {'Titel': 'Wiz Khalifa lässt am Frauenfeld Joints tanzen', 'Link': 'http://www.20min.ch/sogehtsommer/festival/story/Wiz-Khalifa-laesst-am-Frauenfeld-Joints-tanzen-29025242', 'Kommentare': 1, 'Date': '2016-Jul-09', 'Site': '@20min'}, {'Titel': 'IS-Kämpfer schiessen russischen Helikopter ab', 'Link': 'http://www.20min.ch/ausland/news/story/IS-Kaempfer-schiessen-russischen-Helikopter-ab-27134052', 'Kommentare': 1, 'Date': '2016-Jul-09', 'Site': '@20min'}, {'Titel': 'Tausende Polizisten sichern Champs-Elysées', 'Link': 'http://www.20min.ch/em2016/international/story/Tausende-Polizisten-sichern-Champs-Elysees-24896151', 'Kommentare': 1, 'Date': '2016-Jul-09', 'Site': '@20min'}, {'Titel': 'Mit Schnelligkeit und Helikoptern gegen Ronaldo', 'Link': 'http://www.20min.ch/em2016/international/story/Mit-Schnelligkeit-und-Helikoptern-gegen-Ronaldo-18855456', 'Kommentare': 1, 'Date': '2016-Jul-09', 'Site': '@20min'}, {'Titel': \"Kämpfe gegen 13'000 Leser um die Quiz-Krone!\", 'Link': 'http://www.20min.ch/em2016/leser/story/Kaempfe-gegen-13-000-Leser-um-die-Quiz-Krone--20261389', 'Kommentare': 1, 'Date': '2016-Jul-09', 'Site': '@20min'}, {'Titel': 'Waffennarr, Soldat, Einzelgänger', 'Link': 'http://www.20min.ch/panorama/news/story/Waffennarr--Soldat--Einzelgaenger-21699602', 'Kommentare': 1, 'Date': '2016-Jul-09', 'Site': '@20min'}, {'Titel': '«Es waren einfach so viele Schüsse»', 'Link': 'http://www.20min.ch/panorama/news/story/-Es-waren-einfach-so-viele-Schuesse--25254476', 'Kommentare': 1, 'Date': '2016-Jul-09', 'Site': '@20min'}, {'Titel': 'Hunde fressen Katze \\x96 Besitzer verurteilt', 'Link': 'http://www.20min.ch/schweiz/romandie/story/Hunde-fressen-Katze---Besitzer-verurteilt-16110994', 'Kommentare': 1, 'Date': '2016-Jul-09', 'Site': '@20min'}, {'Titel': \"14'600 Arztbesuche wegen Zeckenstichen\", 'Link': 'http://www.20min.ch/schweiz/news/story/14-600-Arztbesuche-wegen-Zeckenstichen-29243939', 'Kommentare': 1, 'Date': '2016-Jul-09', 'Site': '@20min'}, {'Titel': '14 Festnahmen nach Schlägereien im Kreis 4', 'Link': 'http://www.20min.ch/schweiz/zuerich/story/14-Festnahmen-nach-Schlaegereien-im-Kreis-4-29597884', 'Kommentare': 1, 'Date': '2016-Jul-09', 'Site': '@20min'}, {'Titel': '50 Hotelgäste wegen defektem Föhn evakuiert', 'Link': 'http://www.20min.ch/schweiz/basel/story/50-Hotelgaeste-wegen-defektem-Foehn-evakuiert-12200495', 'Kommentare': 1, 'Date': '2016-Jul-09', 'Site': '@20min'}, {'Titel': '15-Jähriger flüchtet mit BMW der Eltern vor Polizei', 'Link': 'http://www.20min.ch/schweiz/ostschweiz/story/15-Jaehriger-fluechtet-mit-BMW-der-Eltern-vor-Polizei-29452419', 'Kommentare': 1, 'Date': '2016-Jul-09', 'Site': '@20min'}, {'Titel': 'Merkel setzt sich für Schweinebraten ein', 'Link': 'http://www.20min.ch/ausland/news/story/Merkel-setzt-sich-fuer-Schweinebraten-ein-17388562', 'Kommentare': 1, 'Date': '2016-Jul-09', 'Site': '@20min'}, {'Titel': 'Nordkorea feuert Rakete von U-Boot aus ab', 'Link': 'http://www.20min.ch/ausland/news/story/Nordkorea-feuert-Rakete-von-U-Boot-aus-ab-30317018', 'Kommentare': 1, 'Date': '2016-Jul-09', 'Site': '@20min'}, {'Titel': 'Macht euren Move und werdet #Poolhero', 'Link': 'http://www.20min.ch/tilllate/redirect.tmpl?storyurl=/sponsored/stories/story/Macht-euren-Move-und-werdet--Poolhero-24354126&tilllateurl=http://ch.tilllate.com/de/sponsoredcontent/poolhero', 'Kommentare': 1, 'Date': '2016-Jul-09', 'Site': '@20min'}, {'Titel': 'Nato schickt Aufklärungs-Flieger in Kampf gegen IS', 'Link': 'http://www.20min.ch/ausland/news/story/Nato-schickt-Aufklaerungs-Flieger-in-Kampf-gegen-IS-19323330', 'Kommentare': 1, 'Date': '2016-Jul-09', 'Site': '@20min'}, {'Titel': 'Polizist schreibt einen Brief an Kanzlerin Merkel', 'Link': 'http://www.20min.ch/ausland/news/story/Polizist-schreibt-einen-Brief-an-Kanzlerin-Merkel-14399162', 'Kommentare': 1, 'Date': '2016-Jul-09', 'Site': '@20min'}, {'Titel': 'Die Bilder des Tages', 'Link': 'http://www.20min.ch/ausland/news/story/Die-Bilder-des-Tages-21261077', 'Kommentare': 1, 'Date': '2016-Jul-09', 'Site': '@20min'}, {'Titel': 'Unterwasser-Gurken für die US-Marine', 'Link': 'http://www.20min.ch/panorama/news/story/Unterwasser-Gurken-fuer-die-US-Marine-26481993', 'Kommentare': 1, 'Date': '2016-Jul-09', 'Site': '@20min'}, {'Titel': 'Neunjährige lockte Horror-Vater in die Falle', 'Link': 'http://www.20min.ch/panorama/news/story/Neunjaehrige-lockte-Horror-Vater-in-die-Falle-22621546', 'Kommentare': 1, 'Date': '2016-Jul-09', 'Site': '@20min'}, {'Titel': 'Hunderttausende fliehen vor Tropensturm', 'Link': 'http://www.20min.ch/panorama/news/story/Hunderttausende-fliehen-vor-Tropensturm-28301032', 'Kommentare': 1, 'Date': '2016-Jul-09', 'Site': '@20min'}, {'Titel': 'Wie Frauen auf Sex-Portalen erobert werden wollen!', 'Link': 'http://www.20min.ch/sponsored/erotik/story/Wie-Frauen-auf-Sex-Portalen-erobert-werden-wollen--15390283', 'Kommentare': 1, 'Date': '2016-Jul-09', 'Site': '@20min'}, {'Titel': 'Ist «El Chapo» schon wieder getürmt?', 'Link': 'http://www.20min.ch/panorama/news/story/Ist--El-Chapo--schon-wieder-getuermt--22452321', 'Kommentare': 1, 'Date': '2016-Jul-09', 'Site': '@20min'}, {'Titel': 'Arbeitslosenquote sinkt auf 3,1 Prozent', 'Link': 'http://www.20min.ch/finance/news/story/Arbeitslosenquote-sinkt-auf-3-1-Prozent-21396042', 'Kommentare': 1, 'Date': '2016-Jul-09', 'Site': '@20min'}, {'Titel': 'US-Steuerbehörde geht gegen Facebook vor', 'Link': 'http://www.20min.ch/finance/news/story/US-Steuerbehoerde-geht-gegen-Facebook-vor-26729290', 'Kommentare': 1, 'Date': '2016-Jul-09', 'Site': '@20min'}, {'Titel': 'Tulpenzwiebeln und Zoggeli für das Bronze-Duo', 'Link': 'http://www.20min.ch/sport/weitere/story/Tulpenzwiebeln-und-Zoggeli-fuer-das-Bronze-Duo-12011822', 'Kommentare': 1, 'Date': '2016-Jul-09', 'Site': '@20min'}, {'Titel': 'Kummers vertane Chance', 'Link': 'http://www.20min.ch/people/schweiz/story/Kummers-vertane-Chance-13930022', 'Kommentare': 1, 'Date': '2016-Jul-09', 'Site': '@20min'}, {'Titel': 'Weniger Album-Verkäufe, aber mehr Song-Streams', 'Link': 'http://www.20min.ch/entertainment/musik/story/Weniger-Album-Verkaeufe--aber-mehr-Song-Streams-20805405', 'Kommentare': 1, 'Date': '2016-Jul-09', 'Site': '@20min'}, {'Titel': 'Warum sitzt ihr so lange auf der Toilette?', 'Link': 'http://www.20min.ch/tilllate/redirect.tmpl?storyurl=/jugend/tilllate/story/Warum-sitzt-ihr-so-lange-auf-der-Toilette--28877699&tilllateurl=http://ch.tilllate.com/de/story/frauen-fragen-m%C3%A4nner?ref=20min-story', 'Kommentare': 1, 'Date': '2016-Jul-09', 'Site': '@20min'}, {'Titel': 'Wir drehen am Rad! Pokémon ist zurück!', 'Link': 'http://www.20min.ch/tilllate/redirect.tmpl?storyurl=/jugend/tilllate/story/Wir-drehen-am-Rad--Pokemon-ist-zurueck--16422951&tilllateurl=http://ch.tilllate.com/de/story/pokemon-go?ref=20min-story', 'Kommentare': 1, 'Date': '2016-Jul-09', 'Site': '@20min'}, {'Titel': 'Wo steht die beste Wasserrutschbahn?', 'Link': 'http://www.20min.ch/community/stories/story/Wo-steht-die-beste-Wasserrutschbahn--20361694', 'Kommentare': 1, 'Date': '2016-Jul-09', 'Site': '@20min'}, {'Titel': 'Schicken Sie uns Ihren schönsten Kuss-Clip', 'Link': 'http://www.20min.ch/play/yourturn/story/Schicken-Sie-uns-Ihren-schoensten-Kuss-Clip-26918205', 'Kommentare': 1, 'Date': '2016-Jul-09', 'Site': '@20min'}, {'Titel': 'Drei traumhafte Sommersalate', 'Link': 'http://www.friday-magazine.ch/de/2016/07/09/drei-traumhafte-sommersalate.html', 'Kommentare': 1, 'Date': '2016-Jul-09', 'Site': '@20min'}, {'Titel': 'Wassermelone steht uns!', 'Link': 'http://www.friday-magazine.ch/de/2016/07/08/wassermelone-steht-uns.html', 'Kommentare': 1, 'Date': '2016-Jul-09', 'Site': '@20min'}, {'Titel': 'Die Seele baumeln lassen', 'Link': 'http://www.20min.ch/sponsored/stories/story/Die-Seele-baumeln-lassen-20498203', 'Kommentare': 1, 'Date': '2016-Jul-09', 'Site': '@20min'}, {'Titel': 'Auf zur Schatzsuche im Bike-Paradies Verbier', 'Link': 'http://www.20min.ch/sponsored/story/27248207', 'Kommentare': 1, 'Date': '2016-Jul-09', 'Site': '@20min'}, {'Titel': 'Bund warnt vor Microsoft-Office-Dokumenten', 'Link': 'http://www.20min.ch/digital/news/story/Bund-warnt-vor-Microsoft-Office-Dokumenten-22354082', 'Kommentare': 1, 'Date': '2016-Jul-09', 'Site': '@20min'}, {'Titel': 'Surfen in den bitterkalten Fluten', 'Link': 'http://www.20min.ch/leben/reisen/story/Surfen-in-den-bitterkalten-Fluten-22454003', 'Kommentare': 1, 'Date': '2016-Jul-09', 'Site': '@20min'}, {'Titel': 'Hotels zum halben Preis', 'Link': 'http://www.20min.ch/sponsored/stories/story/Hotels-zum-halben-Preis-14231766', 'Kommentare': 1, 'Date': '2016-Jul-09', 'Site': '@20min'}, {'Titel': 'Tschüss, ihr Loser, ich bin dann mal am Strand!', 'Link': 'http://www.20min.ch/leben/reisen/story/Tschuess--ihr-Loser--ich-bin-dann-mal-am-Strand--19861860', 'Kommentare': 1, 'Date': '2016-Jul-09', 'Site': '@20min'}, {'Titel': 'Australien \\x96 ein langersehnter Traum', 'Link': 'http://www.20min.ch/leben/dossier/publiblog/story/Australien---ein-langersehnter-Traum-13592535', 'Kommentare': 1, 'Date': '2016-Jul-09', 'Site': '@20min'}, {'Titel': 'Allianz Cinema Basel: Preisreduktion auf Vorpremieren', 'Link': 'http://www.20min.ch/panorama/wettbewerbe/story/Allianz-Cinema-Basel--Preisreduktion-auf-Vorpremieren-14485260', 'Kommentare': 1, 'Date': '2016-Jul-09', 'Site': '@20min'}, {'Titel': 'Dieser Wagen sucht einen neuen Besitzer', 'Link': 'http://www.20min.ch/panorama/wettbewerbe/story/Dieser-Wagen-sucht-einen-neuen-Besitzer-14882794', 'Kommentare': 1, 'Date': '2016-Jul-09', 'Site': '@20min'}, {'Titel': 'Zur exklusiven 20-Minuten-Vorpremiere von «Pets»', 'Link': 'http://www.20min.ch/panorama/wettbewerbe/story/12389275', 'Kommentare': 1, 'Date': '2016-Jul-09', 'Site': '@20min'}, {'Titel': 'Wir schicken dich als VIP ans Zürich Openair!', 'Link': 'http://www.20min.ch/tilllate/redirect.tmpl?storyurl=/panorama/wettbewerbe/story/Wir-schicken-dich-als-VIP-ans-Zuerich-Openair--30235625&tilllateurl=http://ch.tilllate.com/de/promo/zurichopenair2016', 'Kommentare': 1, 'Date': '2016-Jul-09', 'Site': '@20min'}, {'Titel': 'Mit Sack, Pack und Family ab nach Florida', 'Link': 'http://www.20min.ch/panorama/wettbewerbe/story/Mit-Sack--Pack-und-Family-ab-nach-Florida-12733243', 'Kommentare': 1, 'Date': '2016-Jul-09', 'Site': '@20min'}, {'Titel': 'Wir schicken dich als VIP ans Zürich Openair!', 'Link': 'http://www.20min.ch/panorama/wettbewerbe/story/Wir-schicken-dich-als-VIP-ans-Zuerich-Openair--16430091', 'Kommentare': 1, 'Date': '2016-Jul-09', 'Site': '@20min'}, {'Titel': 'Unbekannte Räuber schlagen in Basel zweimal zu', 'Link': 'http://watson.ch/Schweiz/Blaulicht/956628610-Unbekannte-R%C3%A4uber-schlagen-in-Basel-zweimal-zu', 'Kommentare': 1, 'Date': '2016-Jul-09', 'Site': '@watson_news'}, {'Titel': 'Serena Williams triumphiert in Wimbledon und egalisiert Grand-Slam-Rekord von Steffi Graf', 'Link': 'http://watson.ch/Sport/Tennis/423982667-Serena-Williams-triumphiert-in-Wimbledon-und-egalisiert-Grand-Slam-Rekord-von-Steffi-Graf', 'Kommentare': 1, 'Date': '2016-Jul-09', 'Site': '@watson_news'}, {'Titel': 'Vor diesem Kuharsch flüchten sogar die Löwen', 'Link': 'http://watson.ch/Wissen/Tier/820915706-Vor-diesem-Kuharsch-fl%C3%BCchten-sogar-die-L%C3%B6wen', 'Kommentare': 1, 'Date': '2016-Jul-09', 'Site': '@watson_news'}, {'Titel': 'Kummers vertane Chance', 'Link': 'http://www.tagesanzeiger.ch/kultur/kummers-vertane-chance/story/24922206', 'Kommentare': 1, 'Date': '2016-Jul-09', 'Site': '@tagesanzeiger'}, {'Titel': 'Armee befördert Rechtsextremisten', 'Link': 'http://www.blick.ch/news/pnos-chef-und-leutnant-armee-befoerdert-rechtsextremisten-id5245925.html', 'Kommentare': 1, 'Date': '2016-Jul-09', 'Site': '@blickch'}, {'Titel': 'Kajakfahrer trifft Riesenhai', 'Link': 'http://www.blick.ch/video/viral/nur-der-walhai-ist-groesser-kajakfahrer-trifft-riesenhai-id5165574.html', 'Kommentare': 1, 'Date': '2016-Jul-09', 'Site': '@blickch'}, {'Titel': 'Hier kann man jetzt Therapeuten und Ärzte online bewerten', 'Link': 'http://www.blick.ch/news/wirtschaft/neues-vergleichsportal-hier-kann-man-jetzt-therapeuten-und-aerzte-online-bewerten-id5211410.html', 'Kommentare': 1, 'Date': '2016-Jul-09', 'Site': '@blickch'}, {'Titel': 'Portugal-Star Guerreiro kann nicht mal Portugiesisch!', 'Link': 'http://www.blick.ch/sport/fussball/euro2016/er-gab-frankreich-einen-korb-portugal-star-guerreiro-kann-nicht-mal-portugiesisch-id5244585.html', 'Kommentare': 1, 'Date': '2016-Jul-09', 'Site': '@blickch'}, {'Titel': 'So gefährlich ist der Sommer!', 'Link': 'http://www.blick.ch/news/schweiz/tuecken-des-schoenen-wetters-so-gefaehrlich-ist-der-sommer-id5242276.html', 'Kommentare': 1, 'Date': '2016-Jul-09', 'Site': '@blickch'}, {'Titel': 'London lehnt zweites EU-Referendum ab', 'Link': 'http://www.blick.ch/news/ausland/kein-exit-vom-brexit-london-lehnt-zweites-eu-referendum-ab-id5245666.html', 'Kommentare': 1, 'Date': '2016-Jul-09', 'Site': '@blickch'}, {'Titel': 'Hamilton schnappt sich die Silverstone-Pole!', 'Link': 'http://www.blick.ch/sport/formel1/f1-qualifying-in-silverstone-schnappt-sich-hamilton-die-pole-im-heimrennen-id5244452.html', 'Kommentare': 1, 'Date': '2016-Jul-09', 'Site': '@blickch'}, {'Titel': 'IS schiesst russischen Helikopter ab', 'Link': 'http://www.blick.ch/news/ausland/zwei-piloten-sterben-is-schiesst-russischen-helikopter-ab-id5245683.html', 'Kommentare': 1, 'Date': '2016-Jul-09', 'Site': '@blickch'}, {'Titel': 'Ikea will jetzt Luxus-Möbel bauen', 'Link': 'http://www.blick.ch/news/wirtschaft/keine-wegwerfprodukte-mehr-ikea-will-jetzt-luxus-moebel-bauen-id5228741.html', 'Kommentare': 1, 'Date': '2016-Jul-09', 'Site': '@blickch'}, {'Titel': 'Jetzt kommt der Super-Ferrari oben ohne', 'Link': 'http://www.blick.ch/auto/news_n_trends/ferrari-laferrari-jetzt-kommt-der-super-ferrari-oben-ohne-id5236787.html', 'Kommentare': 1, 'Date': '2016-Jul-09', 'Site': '@blickch'}, {'Titel': 'Lawine aus Schnee und Geröll verletzt fünf Wanderer am Säntis', 'Link': 'http://watson.ch/Schweiz/Ostschweiz/867903820-Lawine-aus-Schnee-und-Ger%C3%B6ll-verletzt-f%C3%BCnf-Wanderer-am-S%C3%A4ntis', 'Kommentare': 0, 'Date': '2016-Jul-09', 'Site': '@watson_news'}, {'Titel': 'Schweizer Nachrichtendienst lieferte letztes Jahr 4500 Meldungen an ausländische Geheimdienste', 'Link': 'http://watson.ch/Schweiz/Geheimdienste/261148775-Schweizer-Nachrichtendienst-lieferte-letztes-Jahr-4500-Meldungen-an-ausl%C3%A4ndische-Geheimdienste', 'Kommentare': 0, 'Date': '2016-Jul-09', 'Site': '@watson_news'}, {'Titel': 'Nach Dallas und dem Fall Alton Sterling geht in den USA die Furcht vor neuer Gewalt um', 'Link': 'http://watson.ch/International/USA/996798212-Nach-Dallas-und-dem-Fall-Alton-Sterling-geht-in-den-USA-die-Furcht-vor-neuer-Gewalt-um', 'Kommentare': 0, 'Date': '2016-Jul-09', 'Site': '@watson_news'}, {'Titel': 'Medizinische Einweg-Handschuhe in der Schweiz mit Bakterien verseucht', 'Link': 'http://watson.ch/Schweiz/Gesundheit/814710699-Medizinische-Einweg-Handschuhe-in-der-Schweiz-mit-Bakterien-verseucht', 'Kommentare': 0, 'Date': '2016-Jul-09', 'Site': '@watson_news'}, {'Titel': 'Wenn du gegen die Wand läufst: Das steckt hinter dem «Hungerast» und so kannst du ihn vermeiden', 'Link': 'http://watson.ch/Wissen/Fit%20for%20Life/450154897-Wenn-du-gegen-die-Wand-l%C3%A4ufst--Das-steckt-hinter-dem-%C2%ABHungerast%C2%BB-und-so-kannst-du-ihn-vermeiden', 'Kommentare': 0, 'Date': '2016-Jul-09', 'Site': '@watson_news'}, {'Titel': '«Der Krieg muss enden»: Das sagt Beyoncé zu den jüngsten Fällen tödlicher Polizeigewalt', 'Link': 'http://watson.ch/Popul%C3%A4rkultur/International/624074616-%C2%ABDer-Krieg-muss-enden%C2%BB--Das-sagt-Beyonc%C3%A9-zu-den-j%C3%BCngsten-F%C3%A4llen-t%C3%B6dlicher-Polizeigewalt', 'Kommentare': 0, 'Date': '2016-Jul-09', 'Site': '@watson_news'}, {'Titel': 'Knackeboul, der alte Freestyler, hat nur für dich gerappt! Hier sein Werk zum Nachgeniessen\\xa0', 'Link': 'http://watson.ch/Popul%C3%A4rkultur/Musik/824078128-Knackeboul--der-alte-Freestyler--hat-nur-f%C3%BCr-dich-gerappt!-Hier-sein-Werk-zum-Nachgeniessen-', 'Kommentare': 0, 'Date': '2016-Jul-09', 'Site': '@watson_news'}, {'Titel': 'Bundesrat billigt bei Zuwanderung kantonale Willkür', 'Link': 'http://www.tagesanzeiger.ch/schweiz/standard/bundesrat-billigt-bei-zuwanderung-kantonale-willkuer/story/30518816', 'Kommentare': 0, 'Date': '2016-Jul-09', 'Site': '@tagesanzeiger'}, {'Titel': 'Polizeizentrale von Dallas nach anonymer Drohung abgeriegelt', 'Link': 'http://www.tagesanzeiger.ch/ausland/amerika/ein-beamter-bei-protest-in-dallas-erschossen/story/17524444', 'Kommentare': 0, 'Date': '2016-Jul-09', 'Site': '@tagesanzeiger'}, {'Titel': 'Lawine reisst Alpinisten am Säntis 100 Meter in die Tiefe', 'Link': 'http://www.tagesanzeiger.ch/panorama/vermischtes/mehrere-regahelikopter-im-einsatz-am-saentis/story/24342246', 'Kommentare': 0, 'Date': '2016-Jul-09', 'Site': '@tagesanzeiger'}, {'Titel': 'Erdogan lässt Merkel abblitzen', 'Link': 'http://www.tagesanzeiger.ch/ausland/europa/erdogan-laesst-merkel-abblitzen/story/24666963', 'Kommentare': 0, 'Date': '2016-Jul-09', 'Site': '@tagesanzeiger'}, {'Titel': 'Nothilfe per SMS', 'Link': 'http://www.tagesanzeiger.ch/zuerich/stadt/nothilfe-per-sms/story/19798839', 'Kommentare': 0, 'Date': '2016-Jul-09', 'Site': '@tagesanzeiger'}, {'Titel': '14 Festnahmen nach Schlägereien im Kreis 4', 'Link': 'http://www.tagesanzeiger.ch/zuerich/stadt/14-festnahmen-nach-schlaegereien-im-kreis-4/story/12498936', 'Kommentare': 0, 'Date': '2016-Jul-09', 'Site': '@tagesanzeiger'}, {'Titel': 'Mobility-Pricing? Ihre Meinung ist gefragt!', 'Link': 'http://www.tagesanzeiger.ch/schweiz/standard/mobilitypricing-ihre-meinung-ist-gefragt/story/18282591', 'Kommentare': 0, 'Date': '2016-Jul-09', 'Site': '@tagesanzeiger'}, {'Titel': 'Reitschule macht die Schotten dicht', 'Link': 'http://www.tagesanzeiger.ch/bern/stadt/reitschule-macht-die-schotten-dicht/story/23949199', 'Kommentare': 0, 'Date': '2016-Jul-09', 'Site': '@tagesanzeiger'}, {'Titel': 'Neue Beschwerde gegen Mühleberg', 'Link': 'http://www.tagesanzeiger.ch/schweiz/standard/neue-beschwerde-gegen-muehleberg/story/26959789', 'Kommentare': 0, 'Date': '2016-Jul-09', 'Site': '@tagesanzeiger'}, {'Titel': 'Harter Schlag für einst gefeierte Unternehmerin', 'Link': 'http://www.tagesanzeiger.ch/wirtschaft/unternehmen-und-konjunktur/harter-schlag-fuer-einst-gefeierte-unternehmerin/story/25846160', 'Kommentare': 0, 'Date': '2016-Jul-09', 'Site': '@tagesanzeiger'}, {'Titel': 'Uruguay gewinnt gegen Philip Morris', 'Link': 'http://www.tagesanzeiger.ch/wirtschaft/unternehmen-und-konjunktur/uruguay-gewinnt-gegen-philip-morris/story/21783135', 'Kommentare': 0, 'Date': '2016-Jul-09', 'Site': '@tagesanzeiger'}, {'Titel': 'Büchel knapp am Glück vorbei', 'Link': 'http://www.tagesanzeiger.ch/sport/leichtathletik/buechel-verpasst-medaille/story/22189936', 'Kommentare': 0, 'Date': '2016-Jul-09', 'Site': '@tagesanzeiger'}, {'Titel': 'Lara Gut steht kopf', 'Link': 'http://www.tagesanzeiger.ch/sport/weitere/cleveland-cavaliers-erzwingen-siebtes-finalspiel/story/31996366', 'Kommentare': 0, 'Date': '2016-Jul-09', 'Site': '@tagesanzeiger'}, {'Titel': 'Das pausenlose Morden und Sterben', 'Link': 'http://www.tagesanzeiger.ch/ausland/amerika/das-pausenlose-morden-und-sterben/story/31594789', 'Kommentare': 0, 'Date': '2016-Jul-09', 'Site': '@tagesanzeiger'}, {'Titel': 'IS-Kämpfer schiessen russischen Helikopter ab', 'Link': 'http://www.tagesanzeiger.ch/ausland/naher-osten-und-afrika/iskaempfer-schiessen-russischen-helikopter-ab/story/10690389', 'Kommentare': 0, 'Date': '2016-Jul-09', 'Site': '@tagesanzeiger'}, {'Titel': 'Unsterbliche Rockstars', 'Link': 'http://www.tagesanzeiger.ch/kultur/pop-und-jazz/der-lange-abschied/story/28207375', 'Kommentare': 0, 'Date': '2016-Jul-09', 'Site': '@tagesanzeiger'}, {'Titel': 'Gotthelfs «Uli der Pächter» als prächtige Seifenoper', 'Link': 'http://www.tagesanzeiger.ch/kultur/theater/gotthelfs-uli-der-paechter-als-praechtige-seifenoper/story/14195718', 'Kommentare': 0, 'Date': '2016-Jul-09', 'Site': '@tagesanzeiger'}, {'Titel': 'Falsche Virenwarnung für tagesanzeiger.ch', 'Link': 'http://www.tagesanzeiger.ch/digital/computer/falsche-virenwarnung-fuer-tamedianewsseiten/story/18427746', 'Kommentare': 0, 'Date': '2016-Jul-09', 'Site': '@tagesanzeiger'}, {'Titel': '«Ganz viele junge Leute nehmen es mit den Umgangsformen allzu easy»', 'Link': 'http://www.tagesanzeiger.ch/leben/gesellschaft/duzis-mit-dem-ceo/story/24952079', 'Kommentare': 0, 'Date': '2016-Jul-09', 'Site': '@tagesanzeiger'}, {'Titel': 'Die Jungen? Apolitisch? Von wegen!', 'Link': 'http://www.tagesanzeiger.ch/leben/gesellschaft/die-alten-waren-auch-nicht-besser/story/18057115', 'Kommentare': 0, 'Date': '2016-Jul-09', 'Site': '@tagesanzeiger'}, {'Titel': 'Eine Roboter-Bombe tötete den Heckenschützen', 'Link': 'http://www.tagesanzeiger.ch/panorama/vermischtes/roboter-toetete-heckenschuetze-von-dallas/story/22896133', 'Kommentare': 0, 'Date': '2016-Jul-09', 'Site': '@tagesanzeiger'}, {'Titel': 'Waffennarr, Soldat, Einzelgänger', 'Link': 'http://www.tagesanzeiger.ch/panorama/vermischtes/waffennarr-soldat-einzelgaenger/story/25399698', 'Kommentare': 0, 'Date': '2016-Jul-09', 'Site': '@tagesanzeiger'}, {'Titel': 'Eine fremde Sprache', 'Link': 'http://www.tagesanzeiger.ch/schweiz/standard/eine-fremde-sprache/story/13688061', 'Kommentare': 0, 'Date': '2016-Jul-09', 'Site': '@tagesanzeiger'}, {'Titel': 'Bersets Überzeugungstat', 'Link': 'http://www.tagesanzeiger.ch/schweiz/standard/bersets-ueberzeugungstat/story/28454193', 'Kommentare': 0, 'Date': '2016-Jul-09', 'Site': '@tagesanzeiger'}, {'Titel': 'Zurück unter den Lebenden', 'Link': 'http://www.tagesanzeiger.ch/ausland/naher-osten-und-afrika/zurueck-unter-den-lebenden/story/28530781', 'Kommentare': 0, 'Date': '2016-Jul-09', 'Site': '@tagesanzeiger'}, {'Titel': '«Er antwortet nicht mehr»', 'Link': 'http://www.blick.ch/ratgeber/liebe/fux-ueber-sex-er-antwortet-nicht-mehr-id5239868.html', 'Kommentare': 0, 'Date': '2016-Jul-09', 'Site': '@blickch'}, {'Titel': 'Schweizer mögen Stromschläge', 'Link': None, 'Kommentare': 0, 'Date': '2016-Jul-09', 'Site': '@blickch'}, {'Titel': 'Das sind die Webhits der Woche', 'Link': 'http://www.blick.ch/video/viral/ein-armes-maedchen-und-eine-genagelte-moderatorin-das-sind-die-webhits-der-woche-id5243230.html', 'Kommentare': 0, 'Date': '2016-Jul-09', 'Site': '@blickch'}, {'Titel': 'Wie dick macht Hummus mit Fladenbrot?', 'Link': 'http://www.blick.ch/ratgeber/ernaehrung/fit-mit-blick-figur-fallen-wie-dick-macht-hummus-mit-fladenbrot-id5231465.html', 'Kommentare': 0, 'Date': '2016-Jul-09', 'Site': '@blickch'}, {'Titel': 'Die Top 10 der besten Mood-Foods', 'Link': 'http://www.blick.ch/gesundheit/ernaehrung/gute-stimmung-garantiert-die-top-10-der-besten-mood-foods-id5236153.html', 'Kommentare': 0, 'Date': '2016-Jul-09', 'Site': '@blickch'}, {'Titel': 'Schwere Vorwürfe gegen Ueli Steck', 'Link': 'http://www.blick.ch/news/ausland/lawinendrama-im-tibet-schwere-vorwuerfe-gegen-ueli-steck-id5246008.html', 'Kommentare': 0, 'Date': '2016-Jul-09', 'Site': '@blickch'}, {'Titel': 'FKK-Anblick zum Wegschauen', 'Link': 'http://www.blick.ch/people-tv/tv/telezappin/balliges-bei-tele-zappin-fkk-anblick-zum-wegschauen-id5242518.html', 'Kommentare': 0, 'Date': '2016-Jul-09', 'Site': '@blickch'}, {'Titel': 'Tatort Streichelzoo', 'Link': 'http://www.blick.ch/people-tv/international/tv-star-daniel-bill-52-schenkt-tieren-ein-neues-leben-tatort-streichelzoo-id5243549.html', 'Kommentare': 0, 'Date': '2016-Jul-09', 'Site': '@blickch'}, {'Titel': 'US-Zwillinge werden exakt zur gleichen Zeit erstmals Mami', 'Link': 'http://www.blick.ch/news/ausland/doppeltes-mutterglueck-us-zwillinge-werden-exakt-zur-gleichen-zeit-erstmals-mami-id5231298.html', 'Kommentare': 0, 'Date': '2016-Jul-09', 'Site': '@blickch'}, {'Titel': 'Vertraulicher Bericht kritisiert Bundesrat', 'Link': 'http://www.blick.ch/news/politik/vollzug-der-personenfreizuegigkeit-vertraulicher-bericht-kritisiert-bundesrat-id5245869.html', 'Kommentare': 0, 'Date': '2016-Jul-09', 'Site': '@blickch'}, {'Titel': 'Dieser Vierbeiner verjagt einen Gangster', 'Link': 'http://www.blick.ch/news/bester-wachhund-der-welt-dieser-vierbeiner-verjagt-einen-gangster-id5240886.html', 'Kommentare': 0, 'Date': '2016-Jul-09', 'Site': '@blickch'}, {'Titel': 'Jetzt redet Hayden', 'Link': 'http://www.blick.ch/people-tv/international/liebes-aus-mit-klitschko-jetzt-redet-hayden-id5241346.html', 'Kommentare': 0, 'Date': '2016-Jul-09', 'Site': '@blickch'}, {'Titel': 'Pepe Lienhard und die Weltstars', 'Link': 'http://www.blick.ch/people-tv/musik/montreux-jazz-festival/inoffizielle-50-jahre-feier-am-montreux-jazzfestival-pepe-lienhard-und-die-weltstars-id5244167.html', 'Kommentare': 0, 'Date': '2016-Jul-09', 'Site': '@blickch'}, {'Titel': '«Ich werde wohl nicht schmerzfrei sein»', 'Link': 'http://www.blick.ch/sport/rad/neff-spuert-rueckenprobleme-vor-heim-weltcup-immer-noch-ich-werde-wohl-nicht-schmerzfrei-sein-id5244405.html', 'Kommentare': 0, 'Date': '2016-Jul-09', 'Site': '@blickch'}, {'Titel': 'Der Kult-Tropfen mit der schwarzen Seele', 'Link': 'http://www.blick.ch/life/essen/weintipp/entkorkt-der-weintipp-anima-negra-an-2-2014-der-kult-tropfen-mit-der-schwarzen-seele-id5241779.html', 'Kommentare': 0, 'Date': '2016-Jul-09', 'Site': '@blickch'}, {'Titel': 'Flitzend die Bergwelt erfahren', 'Link': 'http://www.blick.ch/life/reisen/reisen/kickbike-abfahrt-in-zermatt-flitzend-die-bergwelt-erfahren-id5224327.html', 'Kommentare': 0, 'Date': '2016-Jul-09', 'Site': '@blickch'}, {'Titel': 'Früchte und Gemüse sind teurer', 'Link': None, 'Kommentare': 0, 'Date': '2016-Jul-09', 'Site': '@blickch'}, {'Titel': 'Fischer fischt Fischer', 'Link': 'http://www.blick.ch/video/viral/ungewollt-fette-beute-im-netz-fischer-fischt-fischer-id5166948.html', 'Kommentare': 0, 'Date': '2016-Jul-09', 'Site': '@blickch'}, {'Titel': 'Hier wird der Torero vom Stier getötet!', 'Link': 'http://www.blick.ch/news/ausland/herz-durchstochen-stier-toetet-torero-id5245830.html', 'Kommentare': 0, 'Date': '2016-Jul-09', 'Site': '@blickch'}, {'Titel': 'Diese Frau scheitert 6 Minuten lang am Einparkieren', 'Link': None, 'Kommentare': 0, 'Date': '2016-Jul-09', 'Site': '@blickch'}, {'Titel': 'Jetzt redet Hayden', 'Link': None, 'Kommentare': 0, 'Date': '2016-Jul-09', 'Site': '@blickch'}, {'Titel': 'Die griechische Wahrheit', 'Link': 'http://www.blick.ch/life/mode/kolumne-von-style-writer-waeis-kiani-die-griechische-wahrheit-id5216351.html', 'Kommentare': 0, 'Date': '2016-Jul-09', 'Site': '@blickch'}, {'Titel': '14 Tote – Familie ausgelöscht', 'Link': 'http://www.blick.ch/news/ausland/drogenkrieg-in-mexiko-14-tote-familie-ausgeloescht-id5245998.html', 'Kommentare': 0, 'Date': '2016-Jul-09', 'Site': '@blickch'}, {'Titel': 'Hier trauert ein Elefanten-Baby um sein totes Mami', 'Link': 'http://www.blick.ch/news/ruehrende-totenwache-seit-ueber-24-stunden-hier-trauert-ein-elefanten-baby-um-sein-totes-mami-id5238365.html', 'Kommentare': 0, 'Date': '2016-Jul-09', 'Site': '@blickch'}, {'Titel': 'Hamilton schnappt sich die Silverstone-Pole!', 'Link': None, 'Kommentare': 0, 'Date': '2016-Jul-09', 'Site': '@blickch'}, {'Titel': 'Grundbauerin', 'Link': 'http://www.blick.ch/life/sara-machts/sara-machts-grundbauerin-id5238222.html', 'Kommentare': 0, 'Date': '2016-Jul-09', 'Site': '@blickch'}, {'Titel': 'Tipps zum Abkühlen', 'Link': 'http://www.blick.ch/news/sommer-sonne-sonnenschein-tipps-zum-abkuehlen-id3924086.html', 'Kommentare': 0, 'Date': '2016-Jul-09', 'Site': '@blickch'}, {'Titel': '«Beziehung super, aber Sex ist öde»', 'Link': 'http://www.blick.ch/ratgeber/liebe/fux-ueber-sex-beziehung-super-aber-sex-ist-oede-id5235620.html', 'Kommentare': 0, 'Date': '2016-Jul-09', 'Site': '@blickch'}, {'Titel': 'Kalorienarmes Kochen ist nicht schwer', 'Link': 'http://www.blick.ch/ratgeber/ernaehrung/fit-mit-blick-kuechengeraete-helfen-kalorienarmes-kochen-ist-nicht-schwer-id5240372.html', 'Kommentare': 0, 'Date': '2016-Jul-09', 'Site': '@blickch'}, {'Titel': 'Schweizer mögen Stromschläge', 'Link': 'http://www.blick.ch/news/wirtschaft/spannung-schweizer-moegen-stromschlaege-id5198027.html', 'Kommentare': 0, 'Date': '2016-Jul-09', 'Site': '@blickch'}, {'Titel': 'Schicken Sie uns Ihr Bild oder Video – auch per WhatsApp!', 'Link': 'http://www.blick.ch/news/leserreporter/leserreporter-8989-fotografieren-und-geld-verdienen-bis-zu-3000-franken-fuer-blick-leser-fotos-id170106.html', 'Kommentare': 0, 'Date': '2016-Jul-09', 'Site': '@blickch'}]\n"
     ]
    }
   ],
   "source": [
    "print(all_stories)"
   ]
  },
  {
   "cell_type": "code",
   "execution_count": 99,
   "metadata": {
    "collapsed": false
   },
   "outputs": [
    {
     "name": "stdout",
     "output_type": "stream",
     "text": [
      "@20min Nationalratskommission bittet Ältere zur Kasse\n",
      "@20min Deutsche Chefs wollen nicht mehr in die Schweiz\n",
      "@20min Lohnt es sich, den Motor am Rotlicht abzuschalten?\n",
      "@20min Krankenkassenprämien steigen immer mehr\n",
      "@watson_news 99+ Bilder und Gifs gegen Langeweile: Der Picdump ist da!\n",
      "@20min «So sehen Bünzli aus, die am Rasenmähen sind»\n",
      "@20min Salt-Abos fliegen bei Mobilezone raus\n",
      "@20min Was kann man tun, wenn ein Flug annulliert wird?\n",
      "@20min «Mein Freund kommt extra für mich in die Schweiz»\n",
      "@20min Darum hatte Salt gestern einen Totalausfall\n",
      "@20min Bomben-Roboter ist die neue Waffe der Polizei\n",
      "@20min Tropennacht leitet heisses Wochenende ein\n",
      "@20min UPC-Kunden müssen ihr Passwort ändern\n",
      "@20min Finden Sie heraus, wie Sie mit dem Chef reden sollten\n",
      "@20min «Die Zustände in den Camps gehen mir nahe»\n",
      "@watson_news Weil ihr so schön brav wart: 101 Bilder für ein besseres Wochenende – EXTRA PICDUMP\n",
      "@20min «Statt AKWs braucht es Tausende Batterien»\n",
      "@20min «Brauche jedes Jahr 31'000 Euro für Handys»\n",
      "@20min Kikos Mitinsasse wusste von den Fluchtplänen\n",
      "@watson_news Wie ich am Open Air zum gläsernen Festival-Besucher wurde und was nun mit den Daten passiert\n",
      "@watson_news 16 extrem deprimierende Musik-Fakten (der Schweizer Beitrag ist fast der schlimmste imfall)\n",
      "@20min Der Sommerdrink 2016 braucht keinen Alkohol\n",
      "@watson_news Die Berner Reitschule hat «keine Lust mehr» und schliesst (vorerst?) die Türen\n",
      "@20min Nato verlegt Truppen nach Osteuropa\n",
      "@20min Was Disney-Prinzessinnen aus den Mädchen machen\n",
      "@20min «Ein Grossraumbüro kann wunderbar sein»\n",
      "@blickch Entwarnung nach anonymer Drohung gegen Dallas Polizei\n",
      "@watson_news Auf diese News haben wir alle gewartet: Wer öfter Pasta isst, bleibt schlanker\n",
      "@20min 750 Meldungen aus dem Ausland  pro Monat\n",
      "@20min Das ist Nina Agdal, Leo DiCaprios alte Neue\n",
      "@20min «Sechs Franken für ein Bier? Das ist verrückt!»\n",
      "@20min «Nicht die Waffe tötete meinen Buben, ich tat es»\n",
      "@20min Mit dem Schulbus von Alaska bis Argentinien\n",
      "@20min 20 Minuten knackt die Milliarden-Grenze\n",
      "@20min AfD-Politikerin twittert gegen die deutsche Elf\n",
      "@20min So schön leidet und jubelt Serena Williams\n",
      "@20min Williams hievt sich auf eine Stufe mit Steffi Graf\n",
      "@watson_news Huh! Wer plötzlich alles behauptet, den Schlachtruf der isländischen Fans erfunden zu haben\n",
      "@20min Nachlässig eingesetzte Gentech stärkt Schädlinge\n",
      "@watson_news Die Robo-Bombe von Dallas: Einsatz von C4-Sprengstoff gegen Täter wirft Fragen auf\n",
      "@blickch Berner Reitschule bis auf Weiteres geschlossen\n",
      "@20min Giulias grosse Schwester\n",
      "@20min So wird Ihre Wohnung zum Backofen\n",
      "@watson_news Wahr oder falsch? 15 Ernährungs-Mythen im Check\n",
      "@20min Coiffeur wegen sexueller Belästigung angeklagt\n",
      "@watson_news «Weltwoche»-Autor hat (auch) bei watson abgekupfert\n",
      "@watson_news Erkennst du den Schweizer Film an nur einem Bild? (Es ist cheibe schwer, nur zum säge ...)\n",
      "@tagesanzeiger Es bleibt beim Brexit\n",
      "@watson_news Der Büpf-Pfupf: Wie man ein Referendum\n",
      "besser nicht durchführen sollte\n",
      "@20min Gesunde Schoggi zum Trinken\n",
      "@20min Darum hat der Pfannenwender Schlitze\n",
      "@20min 5 Spiele für weniger Langeweile im Stau\n",
      "@20min Gymirektor mit Fehlern auf Stadtrats-Wahlplakat\n",
      "@watson_news Presse, Pussy und Pomade: Eine Beleidigung «mal von der anderen Seite beleuchtet»\n",
      "@20min Kalte Suppe für heisse Sommertage\n",
      "@watson_news Unser erstes Rechtschreib-Quiz war zu einfach? Nimm das, du Deutsch-Experte!\n",
      "@watson_news Diese Bilder beweisen, dass wir betrunken ALLES lecker finden (und nicht kochen sollten)\n",
      "@watson_news Du verlierst immer deine Freunde im Getümmel? Wenn du diese 10 Aufgaben meisterst, bist du bereit fürs Züri Fäscht\n",
      "@blickch Wüste Schlägerei unter Eritreern, Somalier und Schweizer\n",
      "@20min Lügen bei der Wohnungsbewerbung\n",
      "@20min Nach dem Motorenstart sind die Zweifel weg\n",
      "@watson_news «Stiftung Wadentest» oder «SV Wacker Durchsaufen»? Wähle den legendärsten Grümpi-Namen\n",
      "@watson_news Die besten Sportlerpics auf Social Media: Maze, Veith und Kirchgasser mit der Milka-Kuh\n",
      "@blickch Botschafter gibt Ueli Maurer auf die Mütze\n",
      "@20min Reitschule macht die Schotten dicht\n",
      "@watson_news Sommer, Djourou oder Shaqiri – welcher Schweizer Nati-Spieler bist du?\n",
      "@blickch «Wir messen die SVP an den Worten ihres Asyl-Chefs»\n",
      "@blickch Für Favre ist die EM «ein Horror»\n",
      "@20min «Die Franzosen mussten zuerst hungrig werden»\n",
      "@20min Traumhäuser, in denen Sie garantiert niemand stört\n",
      "@20min Iron Maiden lassen Eddie auf die Smartphones los\n",
      "@20min Rettet Big Data die Stromkonzerne?\n",
      "@watson_news Was alles noch langsamer ist als Giroud: Kontinentaldrift und Zaza! Die besten User-Kommentare\n",
      "@watson_news Blutrache und Hexerei-Vorwürfe – so spielten sie im Mittelalter Fussball \n",
      "@20min Fussballstars und ihre Schwestern\n",
      "@watson_news «Saugen statt baggern» – schau mal, was heute bei watson abging\n",
      "@20min Abkühlung auf laotische Art\n",
      "@watson_news Uruguay gewinnt vor Gericht gegen Tabakkonzern Philip Morris\n",
      "@watson_news Frankreichs grosser Vorteil: Die Erinnerung an den Heimtriumph 1998\n",
      "@watson_news Velo-, Töff- und Cabrio-Fahrer: Wie gut kennst du die Schweizer Pässe?\n",
      "@tagesanzeiger Röntgengeräte und Gepäckkontrollen gegen den Terror\n",
      "@watson_news Stier Lorenzo durchsticht das Herz von Torero Barrio – und avanciert im Internet gerade zum Helden\n",
      "@watson_news Hier kannst du was erleben! 13 extreme Orte der Welt\n",
      "@watson_news «Ibracadabras» fauler Zauber und Ladehemmungen bei Müller – die Verlierer der EM\n",
      "@watson_news Mit diesem Trick finden iPhone-Nutzer heraus, wie gut die Mobilfunk-Verbindung wirklich ist\n",
      "@watson_news Wie viel Gift steckt in deinen Kleidern? Hier siehst du, wer sauber und wer dreckig produziert\n",
      "@watson_news 6 TV-Tabus von 1949 und 6 Nacktszenen aus «Game of Thrones» zum Vergleich\n",
      "@watson_news Die Lieblinge der US-Waffenlobby – und warum Politiker die Gewalt nicht in den Griff kriegen\n",
      "@watson_news 92 Gründe, die (leider) absolut dagegen sprechen, dass du dich dieses Wochenende besäufst\n",
      "@watson_news Superkanone V3: Wie ein Kennedy Hitlers Hochdruckpumpe ausschalten sollte\n",
      "@watson_news Weltmeister mit Ladehemmungen – Deutschland fehlt an der EM die Kälte vor dem Tor\n",
      "@watson_news Aufgepasst! Bund warnt vor versandten Microsoft-Office-Dokumenten\n",
      "@watson_news Muss die britische Premierministerin Mutter sein? Kinderlose Theresa May wird angegriffen\n",
      "@blickch Vereint gegen Putin und den IS\n",
      "@blickch Auf Erkundung in der Olympia-Stadt\n",
      "@watson_news «20 Minuten»-Website soll erneut Malware verbreiten – Tamedia dementiert\n",
      "@watson_news Bale oder Ronaldo? 12 Fragen, die nur echte Profis beantworten können\n",
      "@blickch Diese Frau scheitert 6 Minuten lang am Einparkieren\n",
      "@blickch Pasta hält schlank\n",
      "@blickch Früchte und Gemüse sind teurer\n",
      "@blickch Der amerikanische Albtraum\n",
      "@watson_news Nope! Britische Regierung will keine erneute Abstimmung über den Brexit\n",
      "@watson_news «Wie Champions!» und «Bonne nuit, Schweini!» – die Pressestimmen zu Frankreichs Triumph gegen Deutschland\n",
      "@watson_news Der Umgang von Facebook mit Hass-Kommentaren ist so intransparent wie die FIFA und Putin\n",
      "@watson_news Mit rauschender Abfahrt überrascht Chris Froome seine Konkurrenten – der Brite ist neuer Leader\n",
      "@watson_news Zum Open Air Frauenfeld: Erkennst du all diese Rap-Songs anhand einer Grafik?\n",
      "@watson_news Schaun mer mal, wie gut du aufgepasst hast: Kennst du die Stadien der EM 2016?\n",
      "@tagesanzeiger Der Geniestreich von Froome\n",
      "@tagesanzeiger Amerika ist im Unreinen mit sich\n",
      "@blickch Keiner kümmert sich um die CS\n",
      "@blickch Schnabeln geht vor Federer schauen\n",
      "@blickch Die neue E-Klasse überzeugt\n",
      "@blickch Schweizer Tennis-Bösewicht nutzt Regel-Witz\n",
      "@blickch Dieser Muslim macht Rassisten lächerlich\n",
      "@20min Zuwanderung  Bund billigt kantonale Willkür\n",
      "@20min Verrückter Vater hält Sohn zwei Jahre lang gefangen\n",
      "@20min An die Premiere von Spielbergs neustem Film «BFG»\n",
      "@20min Ratten-Zellen treiben Roboter-Rochen an\n",
      "@20min Falsche Virenwarnung für 20min.ch\n",
      "@20min Es bleibt beim Brexit\n",
      "@20min 19-Jährige zeigt ihren Mobbern den Stinkefinger\n",
      "@20min Erdogan lässt Merkel abblitzen\n",
      "@20min Lawine reisst Alpinisten 100 Meter in die Tiefe\n",
      "@20min Wiz Khalifa lässt am Frauenfeld Joints tanzen\n",
      "@20min IS-Kämpfer schiessen russischen Helikopter ab\n",
      "@20min Tausende Polizisten sichern Champs-Elysées\n",
      "@20min Mit Schnelligkeit und Helikoptern gegen Ronaldo\n",
      "@20min Kämpfe gegen 13'000 Leser um die Quiz-Krone!\n",
      "@20min Waffennarr, Soldat, Einzelgänger\n",
      "@20min «Es waren einfach so viele Schüsse»\n",
      "@20min Hunde fressen Katze  Besitzer verurteilt\n",
      "@20min 14'600 Arztbesuche wegen Zeckenstichen\n",
      "@20min 14 Festnahmen nach Schlägereien im Kreis 4\n",
      "@20min 50 Hotelgäste wegen defektem Föhn evakuiert\n",
      "@20min 15-Jähriger flüchtet mit BMW der Eltern vor Polizei\n",
      "@20min Merkel setzt sich für Schweinebraten ein\n",
      "@20min Nordkorea feuert Rakete von U-Boot aus ab\n",
      "@20min Macht euren Move und werdet #Poolhero\n",
      "@20min Nato schickt Aufklärungs-Flieger in Kampf gegen IS\n",
      "@20min Polizist schreibt einen Brief an Kanzlerin Merkel\n",
      "@20min Die Bilder des Tages\n",
      "@20min Unterwasser-Gurken für die US-Marine\n",
      "@20min Neunjährige lockte Horror-Vater in die Falle\n",
      "@20min Hunderttausende fliehen vor Tropensturm\n",
      "@20min Wie Frauen auf Sex-Portalen erobert werden wollen!\n",
      "@20min Ist «El Chapo» schon wieder getürmt?\n",
      "@20min Arbeitslosenquote sinkt auf 3,1 Prozent\n",
      "@20min US-Steuerbehörde geht gegen Facebook vor\n",
      "@20min Tulpenzwiebeln und Zoggeli für das Bronze-Duo\n",
      "@20min Kummers vertane Chance\n",
      "@20min Weniger Album-Verkäufe, aber mehr Song-Streams\n",
      "@20min Warum sitzt ihr so lange auf der Toilette?\n",
      "@20min Wir drehen am Rad! Pokémon ist zurück!\n",
      "@20min Wo steht die beste Wasserrutschbahn?\n",
      "@20min Schicken Sie uns Ihren schönsten Kuss-Clip\n",
      "@20min Drei traumhafte Sommersalate\n",
      "@20min Wassermelone steht uns!\n",
      "@20min Die Seele baumeln lassen\n",
      "@20min Auf zur Schatzsuche im Bike-Paradies Verbier\n",
      "@20min Bund warnt vor Microsoft-Office-Dokumenten\n",
      "@20min Surfen in den bitterkalten Fluten\n",
      "@20min Hotels zum halben Preis\n",
      "@20min Tschüss, ihr Loser, ich bin dann mal am Strand!\n",
      "@20min Australien  ein langersehnter Traum\n",
      "@20min Allianz Cinema Basel: Preisreduktion auf Vorpremieren\n",
      "@20min Dieser Wagen sucht einen neuen Besitzer\n",
      "@20min Zur exklusiven 20-Minuten-Vorpremiere von «Pets»\n",
      "@20min Wir schicken dich als VIP ans Zürich Openair!\n",
      "@20min Mit Sack, Pack und Family ab nach Florida\n",
      "@20min Wir schicken dich als VIP ans Zürich Openair!\n",
      "@watson_news Unbekannte Räuber schlagen in Basel zweimal zu\n",
      "@watson_news Serena Williams triumphiert in Wimbledon und egalisiert Grand-Slam-Rekord von Steffi Graf\n",
      "@watson_news Vor diesem Kuharsch flüchten sogar die Löwen\n",
      "@tagesanzeiger Kummers vertane Chance\n",
      "@blickch Armee befördert Rechtsextremisten\n",
      "@blickch Kajakfahrer trifft Riesenhai\n",
      "@blickch Hier kann man jetzt Therapeuten und Ärzte online bewerten\n",
      "@blickch Portugal-Star Guerreiro kann nicht mal Portugiesisch!\n",
      "@blickch So gefährlich ist der Sommer!\n",
      "@blickch London lehnt zweites EU-Referendum ab\n",
      "@blickch Hamilton schnappt sich die Silverstone-Pole!\n",
      "@blickch IS schiesst russischen Helikopter ab\n",
      "@blickch Ikea will jetzt Luxus-Möbel bauen\n",
      "@blickch Jetzt kommt der Super-Ferrari oben ohne\n",
      "@watson_news Lawine aus Schnee und Geröll verletzt fünf Wanderer am Säntis\n",
      "@watson_news Schweizer Nachrichtendienst lieferte letztes Jahr 4500 Meldungen an ausländische Geheimdienste\n",
      "@watson_news Nach Dallas und dem Fall Alton Sterling geht in den USA die Furcht vor neuer Gewalt um\n",
      "@watson_news Medizinische Einweg-Handschuhe in der Schweiz mit Bakterien verseucht\n",
      "@watson_news Wenn du gegen die Wand läufst: Das steckt hinter dem «Hungerast» und so kannst du ihn vermeiden\n",
      "@watson_news «Der Krieg muss enden»: Das sagt Beyoncé zu den jüngsten Fällen tödlicher Polizeigewalt\n",
      "@watson_news Knackeboul, der alte Freestyler, hat nur für dich gerappt! Hier sein Werk zum Nachgeniessen \n",
      "@tagesanzeiger Bundesrat billigt bei Zuwanderung kantonale Willkür\n",
      "@tagesanzeiger Polizeizentrale von Dallas nach anonymer Drohung abgeriegelt\n",
      "@tagesanzeiger Lawine reisst Alpinisten am Säntis 100 Meter in die Tiefe\n",
      "@tagesanzeiger Erdogan lässt Merkel abblitzen\n",
      "@tagesanzeiger Nothilfe per SMS\n",
      "@tagesanzeiger 14 Festnahmen nach Schlägereien im Kreis 4\n",
      "@tagesanzeiger Mobility-Pricing? Ihre Meinung ist gefragt!\n",
      "@tagesanzeiger Reitschule macht die Schotten dicht\n",
      "@tagesanzeiger Neue Beschwerde gegen Mühleberg\n",
      "@tagesanzeiger Harter Schlag für einst gefeierte Unternehmerin\n",
      "@tagesanzeiger Uruguay gewinnt gegen Philip Morris\n",
      "@tagesanzeiger Büchel knapp am Glück vorbei\n",
      "@tagesanzeiger Lara Gut steht kopf\n",
      "@tagesanzeiger Das pausenlose Morden und Sterben\n",
      "@tagesanzeiger IS-Kämpfer schiessen russischen Helikopter ab\n",
      "@tagesanzeiger Unsterbliche Rockstars\n",
      "@tagesanzeiger Gotthelfs «Uli der Pächter» als prächtige Seifenoper\n",
      "@tagesanzeiger Falsche Virenwarnung für tagesanzeiger.ch\n",
      "@tagesanzeiger «Ganz viele junge Leute nehmen es mit den Umgangsformen allzu easy»\n",
      "@tagesanzeiger Die Jungen? Apolitisch? Von wegen!\n",
      "@tagesanzeiger Eine Roboter-Bombe tötete den Heckenschützen\n",
      "@tagesanzeiger Waffennarr, Soldat, Einzelgänger\n",
      "@tagesanzeiger Eine fremde Sprache\n",
      "@tagesanzeiger Bersets Überzeugungstat\n",
      "@tagesanzeiger Zurück unter den Lebenden\n",
      "@blickch «Er antwortet nicht mehr»\n",
      "@blickch Schweizer mögen Stromschläge\n",
      "@blickch Das sind die Webhits der Woche\n",
      "@blickch Wie dick macht Hummus mit Fladenbrot?\n",
      "@blickch Die Top 10 der besten Mood-Foods\n",
      "@blickch Schwere Vorwürfe gegen Ueli Steck\n",
      "@blickch FKK-Anblick zum Wegschauen\n",
      "@blickch Tatort Streichelzoo\n",
      "@blickch US-Zwillinge werden exakt zur gleichen Zeit erstmals Mami\n",
      "@blickch Vertraulicher Bericht kritisiert Bundesrat\n",
      "@blickch Dieser Vierbeiner verjagt einen Gangster\n",
      "@blickch Jetzt redet Hayden\n",
      "@blickch Pepe Lienhard und die Weltstars\n",
      "@blickch «Ich werde wohl nicht schmerzfrei sein»\n",
      "@blickch Der Kult-Tropfen mit der schwarzen Seele\n",
      "@blickch Flitzend die Bergwelt erfahren\n",
      "@blickch Früchte und Gemüse sind teurer\n",
      "@blickch Fischer fischt Fischer\n",
      "@blickch Hier wird der Torero vom Stier getötet!\n",
      "@blickch Diese Frau scheitert 6 Minuten lang am Einparkieren\n",
      "@blickch Jetzt redet Hayden\n",
      "@blickch Die griechische Wahrheit\n",
      "@blickch 14 Tote – Familie ausgelöscht\n",
      "@blickch Hier trauert ein Elefanten-Baby um sein totes Mami\n",
      "@blickch Hamilton schnappt sich die Silverstone-Pole!\n",
      "@blickch Grundbauerin\n",
      "@blickch Tipps zum Abkühlen\n",
      "@blickch «Beziehung super, aber Sex ist öde»\n",
      "@blickch Kalorienarmes Kochen ist nicht schwer\n",
      "@blickch Schweizer mögen Stromschläge\n",
      "@blickch Schicken Sie uns Ihr Bild oder Video – auch per WhatsApp!\n"
     ]
    }
   ],
   "source": [
    "len(all_stories )\n",
    "for x in all_stories:\n",
    "    print(x['Site'], x['Titel'])"
   ]
  },
  {
   "cell_type": "code",
   "execution_count": 100,
   "metadata": {
    "collapsed": false
   },
   "outputs": [
    {
     "data": {
      "text/plain": [
       "{'Date': '2016-Jul-09',\n",
       " 'Kommentare': 780,\n",
       " 'Link': 'http://www.20min.ch/schweiz/news/story/Nationalratskommission-bittet--ltere-zur-Kasse-16499162',\n",
       " 'Site': '@20min',\n",
       " 'Titel': 'Nationalratskommission bittet Ältere zur Kasse'}"
      ]
     },
     "execution_count": 100,
     "metadata": {},
     "output_type": "execute_result"
    }
   ],
   "source": [
    "all_stories[0]"
   ]
  },
  {
   "cell_type": "code",
   "execution_count": 101,
   "metadata": {
    "collapsed": false
   },
   "outputs": [
    {
     "data": {
      "text/plain": [
       "'Nationalratskommission bittet Ältere zur Kasse'"
      ]
     },
     "execution_count": 101,
     "metadata": {},
     "output_type": "execute_result"
    }
   ],
   "source": [
    "all_stories[0]['Titel']"
   ]
  },
  {
   "cell_type": "code",
   "execution_count": 102,
   "metadata": {
    "collapsed": false
   },
   "outputs": [
    {
     "data": {
      "text/plain": [
       "247"
      ]
     },
     "execution_count": 102,
     "metadata": {},
     "output_type": "execute_result"
    }
   ],
   "source": [
    "len(all_stories)"
   ]
  },
  {
   "cell_type": "code",
   "execution_count": 103,
   "metadata": {
    "collapsed": false
   },
   "outputs": [],
   "source": [
    "Sum = 0\n",
    "for item in all_stories:\n",
    "    Sum = Sum + item['Kommentare']"
   ]
  },
  {
   "cell_type": "code",
   "execution_count": 104,
   "metadata": {
    "collapsed": false
   },
   "outputs": [
    {
     "data": {
      "text/plain": [
       "6621"
      ]
     },
     "execution_count": 104,
     "metadata": {},
     "output_type": "execute_result"
    }
   ],
   "source": [
    "Sum"
   ]
  },
  {
   "cell_type": "code",
   "execution_count": 105,
   "metadata": {
    "collapsed": false
   },
   "outputs": [
    {
     "data": {
      "text/plain": [
       "12"
      ]
     },
     "execution_count": 105,
     "metadata": {},
     "output_type": "execute_result"
    }
   ],
   "source": [
    "Anteil = round(all_stories[0]['Kommentare']/Sum * 100)\n",
    "Anteil"
   ]
  },
  {
   "cell_type": "code",
   "execution_count": 106,
   "metadata": {
    "collapsed": false
   },
   "outputs": [],
   "source": [
    "Kommentar_Schnitt = round(Sum / len(all_stories))"
   ]
  },
  {
   "cell_type": "code",
   "execution_count": 107,
   "metadata": {
    "collapsed": true
   },
   "outputs": [],
   "source": [
    "Count = all_stories[0]['Kommentare']\n",
    "#if Count > 1100:\n",
    "#    Comment_Count = \"Lesen. Dazu hat Krethi und Plethi eine Meinung.\"\n",
    "#elif Count > 900:\n",
    "#    Comment_Count = \"Party-Talk. Wirklich an jeder Party.\"\n",
    "#elif Count > 700:\n",
    "#    Comment_Count = \"Da haben am Stammtisch einige etwas dazu zu sagen.\"\n",
    "#elif Count > 500:\n",
    "#    Comment_Count = \"Das bewegt einge. Am richtig viele sind das noch nicht.\"\n",
    "#elif Count > 0:\n",
    "#    Comment_Count = \"Da schlafen einige fleissige Kommentarschreiben wohl noch.\""
   ]
  },
  {
   "cell_type": "code",
   "execution_count": 108,
   "metadata": {
    "collapsed": false
   },
   "outputs": [],
   "source": [
    "#sentence = 'Kommentare: {}. Quelle: {}. {} {}'.format(all_stories[0]['Kommentare'], all_stories[0]['Site'], Comment_Count, all_stories[0]['Link'])"
   ]
  },
  {
   "cell_type": "code",
   "execution_count": 109,
   "metadata": {
    "collapsed": true
   },
   "outputs": [],
   "source": [
    "#sentence = 'Die heisseste Front-Story läuft {} mit {} Kommentaren. Das Total liegt derzeit bei 6608 Reaktionen, {} pro Story. {}'.format(all_stories[0]['Site'], all_stories[0]['Kommentare'], Kommentar_Schnitt, all_stories[0]['Link']) "
   ]
  },
  {
   "cell_type": "code",
   "execution_count": 110,
   "metadata": {
    "collapsed": true
   },
   "outputs": [],
   "source": [
    "sentence = 'Die heisseste Front-Story läuft {} mit {} Kommentaren. Das sind {}% von total {} Reaktionen. {}'.format(all_stories[0]['Site'], all_stories[0]['Kommentare'], Anteil, Sum, all_stories[0]['Link'])"
   ]
  },
  {
   "cell_type": "code",
   "execution_count": 111,
   "metadata": {
    "collapsed": false
   },
   "outputs": [
    {
     "name": "stdout",
     "output_type": "stream",
     "text": [
      "Die heisseste Front-Story läuft @20min mit 780 Kommentaren, 12% von aktuell total 6621 Reaktionen. http://www.20min.ch/schweiz/news/story/Nationalratskommission-bittet--ltere-zur-Kasse-16499162\n"
     ]
    }
   ],
   "source": [
    "print(sentence)"
   ]
  },
  {
   "cell_type": "code",
   "execution_count": 112,
   "metadata": {
    "collapsed": false
   },
   "outputs": [],
   "source": [
    "#twitter = twython.Twython(api_key, api_secret)\n",
    "#auth = twitter.get_authentication_tokens()\n",
    "#print(\"Log into Twitter as the user you want to authorize and visit this URL:\")\n",
    "#print(\"\\t\" + auth['auth_url'])"
   ]
  },
  {
   "cell_type": "code",
   "execution_count": 113,
   "metadata": {
    "collapsed": false
   },
   "outputs": [],
   "source": [
    "#pin = \"XXXXXX\"\n",
    "#\n",
    "#twitter = twython.Twython(api_key, api_secret, auth['oauth_token'], auth['oauth_token_secret'])\n",
    "#tokens = twitter.get_authorized_tokens(pin)\n",
    "#\n",
    "#new_access_token = tokens['oauth_token']\n",
    "#new_token_secret = tokens['oauth_token_secret']\n",
    "#print(\"your access token:\", new_access_token)\n",
    "#print(\"your token secret:\", new_token_secret)"
   ]
  },
  {
   "cell_type": "code",
   "execution_count": 114,
   "metadata": {
    "collapsed": false
   },
   "outputs": [
    {
     "data": {
      "text/plain": [
       "{'contributors': None,\n",
       " 'coordinates': None,\n",
       " 'created_at': 'Sun Jul 10 01:19:31 +0000 2016',\n",
       " 'entities': {'hashtags': [],\n",
       "  'symbols': [],\n",
       "  'urls': [{'display_url': '20min.ch/schweiz/news/s…',\n",
       "    'expanded_url': 'http://www.20min.ch/schweiz/news/story/Nationalratskommission-bittet--ltere-zur-Kasse-16499162',\n",
       "    'indices': [99, 122],\n",
       "    'url': 'https://t.co/xkafvQCw7W'}],\n",
       "  'user_mentions': [{'id': 15786941,\n",
       "    'id_str': '15786941',\n",
       "    'indices': [32, 38],\n",
       "    'name': '20 Minuten',\n",
       "    'screen_name': '20min'}]},\n",
       " 'favorite_count': 0,\n",
       " 'favorited': False,\n",
       " 'geo': None,\n",
       " 'id': 751948936789778432,\n",
       " 'id_str': '751948936789778432',\n",
       " 'in_reply_to_screen_name': None,\n",
       " 'in_reply_to_status_id': None,\n",
       " 'in_reply_to_status_id_str': None,\n",
       " 'in_reply_to_user_id': None,\n",
       " 'in_reply_to_user_id_str': None,\n",
       " 'is_quote_status': False,\n",
       " 'lang': 'de',\n",
       " 'place': None,\n",
       " 'possibly_sensitive': False,\n",
       " 'retweet_count': 0,\n",
       " 'retweeted': False,\n",
       " 'source': '<a href=\"http://www.barnabyskinner.com/\" rel=\"nofollow\">First_App_data_and_databases</a>',\n",
       " 'text': 'Die heisseste Front-Story läuft @20min mit 780 Kommentaren, 12% von aktuell total 6621 Reaktionen. https://t.co/xkafvQCw7W',\n",
       " 'truncated': False,\n",
       " 'user': {'contributors_enabled': False,\n",
       "  'created_at': 'Thu Jul 07 18:44:01 +0000 2016',\n",
       "  'default_profile': False,\n",
       "  'default_profile_image': False,\n",
       "  'description': 'Morgens, mittags und abends die meistdiskutierte Story der Front @20min @tagesanzeiger @watson. Ein Projekt von @BarJack.',\n",
       "  'entities': {'description': {'urls': []},\n",
       "   'url': {'urls': [{'display_url': 'github.com/barjacks/Comme…',\n",
       "      'expanded_url': 'https://github.com/barjacks/Comment_Explosion',\n",
       "      'indices': [0, 23],\n",
       "      'url': 'https://t.co/ydysYu1W7A'}]}},\n",
       "  'favourites_count': 0,\n",
       "  'follow_request_sent': False,\n",
       "  'followers_count': 22,\n",
       "  'following': False,\n",
       "  'friends_count': 2,\n",
       "  'geo_enabled': False,\n",
       "  'has_extended_profile': False,\n",
       "  'id': 751124626298765312,\n",
       "  'id_str': '751124626298765312',\n",
       "  'is_translation_enabled': False,\n",
       "  'is_translator': False,\n",
       "  'lang': 'en',\n",
       "  'listed_count': 2,\n",
       "  'location': '',\n",
       "  'name': 'Comment_Explosion',\n",
       "  'notifications': False,\n",
       "  'profile_background_color': '000000',\n",
       "  'profile_background_image_url': 'http://abs.twimg.com/images/themes/theme1/bg.png',\n",
       "  'profile_background_image_url_https': 'https://abs.twimg.com/images/themes/theme1/bg.png',\n",
       "  'profile_background_tile': False,\n",
       "  'profile_banner_url': 'https://pbs.twimg.com/profile_banners/751124626298765312/1467918128',\n",
       "  'profile_image_url': 'http://pbs.twimg.com/profile_images/751131761325793281/_MFSDult_normal.jpg',\n",
       "  'profile_image_url_https': 'https://pbs.twimg.com/profile_images/751131761325793281/_MFSDult_normal.jpg',\n",
       "  'profile_link_color': '999999',\n",
       "  'profile_sidebar_border_color': '000000',\n",
       "  'profile_sidebar_fill_color': '000000',\n",
       "  'profile_text_color': '000000',\n",
       "  'profile_use_background_image': False,\n",
       "  'protected': False,\n",
       "  'screen_name': 'com_expl',\n",
       "  'statuses_count': 10,\n",
       "  'time_zone': None,\n",
       "  'url': 'https://t.co/ydysYu1W7A',\n",
       "  'utc_offset': None,\n",
       "  'verified': False}}"
      ]
     },
     "execution_count": 114,
     "metadata": {},
     "output_type": "execute_result"
    }
   ],
   "source": [
    "twitter.update_status(status=sentence)"
   ]
  },
  {
   "cell_type": "code",
   "execution_count": null,
   "metadata": {
    "collapsed": true
   },
   "outputs": [],
   "source": []
  }
 ],
 "metadata": {
  "kernelspec": {
   "display_name": "Python 3",
   "language": "python",
   "name": "python3"
  },
  "language_info": {
   "codemirror_mode": {
    "name": "ipython",
    "version": 3
   },
   "file_extension": ".py",
   "mimetype": "text/x-python",
   "name": "python",
   "nbconvert_exporter": "python",
   "pygments_lexer": "ipython3",
   "version": "3.5.1"
  }
 },
 "nbformat": 4,
 "nbformat_minor": 0
}
