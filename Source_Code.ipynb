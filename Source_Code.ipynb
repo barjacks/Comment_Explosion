{
 "cells": [
  {
   "cell_type": "markdown",
   "metadata": {},
   "source": [
    "# Scraping the two news sites with most coments, 20Min & Watson"
   ]
  },
  {
   "cell_type": "code",
   "execution_count": 1,
   "metadata": {
    "collapsed": false
   },
   "outputs": [
    {
     "data": {
      "text/plain": [
       "'2016-Jul-08'"
      ]
     },
     "execution_count": 1,
     "metadata": {},
     "output_type": "execute_result"
    }
   ],
   "source": [
    "import requests\n",
    "from bs4 import BeautifulSoup\n",
    "import re\n",
    "import time\n",
    "import twython\n",
    "\n",
    "datestring = time.strftime(\"%Y-%h-%d\")\n",
    "datestring"
   ]
  },
  {
   "cell_type": "code",
   "execution_count": 2,
   "metadata": {
    "collapsed": true
   },
   "outputs": [],
   "source": [
    "api_key = \"\"\n",
    "api_secret = \"\"\n",
    "\n",
    "access_token = \"\"\n",
    "token_secret = \"\""
   ]
  },
  {
   "cell_type": "code",
   "execution_count": 3,
   "metadata": {
    "collapsed": true
   },
   "outputs": [],
   "source": [
    "twitter = twython.Twython(api_key, api_secret, access_token, token_secret)"
   ]
  },
  {
   "cell_type": "code",
   "execution_count": 4,
   "metadata": {
    "collapsed": true
   },
   "outputs": [],
   "source": [
    "# Grab the 20Min & Watson Homepages\n",
    "response = requests.get(\"http://www.20min.ch\")\n",
    "response_watson = requests.get(\"http://www.watson.ch/\")\n",
    "response_Tagi = requests.get(\"http://www.tagesanzeiger.ch\")"
   ]
  },
  {
   "cell_type": "code",
   "execution_count": 5,
   "metadata": {
    "collapsed": false
   },
   "outputs": [],
   "source": [
    "# Feed them into BeautifulSoup\n",
    "_20Min = BeautifulSoup(response.text, 'html.parser')\n",
    "Watson = BeautifulSoup(response_watson.text, 'html.parser')\n",
    "Tagi = BeautifulSoup(response_Tagi.text, 'html.parser')"
   ]
  },
  {
   "cell_type": "code",
   "execution_count": 6,
   "metadata": {
    "collapsed": false
   },
   "outputs": [],
   "source": [
    "stories = _20Min.find_all(\"div\", {'id': 'content'})\n",
    "stories_watson = Watson.find_all('div', {'class': 'teaser teaser_type_default     font_m  combo_bg combo_fg'})\n",
    "Tagi_stories = Tagi.find_all(\"div\", {'class': 'featureStory standard'})\n",
    "Tagi_kommentare = Tagi.find_all(\"div\", {'class': 'articleStory valued'})"
   ]
  },
  {
   "cell_type": "code",
   "execution_count": 7,
   "metadata": {
    "collapsed": false
   },
   "outputs": [],
   "source": [
    "#finding everything outside of the loop\n",
    "teaser_stories = stories[0].find_all('div', {'class': \"teaser \"})\n",
    "\n",
    "#starting the dictionary:\n",
    "all_stories = []\n",
    "\n",
    "#The Loop\n",
    "for story in teaser_stories:\n",
    "    \n",
    "    #Getting the comments\n",
    "    comments = story.find('div', {'class': \"teaser_media front clearfix\"})\n",
    "    if comments:\n",
    "        try:\n",
    "            comment = comments.find('span', {'class': 'icon_talkback'}).next_sibling\n",
    "            #Just using the number of comments\n",
    "            comment = comment[:4]\n",
    "            #A regular expression to make sure to get articles with more of 999 comments\n",
    "            if re.search(r\"\\D$\", comment):\n",
    "                comment = int(comment[:3])\n",
    "            else:\n",
    "                comment = int(comment)\n",
    "        except:\n",
    "            comment = 1\n",
    "    \n",
    "    #Getting the the title\n",
    "    title_div = story.find('div', {'class': \"teaser_title front\"})\n",
    "    title_string = title_div.find('h2').string\n",
    "    if re.search(r\"\\x96\", title_string):\n",
    "        title_string.replace(\"\\x96\", \"\")\n",
    "        \n",
    "    \n",
    "    #Getting the HREF\n",
    "    href = story.find('h3')\n",
    "    href = href.find('a', href=True)\n",
    "    href = href['href']\n",
    "    \n",
    "    #Dealing with non-full links\n",
    "    if re.search(r\"^http:\", href):\n",
    "        href = href\n",
    "    else:\n",
    "        href = 'http://www.20min.ch' + href\n",
    "    \n",
    "    #Creating the dictionary:\n",
    "    dictionary = {'Site': '20Min', 'Titel': title_string, 'Kommentare': int(comment), 'Link': href, 'Date': datestring}\n",
    "    \n",
    "    #List of dictionaries:\n",
    "    all_stories.append(dictionary)"
   ]
  },
  {
   "cell_type": "code",
   "execution_count": 8,
   "metadata": {
    "collapsed": true
   },
   "outputs": [],
   "source": [
    "#starting the dictionary:\n",
    "all_stories_watson = []\n",
    "\n",
    "#looping through titles, comments, links\n",
    "for story in stories_watson:\n",
    "    \n",
    "    #getting HREF\n",
    "    href = story.find('a', {'class': 'storylink combo_bd'})\n",
    "    try:\n",
    "        href = href['href']\n",
    "        href = ('http://watson.ch' + href)\n",
    "    except:\n",
    "        href == None\n",
    "        \n",
    "    #Getting the story\n",
    "    title = story.find('h2')\n",
    "    if title == None:\n",
    "        title = None\n",
    "    else:\n",
    "        title = title.string\n",
    "    \n",
    "    #Getting the Comments\n",
    "    comments = story.find('a', {'class': 'comments'})\n",
    "    if comments == None:\n",
    "        comments = 0\n",
    "    else:\n",
    "        comments = story.find('img', {'src': '/media/img/main/icons/icon_comments.png'}).span.text\n",
    "        comments = int(comments)\n",
    "    \n",
    "    #creating the dictionary\n",
    "    dictionary = {'Site': 'Watson', 'Titel': title, 'Kommentare': int(comments), 'Link': href, 'Date': datestring}\n",
    "    \n",
    "    #creating the list\n",
    "    all_stories_watson.append(dictionary)"
   ]
  },
  {
   "cell_type": "code",
   "execution_count": 9,
   "metadata": {
    "collapsed": true
   },
   "outputs": [],
   "source": [
    "Tagi_Dict = []\n",
    "\n",
    "#looping through all the stories\n",
    "for x in Tagi_stories:\n",
    "    \n",
    "    #Getting each headline and extracting only the text\n",
    "    try:\n",
    "        title = x.find('h3').get_text().strip()\n",
    "    except:\n",
    "        title == None\n",
    "\n",
    "    #Getting the byline\n",
    "    #time = title.find('p', {'class' : 'storyInfo'})\n",
    "    \n",
    "    #Getting time\n",
    "    #time = x.find('p', {'class' : 'storyInfo'})\n",
    "    #time = time.find('time', {'class' : 'time'})\n",
    "    \n",
    "    #Getting Kommentare\n",
    "    if x.find('a', {'title' : 'Kommentare'}) is None:\n",
    "        kommentare = 0\n",
    "    else:\n",
    "        kommentare = x.find('a', {'title' : 'Kommentare'}).string\n",
    "        #kommentare = kommentare.replace(u'\\xa0', ' ')\n",
    "        kommentare = int(re.findall(r\"\\d+\", kommentare)[0])\n",
    "        \n",
    "    #Getting HREF\n",
    "    try:\n",
    "        href = x.find('h3')\n",
    "        href = href.find('a').get('href')\n",
    "        href = 'http://www.tagesanzeiger.ch' + href\n",
    "    except:\n",
    "        href == None\n",
    "        \n",
    "    #Creating dictionary with Tagi Headlines, time\n",
    "    title = { 'Site': 'Tagi', 'Titel': title, 'Kommentare': kommentare, 'Link': href, 'Date': datestring}\n",
    "    \n",
    "    Tagi_Dict.append(title)"
   ]
  },
  {
   "cell_type": "code",
   "execution_count": 10,
   "metadata": {
    "collapsed": true
   },
   "outputs": [],
   "source": [
    "Tagi_Kommentare_Dict = []\n",
    "\n",
    "for x in Tagi_kommentare:\n",
    "    \n",
    "    #Getting each headline and extracting only the text\n",
    "    try:\n",
    "        title = x.find('h4').get_text().strip()\n",
    "    except:\n",
    "        title == None\n",
    "    \n",
    "    #Getting Kommentare\n",
    "    if x.find('span', {'class' : 'icon icon-comment'}) is None:\n",
    "        kommentare = 0\n",
    "    else:\n",
    "        kommentare = x.find('span', {'class' : 'icon icon-comment'}).next_sibling\n",
    "        kommentare = kommentare[:4]\n",
    "        #A regular expression to make sure to get articles with more of 999 comments\n",
    "        if re.search(r\"\\D$\", kommentare):\n",
    "            kommentare = int(kommentare[:3])\n",
    "        else:\n",
    "            kommentare = int(kommentare)\n",
    "    #Getting HREF\n",
    "    try:\n",
    "        href = x.find('h4')\n",
    "        href = href.find('a').get('href')\n",
    "        href = 'http://www.tagesanzeiger.ch' + href\n",
    "    except:\n",
    "        href == None\n",
    "        \n",
    "    #Creating dictionary with Tagi Headlines, time\n",
    "    Kommentare = { 'Site': 'Tagi', 'Titel': title, 'Kommentare': kommentare, 'Link': href, 'Date': datestring}\n",
    "    \n",
    "    Tagi_Kommentare_Dict.append(Kommentare)"
   ]
  },
  {
   "cell_type": "code",
   "execution_count": 11,
   "metadata": {
    "collapsed": false
   },
   "outputs": [],
   "source": [
    "#adding the two dictionaries\n",
    "all_stories.extend(all_stories_watson)\n",
    "all_stories.extend(Tagi_Dict)\n",
    "all_stories.extend(Tagi_Kommentare_Dict)"
   ]
  },
  {
   "cell_type": "code",
   "execution_count": 12,
   "metadata": {
    "collapsed": false
   },
   "outputs": [],
   "source": [
    "#sorting the dictionary according to the value of the keys\n",
    "import operator\n",
    "all_stories.sort(key=operator.itemgetter('Kommentare'), reverse=True)"
   ]
  },
  {
   "cell_type": "code",
   "execution_count": 13,
   "metadata": {
    "collapsed": false
   },
   "outputs": [
    {
     "name": "stdout",
     "output_type": "stream",
     "text": [
      "20Min Lohnt es sich, den Motor am Rotlicht abzuschalten?\n",
      "20Min Italienische Zahlstellen verwirren Reisende\n",
      "Watson 99+ Bilder und Gifs gegen Langeweile: Der Picdump ist da!\n",
      "20Min «Nein muss Nein heissen  auch in der Schweiz»\n",
      "20Min Krankenkassenprämien steigen immer mehr\n",
      "20Min «Ich bin nach einer Harry Potter-Figur benannt»\n",
      "20Min Salt-Abos fliegen bei Mobilezone raus\n",
      "Watson Es geht los: Bist du fit für den Ramadan?\n",
      "20Min 50 Katzen verschwunden  Besitzer stehen vor Rätsel\n",
      "20Min Rührende Szenen nach dem Schlusspfiff\n",
      "Watson Hauptverdächtiger von Dallas identifiziert: Der 25-Jährige «hasste Weisse» und wollte Polizisten töten\n",
      "Watson Don't fuck with Olten – oder warum Satire nicht alles darf\n",
      "20Min Finden Sie heraus, wie Sie mit dem Chef reden sollten\n",
      "Watson Weil ihr so schön brav wart: 101 Bilder für ein besseres Wochenende – EXTRA PICDUMP\n",
      "20Min «Statt AKWs braucht es Tausende Batterien»\n",
      "20Min Was im Hotel alles gestohlen wird\n",
      "Tagi Traurig, tapfer, deutsch\n",
      "20Min Zwei Frauen kämpfen um Camerons Nachfolge\n",
      "20Min Der mysteriöse Mann auf der Zigipackung\n",
      "Watson Die «Grande Nation» steht im EM-Final – klaut aber den Schlachtruf der kleinen Isländer\n",
      "20Min «So sehen Bünzli aus, die am Rasenmähen sind»\n",
      "Tagi Heisser als der Kalte Krieg\n",
      "Watson Wie «Men's Fitness» Frauen aufreissen würde (und was die davon halten)\n",
      "20Min «Magnifiques Bleus!»\n",
      "20Min Weisse Shorts enthüllen Biebers bestes Stück\n",
      "20Min Warum sitzt ihr so lange auf der Toilette?\n",
      "20Min Der besondere Opel aus der Schweiz\n",
      "20Min Darum hatte Salt gestern einen Totalausfall\n",
      "Watson Auf diese News haben wir alle gewartet: Wer öfter Pasta isst, bleibt schlanker\n",
      "20Min Ex-Boxer bezwingt Bärin mit den blossen Fäusten\n",
      "20Min Tiefe Aktienkurse schüren Ängste vor neuer Krise\n",
      "20Min «Ein Grossraumbüro kann wunderbar sein»\n",
      "20Min «Ich habe eine Quarterlife-Crisis»\n",
      "20Min Mayonnaise sorgt für glänzendes Schamhaar\n",
      "Watson 100'000 Franken für die Aufklärung des Rupperswil-Mordes: Staatsanwaltschaft und Kapo teilen sich die Belohnung\n",
      "20Min Swissness-Trainerstab endgültig ad acta gelegt\n",
      "Watson Wie ich am Open Air zum gläsernen Festival-Besucher wurde und was nun mit den Daten passiert\n",
      "20Min 20 Minuten knackt die Milliarden-Grenze\n",
      "20Min «Nein heisst Nein»\n",
      "20Min 151 Minuten Metal-Orgasmus in Montreux\n",
      "20Min Papagei erhält neues Zuhause bei der Feuerwehr\n",
      "20Min 2017 beginnt mit einer zusätzlichen Sekunde\n",
      "20Min Gesunde Schoggi zum Trinken\n",
      "Watson Hört auf, dieses Bild von Mark Hughes zu teilen: Er hat mit dem Massaker in Dallas nichts zu tun\n",
      "Watson Wahr oder falsch? 15 Ernährungs-Mythen im Check\n",
      "20Min Griezmann braucht den Hattrick für den Rekord\n",
      "20Min Darum hat der Pfannenwender Schlitze\n",
      "20Min Spanisch lernen in zwei Wochen  geht das?\n",
      "20Min Die E-Mail-Affäre begleitet Clinton weiter\n",
      "20Min Kalte Suppe für heisse Sommertage\n",
      "20Min Nachlässig eingesetzte Gentech stärkt Schädlinge\n",
      "Watson Diese Bilder beweisen, dass wir betrunken ALLES lecker finden (und nicht kochen sollten)\n",
      "Watson Du verlierst immer deine Freunde im Getümmel? Wenn du diese 10 Aufgaben meisterst, bist du bereit fürs Züri Fäscht\n",
      "20Min Lügen bei der Wohnungsbewerbung\n",
      "20Min Nach dem Motorenstart sind die Zweifel weg\n",
      "20Min In China gibts das iPhone 7 schon  mit Doppel-Cam\n",
      "Watson Die unglaubliche Geschichte hinter diesem Mann, der bei jedem Terroranschlag stirbt\n",
      "Watson Die besten Sportlerpics auf Social Media: Alizé Lim ist schon da fürs Tennisturnier von Gstaad\n",
      "Tagi Mehr Pendler am Freitag!\n",
      "20Min «Brauche jedes Jahr 31'000 Euro für Handys»\n",
      "20Min Mit dem Schulbus von Alaska bis Argentinien\n",
      "20Min Das ist Nina Agdal, Leo DiCaprios alte Neue\n",
      "20Min Traumhäuser, in denen Sie garantiert niemand stört\n",
      "Watson Und der Preis für das dümmste Tech-Promo-Video geht an ... Snapchat 🙈\n",
      "Watson Blutrache und Hexerei-Vorwürfe – so spielten sie im Mittelalter Fussball \n",
      "20Min Hier tanken Sie in den Ferien am günstigsten\n",
      "20Min AfD-Politikerin twittert gegen die deutsche Elf\n",
      "20Min Darum benutzt Raonic einen Zahnschutz\n",
      "20Min Gericht verurteilt zwei Whistleblower\n",
      "Watson «Mein Roger»: 11 watson-Mitarbeiter erzählen ihre ganz persönlichen Federer-Anekdoten\n",
      "Tagi Apps schliessen leert den Akku\n",
      "Watson Diese 19 Festival-Gadgets könnten dein Leben retten – oder zumindest das Openair\n",
      "Watson Schweinsteiger macht den Boateng: «Hätten sie doch nur wie Löw ihre Eier gekrault ...» \n",
      "Watson C'est magnifique! Das sind die wichtigsten Szenen zu Frankreichs Triumph über Deutschland\n",
      "Watson #BEL18VE muss warten – Federer unterliegt Raonic in fünf Sätzen und verliert seinen ersten Wimbledon-Halbfinal überhaupt\n",
      "Watson Was alles noch langsamer ist als Giroud: Kontinentaldrift und Zaza! Die besten User-Kommentare\n",
      "Watson Mit Feuer und Flamme dabei! Aber für welchen Sport? Schaffst du es, die Fans zuzuordnen?\n",
      "Tagi Federer vergibt grosse Chancen und scheidet aus\n",
      "Tagi Schwarze Socken bis über die Knöchel\n",
      "Watson Hier kannst du was erleben! 13 extreme Orte der Welt\n",
      "Watson So sieht die Welt die Schweizer Politik – in 20 unneutralen Bildern und Memes \n",
      "Watson Tobias Kuster ist noch immer flüchtig – Zürcher Regierungsräte beschuldigen sich gegenseitig\n",
      "Watson Wie viel Gift steckt in deinen Kleidern? Hier siehst du, wer sauber und wer dreckig produziert\n",
      "Tagi Aber natürlich mit schmalen Hüften\n",
      "Watson Die Deutschen hadern mit dem Schicksal: «Wir haben heute unser bestes Spiel der EM gemacht»\n",
      "Watson Unser erstes Rechtschreib-Quiz war zu einfach? Nimm das, du Deutsch-Experte!\n",
      "Watson Zum Weinen schön: Das erste Bild des geliebten Haustieres – und das letzte \n",
      "Watson Bale oder Ronaldo? 12 Fragen, die nur echte Profis beantworten können\n",
      "Watson Sommaruga auf der Toilette: Das Facebook-Protokoll der Bundesrats-Schulreise\n",
      "Watson «Wie Champions!» und «Bonne nuit, Schweini!» – die Pressestimmen zu Frankreichs Triumph gegen Deutschland\n",
      "Watson Für iPhone- und iPad-User: Apple veröffentlicht «Public Beta» von iOS 10 – jetzt downloaden\n",
      "Watson Tesla bestätigt weitere «Autopilot»-Unfälle\n",
      "Watson Zum Open Air Frauenfeld: Erkennst du all diese Rap-Songs anhand einer Grafik?\n",
      "Watson Aus der Traum! Raonic wirft Federer raus und sagt: «Er gab mir eine kleine Chance, die nützte ich»\n",
      "Watson Presse, Pussy und Pomade: Eine Beleidigung «mal von der anderen Seite beleuchtet»\n",
      "Watson Schaun mer mal, wie gut du aufgepasst hast: Kennst du die Stadien der EM 2016?\n",
      "Watson Promis für und gegen den Brexit: Wer hat was gesagt?\n",
      "20Min Der Sommerdrink 2016 braucht keinen Alkohol\n",
      "20Min «Es waren einfach so viele Schüsse»\n",
      "20Min Dieser Wagen sucht einen neuen Besitzer\n",
      "20Min Fussballstars und ihre Schwestern\n",
      "20Min 14'600 Arztbesuche wegen Zeckenstichen\n",
      "20Min «Die Zustände in den Camps gehen mir nahe»\n",
      "20Min Wir drehen am Rad! Pokémon ist zurück!\n",
      "20Min Wassermelone steht uns!\n",
      "20Min Kämpfe gegen 13'000 Leser um die Quiz-Krone!\n",
      "20Min Bis zu 2300 Fr Belohnung für die Polizisten\n",
      "20Min Mädchen (4) und Frau sterben bei Bootsunfällen\n",
      "20Min Hacker drohte der Stadt Lausanne  verurteilt\n",
      "20Min Ferienstadt erobert hunderte Kinderherzen\n",
      "20Min Arbeitsloser überfällt Bank mit Schere\n",
      "20Min Freiburger Kapo stellt Berner Räuber\n",
      "20Min Ermittlungen zu sexuellen Übergriffen eingestellt\n",
      "20Min Polizei befreit zwei Hunde aus überhitztem Auto\n",
      "20Min Gabelstapler bringt Brücke zum Einsturz\n",
      "20Min Die Seele baumeln lassen\n",
      "20Min Menschenrechtler prangern Polizeigewalt an\n",
      "20Min Die Bilder des Tages\n",
      "20Min 5 Spiele für weniger Langeweile im Stau\n",
      "20Min ZDF will Böhmermanns Vertrag verlängern\n",
      "20Min Wie Frauen auf Sex-Portalen erobert werden wollen!\n",
      "20Min Arbeitslosenquote sinkt auf 3,1 Prozent\n",
      "20Min US-Steuerbehörde geht gegen Facebook vor\n",
      "20Min Auch Murray muss hart arbeiten\n",
      "20Min Staubfreie Zone\n",
      "20Min Bill Cosby muss doch vor Gericht\n",
      "20Min Arabische Sängerin wegen Freizügigkeit bedroht\n",
      "20Min Iron Man geht in Superhelden-Rente\n",
      "20Min Wieso können wir nicht pünktlich sein?\n",
      "20Min Was ist das Schönste, was jemand für Sie getan hat?\n",
      "20Min Liste für ein besseres Wochenende\n",
      "20Min Diese Autorin hat ein Heul-Tagebuch geführt\n",
      "20Min Macht euren Move und werdet #Poolhero\n",
      "20Min Hotels zum halben Preis\n",
      "20Min Männer können weniger lange ohne\n",
      "20Min Snapchat macht eigene Inhalte für immer abrufbar\n",
      "20Min Surfen in den bitterkalten Fluten\n",
      "20Min Einfach und natürlich zur Sommerfigur\n",
      "20Min Tschüss, ihr Loser, ich bin dann mal am Strand!\n",
      "20Min Australien  ein langersehnter Traum\n",
      "20Min An die Premiere von Spielbergs neustem Film «BFG»\n",
      "20Min Mit Sack, Pack und Family ab nach Florida\n",
      "20Min Wir schicken dich als VIP ans Zürich Openair!\n",
      "20Min Gewinne Tickets für das Blue Balls Festival!\n",
      "20Min Lass dich zu deinem Festival chauffieren!\n",
      "20Min Wer bekommt Cash für seine Fahrstunden?\n",
      "Watson Der Tod von Polizeiopfer Alton Sterling wurde nicht zufällig gefilmt – das ist die Geschichte hinter dem Video\n",
      "Watson Mit diesem Trick finden iPhone-Nutzer heraus, wie gut die Mobilfunk-Verbindung wirklich ist\n",
      "Watson «Meine Brüste hängen mir bis zur Taille, aber ich mag mich» – dieses Nacktfoto geht um die Welt\n",
      "Watson Vor diesem Kuharsch flüchten sogar die Löwen\n",
      "Watson George Takei ist schwul – wie der neue «Star Trek»-Sulu. Das findet der alte aber nicht so gut\n",
      "Watson Open Air Frauenfeld: Die ersten Festival-Fans liefen bei Traumwetter ein\n",
      "Watson Humans of Olten: «Z'Oute muesch nüt mache ond chonnsch trotzdäm id Ziitig»\n",
      "Watson 16 extrem deprimierende Musik-Fakten (der Schweizer Beitrag ist fast der schlimmste imfall)\n",
      "Watson Titel, Batzeli und Zürifäscht: Wir haben die Postkarten-Feriengrüsse der Eishockey-Stars abgefangen\n",
      "Watson Medizinische Einweg-Handschuhe in der Schweiz mit Bakterien verseucht\n",
      "Watson «Der Krieg muss enden»: Das sagt Beyoncé zu den jüngsten Fällen tödlicher Polizeigewalt\n",
      "Watson Die bezaubernden Dance-Kids aus Uganda sind zurück! Doch leider gibt es auch traurige News\n",
      "Watson 19 Festnahmen nach Selbstmordanschlägen in Saudi-Arabien\n",
      "Watson Wenn du gegen die Wand läufst: Das steckt hinter dem «Hungerast» und so kannst du ihn vermeiden\n",
      "Watson Knackeboul, der alte Freestyler, hat nur für dich gerappt! Hier sein Werk zum Nachgeniessen \n",
      "Tagi Der Schütze von Dallas ist identifiziert\n",
      "Tagi «Kein Vater sollte seinen Sohn begraben müssen»\n",
      "Tagi «Er ist wieder da. Ich bin sicher.»\n",
      "Tagi Ermittlungen zu sexuellen Belästigungen eingestellt\n",
      "Tagi Wie viel Wert hat die Credit Suisse verloren?\n",
      "Tagi Retter und Zerstörer auf zwei Rädern\n",
      "Tagi Keine Genossenschaftswohnungen für Reiche\n",
      "Tagi Der halbe Kranke\n",
      "Tagi Krankenkassenprämien steigen immer mehr\n",
      "Tagi Bitteres Halbfinal-Out für Federer\n",
      "Tagi Und jetzt der Musterknabe\n",
      "Tagi USA und Südkorea planen Raketenabwehr\n",
      "Tagi Die Angst der osteuropäischen Länder vor Russland\n",
      "Tagi «Demokratie oder Apartheid?»\n",
      "Tagi Nichts hat mit nichts zu tun\n",
      "Tagi «Snowden von den Russen abgeschöpft»\n",
      "Tagi «Ganz viele junge Leute nehmen es mit den Umgangsformen allzu easy»\n",
      "Tagi Die Jungen? Apolitisch? Von wegen!\n",
      "Tagi «Es sah aus wie eine Hinrichtung»\n",
      "Tagi Erstes CR7-Hotel eröffnet\n"
     ]
    }
   ],
   "source": [
    "len(all_stories )\n",
    "for x in all_stories:\n",
    "    print(x['Site'], x['Titel'])"
   ]
  },
  {
   "cell_type": "code",
   "execution_count": 14,
   "metadata": {
    "collapsed": false
   },
   "outputs": [
    {
     "data": {
      "text/plain": [
       "{'Date': '2016-Jul-08',\n",
       " 'Kommentare': 572,\n",
       " 'Link': 'http://www.20min.ch/schweiz/energy-challenge/story/Lohnt-es-sich--den-Motor-am-Rotlicht-abzuschalten--21177214',\n",
       " 'Site': '20Min',\n",
       " 'Titel': 'Lohnt es sich, den Motor am Rotlicht abzuschalten?'}"
      ]
     },
     "execution_count": 14,
     "metadata": {},
     "output_type": "execute_result"
    }
   ],
   "source": [
    "all_stories[0]"
   ]
  },
  {
   "cell_type": "code",
   "execution_count": 15,
   "metadata": {
    "collapsed": false
   },
   "outputs": [
    {
     "data": {
      "text/plain": [
       "'Lohnt es sich, den Motor am Rotlicht abzuschalten?'"
      ]
     },
     "execution_count": 15,
     "metadata": {},
     "output_type": "execute_result"
    }
   ],
   "source": [
    "all_stories[0]['Titel']"
   ]
  },
  {
   "cell_type": "code",
   "execution_count": 16,
   "metadata": {
    "collapsed": false
   },
   "outputs": [
    {
     "data": {
      "text/plain": [
       "181"
      ]
     },
     "execution_count": 16,
     "metadata": {},
     "output_type": "execute_result"
    }
   ],
   "source": [
    "len(all_stories)"
   ]
  },
  {
   "cell_type": "code",
   "execution_count": 17,
   "metadata": {
    "collapsed": false
   },
   "outputs": [],
   "source": [
    "Sum = 0\n",
    "for item in all_stories:\n",
    "    Sum = Sum + item['Kommentare']"
   ]
  },
  {
   "cell_type": "code",
   "execution_count": 18,
   "metadata": {
    "collapsed": false
   },
   "outputs": [
    {
     "data": {
      "text/plain": [
       "5014"
      ]
     },
     "execution_count": 18,
     "metadata": {},
     "output_type": "execute_result"
    }
   ],
   "source": [
    "Sum"
   ]
  },
  {
   "cell_type": "code",
   "execution_count": 19,
   "metadata": {
    "collapsed": false
   },
   "outputs": [],
   "source": [
    "Kommentar_Schnitt = round(Sum / len(all_stories))"
   ]
  },
  {
   "cell_type": "code",
   "execution_count": 20,
   "metadata": {
    "collapsed": true
   },
   "outputs": [],
   "source": [
    "Count = all_stories[0]['Kommentare']\n",
    "#if Count > 1100:\n",
    "#    Comment_Count = \"Lesen. Dazu hat Krethi und Plethi eine Meinung.\"\n",
    "#elif Count > 900:\n",
    "#    Comment_Count = \"Party-Talk. Wirklich an jeder Party.\"\n",
    "#elif Count > 700:\n",
    "#    Comment_Count = \"Da haben am Stammtisch einige etwas dazu zu sagen.\"\n",
    "#elif Count > 500:\n",
    "#    Comment_Count = \"Das bewegt einge. Am richtig viele sind das noch nicht.\"\n",
    "#elif Count > 0:\n",
    "#    Comment_Count = \"Da schlafen einige fleissige Kommentarschreiben wohl noch.\""
   ]
  },
  {
   "cell_type": "code",
   "execution_count": 21,
   "metadata": {
    "collapsed": false
   },
   "outputs": [],
   "source": [
    "#sentence = 'Kommentare: {}. Quelle: {}. {} {}'.format(all_stories[0]['Kommentare'], all_stories[0]['Site'], Comment_Count, all_stories[0]['Link'])"
   ]
  },
  {
   "cell_type": "code",
   "execution_count": 22,
   "metadata": {
    "collapsed": true
   },
   "outputs": [],
   "source": [
    "sentence = 'Die heisseste Front-Story läuft auf {} und hat {} Kommentare. Der Schnitt liegt bei {} Reaktionen pro Story. {}'.format(all_stories[0]['Site'], all_stories[0]['Kommentare'], Kommentar_Schnitt, all_stories[0]['Link']) "
   ]
  },
  {
   "cell_type": "code",
   "execution_count": null,
   "metadata": {
    "collapsed": true
   },
   "outputs": [],
   "source": []
  },
  {
   "cell_type": "code",
   "execution_count": 23,
   "metadata": {
    "collapsed": false
   },
   "outputs": [
    {
     "name": "stdout",
     "output_type": "stream",
     "text": [
      "Die heisseste Front-Story läuft auf 20Min und hat 572 Kommentare. Der Schnitt liegt bei 28 Reaktionen pro Story. http://www.20min.ch/schweiz/energy-challenge/story/Lohnt-es-sich--den-Motor-am-Rotlicht-abzuschalten--21177214\n"
     ]
    }
   ],
   "source": [
    "print(sentence)"
   ]
  },
  {
   "cell_type": "code",
   "execution_count": 24,
   "metadata": {
    "collapsed": false
   },
   "outputs": [],
   "source": [
    "#twitter = twython.Twython(api_key, api_secret)\n",
    "#auth = twitter.get_authentication_tokens()\n",
    "#print(\"Log into Twitter as the user you want to authorize and visit this URL:\")\n",
    "#print(\"\\t\" + auth['auth_url'])"
   ]
  },
  {
   "cell_type": "code",
   "execution_count": 25,
   "metadata": {
    "collapsed": false
   },
   "outputs": [],
   "source": [
    "#pin = \"XXXXXX\"\n",
    "#\n",
    "#twitter = twython.Twython(api_key, api_secret, auth['oauth_token'], auth['oauth_token_secret'])\n",
    "#tokens = twitter.get_authorized_tokens(pin)\n",
    "#\n",
    "#new_access_token = tokens['oauth_token']\n",
    "#new_token_secret = tokens['oauth_token_secret']\n",
    "#print(\"your access token:\", new_access_token)\n",
    "#print(\"your token secret:\", new_token_secret)"
   ]
  },
  {
   "cell_type": "code",
   "execution_count": 26,
   "metadata": {
    "collapsed": false
   },
   "outputs": [
    {
     "data": {
      "text/plain": [
       "{'contributors': None,\n",
       " 'coordinates': None,\n",
       " 'created_at': 'Fri Jul 08 16:22:04 +0000 2016',\n",
       " 'entities': {'hashtags': [],\n",
       "  'symbols': [],\n",
       "  'urls': [{'display_url': '20min.ch/schweiz/energy…',\n",
       "    'expanded_url': 'http://www.20min.ch/schweiz/energy-challenge/story/Lohnt-es-sich--den-Motor-am-Rotlicht-abzuschalten--21177214',\n",
       "    'indices': [113, 136],\n",
       "    'url': 'https://t.co/NbccGRlOcA'}],\n",
       "  'user_mentions': []},\n",
       " 'favorite_count': 0,\n",
       " 'favorited': False,\n",
       " 'geo': None,\n",
       " 'id': 751451293642817537,\n",
       " 'id_str': '751451293642817537',\n",
       " 'in_reply_to_screen_name': None,\n",
       " 'in_reply_to_status_id': None,\n",
       " 'in_reply_to_status_id_str': None,\n",
       " 'in_reply_to_user_id': None,\n",
       " 'in_reply_to_user_id_str': None,\n",
       " 'is_quote_status': False,\n",
       " 'lang': 'de',\n",
       " 'place': None,\n",
       " 'possibly_sensitive': False,\n",
       " 'retweet_count': 0,\n",
       " 'retweeted': False,\n",
       " 'source': '<a href=\"http://www.barnabyskinner.com/\" rel=\"nofollow\">First_App_data_and_databases</a>',\n",
       " 'text': 'Die heisseste Front-Story läuft auf 20Min und hat 572 Kommentare. Der Schnitt liegt bei 28 Reaktionen pro Story. https://t.co/NbccGRlOcA',\n",
       " 'truncated': False,\n",
       " 'user': {'contributors_enabled': False,\n",
       "  'created_at': 'Thu Jul 07 18:44:01 +0000 2016',\n",
       "  'default_profile': False,\n",
       "  'default_profile_image': False,\n",
       "  'description': 'Morgens, mittags und abends die meistdiskutierte Story der Front @20min @watson. Input und Fragen @BarJack (Alpha)',\n",
       "  'entities': {'description': {'urls': []}},\n",
       "  'favourites_count': 0,\n",
       "  'follow_request_sent': False,\n",
       "  'followers_count': 2,\n",
       "  'following': False,\n",
       "  'friends_count': 0,\n",
       "  'geo_enabled': False,\n",
       "  'has_extended_profile': False,\n",
       "  'id': 751124626298765312,\n",
       "  'id_str': '751124626298765312',\n",
       "  'is_translation_enabled': False,\n",
       "  'is_translator': False,\n",
       "  'lang': 'en',\n",
       "  'listed_count': 0,\n",
       "  'location': '',\n",
       "  'name': 'Comment_Explosion',\n",
       "  'notifications': False,\n",
       "  'profile_background_color': '000000',\n",
       "  'profile_background_image_url': 'http://abs.twimg.com/images/themes/theme1/bg.png',\n",
       "  'profile_background_image_url_https': 'https://abs.twimg.com/images/themes/theme1/bg.png',\n",
       "  'profile_background_tile': False,\n",
       "  'profile_banner_url': 'https://pbs.twimg.com/profile_banners/751124626298765312/1467918128',\n",
       "  'profile_image_url': 'http://pbs.twimg.com/profile_images/751131761325793281/_MFSDult_normal.jpg',\n",
       "  'profile_image_url_https': 'https://pbs.twimg.com/profile_images/751131761325793281/_MFSDult_normal.jpg',\n",
       "  'profile_link_color': '999999',\n",
       "  'profile_sidebar_border_color': '000000',\n",
       "  'profile_sidebar_fill_color': '000000',\n",
       "  'profile_text_color': '000000',\n",
       "  'profile_use_background_image': False,\n",
       "  'protected': False,\n",
       "  'screen_name': 'com_expl',\n",
       "  'statuses_count': 14,\n",
       "  'time_zone': None,\n",
       "  'url': None,\n",
       "  'utc_offset': None,\n",
       "  'verified': False}}"
      ]
     },
     "execution_count": 26,
     "metadata": {},
     "output_type": "execute_result"
    }
   ],
   "source": [
    "twitter.update_status(status=sentence)"
   ]
  },
  {
   "cell_type": "code",
   "execution_count": null,
   "metadata": {
    "collapsed": true
   },
   "outputs": [],
   "source": []
  }
 ],
 "metadata": {
  "kernelspec": {
   "display_name": "Python 3",
   "language": "python",
   "name": "python3"
  },
  "language_info": {
   "codemirror_mode": {
    "name": "ipython",
    "version": 3
   },
   "file_extension": ".py",
   "mimetype": "text/x-python",
   "name": "python",
   "nbconvert_exporter": "python",
   "pygments_lexer": "ipython3",
   "version": "3.5.1"
  }
 },
 "nbformat": 4,
 "nbformat_minor": 0
}
