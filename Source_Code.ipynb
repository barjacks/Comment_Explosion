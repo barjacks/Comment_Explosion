{
 "cells": [
  {
   "cell_type": "markdown",
   "metadata": {},
   "source": [
    "# Scraping the two news sites with most coments, 20Min & Watson"
   ]
  },
  {
   "cell_type": "code",
   "execution_count": 1,
   "metadata": {
    "collapsed": false
   },
   "outputs": [
    {
     "data": {
      "text/plain": [
       "'2016-Jul-08'"
      ]
     },
     "execution_count": 1,
     "metadata": {},
     "output_type": "execute_result"
    }
   ],
   "source": [
    "import requests\n",
    "from bs4 import BeautifulSoup\n",
    "import re\n",
    "import time\n",
    "import twython\n",
    "\n",
    "datestring = time.strftime(\"%Y-%h-%d\")\n",
    "datestring"
   ]
  },
  {
   "cell_type": "code",
   "execution_count": 2,
   "metadata": {
    "collapsed": true
   },
   "outputs": [],
   "source": [
    "api_key = \"\"\n",
    "api_secret = \"\"\n",
    "\n",
    "access_token = \"\"\n",
    "token_secret = \"\""
   ]
  },
  {
   "cell_type": "code",
   "execution_count": 3,
   "metadata": {
    "collapsed": true
   },
   "outputs": [],
   "source": [
    "twitter = twython.Twython(api_key, api_secret, access_token, token_secret)"
   ]
  },
  {
   "cell_type": "code",
   "execution_count": 4,
   "metadata": {
    "collapsed": true
   },
   "outputs": [],
   "source": [
    "# Grab the 20Min & Watson Homepages\n",
    "response = requests.get(\"http://www.20min.ch\")\n",
    "response_watson = requests.get(\"http://www.watson.ch/\")\n",
    "response_Tagi = requests.get(\"http://www.tagesanzeiger.ch\")"
   ]
  },
  {
   "cell_type": "code",
   "execution_count": 5,
   "metadata": {
    "collapsed": false
   },
   "outputs": [],
   "source": [
    "# Feed them into BeautifulSoup\n",
    "_20Min = BeautifulSoup(response.text, 'html.parser')\n",
    "Watson = BeautifulSoup(response_watson.text, 'html.parser')\n",
    "Tagi = BeautifulSoup(response_Tagi.text, 'html.parser')"
   ]
  },
  {
   "cell_type": "code",
   "execution_count": 6,
   "metadata": {
    "collapsed": false
   },
   "outputs": [],
   "source": [
    "stories = _20Min.find_all(\"div\", {'id': 'content'})\n",
    "stories_watson = Watson.find_all('div', {'class': 'teaser teaser_type_default     font_m  combo_bg combo_fg'})\n",
    "Tagi_stories = Tagi.find_all(\"div\", {'class': 'featureStory standard'})\n",
    "Tagi_kommentare = Tagi.find_all(\"div\", {'class': 'articleStory valued'})"
   ]
  },
  {
   "cell_type": "code",
   "execution_count": 7,
   "metadata": {
    "collapsed": false
   },
   "outputs": [],
   "source": [
    "#finding everything outside of the loop\n",
    "teaser_stories = stories[0].find_all('div', {'class': \"teaser \"})\n",
    "\n",
    "#starting the dictionary:\n",
    "all_stories = []\n",
    "\n",
    "#The Loop\n",
    "for story in teaser_stories:\n",
    "    \n",
    "    #Getting the comments\n",
    "    comments = story.find('div', {'class': \"teaser_media front clearfix\"})\n",
    "    if comments:\n",
    "        try:\n",
    "            comment = comments.find('span', {'class': 'icon_talkback'}).next_sibling\n",
    "            #Just using the number of comments\n",
    "            comment = comment[:4]\n",
    "            #A regular expression to make sure to get articles with more of 999 comments\n",
    "            if re.search(r\"\\D$\", comment):\n",
    "                comment = int(comment[:3])\n",
    "            else:\n",
    "                comment = int(comment)\n",
    "        except:\n",
    "            comment = 1\n",
    "    \n",
    "    #Getting the the title\n",
    "    title_div = story.find('div', {'class': \"teaser_title front\"})\n",
    "    title_string = title_div.find('h2').string\n",
    "    if re.search(r\"\\x96\", title_string):\n",
    "        title_string.replace(\"\\x96\", \"\")\n",
    "        \n",
    "    \n",
    "    #Getting the HREF\n",
    "    href = story.find('h3')\n",
    "    href = href.find('a', href=True)\n",
    "    href = href['href']\n",
    "    \n",
    "    #Dealing with non-full links\n",
    "    if re.search(r\"^http:\", href):\n",
    "        href = href\n",
    "    else:\n",
    "        href = 'http://www.20min.ch' + href\n",
    "    \n",
    "    #Creating the dictionary:\n",
    "    dictionary = {'Site': '20Min', 'Titel': title_string, 'Kommentare': int(comment), 'Link': href, 'Date': datestring}\n",
    "    \n",
    "    #List of dictionaries:\n",
    "    all_stories.append(dictionary)"
   ]
  },
  {
   "cell_type": "code",
   "execution_count": 8,
   "metadata": {
    "collapsed": true
   },
   "outputs": [],
   "source": [
    "#starting the dictionary:\n",
    "all_stories_watson = []\n",
    "\n",
    "#looping through titles, comments, links\n",
    "for story in stories_watson:\n",
    "    \n",
    "    #getting HREF\n",
    "    href = story.find('a', {'class': 'storylink combo_bd'})\n",
    "    try:\n",
    "        href = href['href']\n",
    "        href = ('http://watson.ch' + href)\n",
    "    except:\n",
    "        href == None\n",
    "        \n",
    "    #Getting the story\n",
    "    title = story.find('h2')\n",
    "    if title == None:\n",
    "        title = None\n",
    "    else:\n",
    "        title = title.string\n",
    "    \n",
    "    #Getting the Comments\n",
    "    comments = story.find('a', {'class': 'comments'})\n",
    "    if comments == None:\n",
    "        comments = 0\n",
    "    else:\n",
    "        comments = story.find('img', {'src': '/media/img/main/icons/icon_comments.png'}).span.text\n",
    "        comments = int(comments)\n",
    "    \n",
    "    #creating the dictionary\n",
    "    dictionary = {'Site': 'Watson', 'Titel': title, 'Kommentare': int(comments), 'Link': href, 'Date': datestring}\n",
    "    \n",
    "    #creating the list\n",
    "    all_stories_watson.append(dictionary)"
   ]
  },
  {
   "cell_type": "code",
   "execution_count": 9,
   "metadata": {
    "collapsed": true
   },
   "outputs": [],
   "source": [
    "Tagi_Dict = []\n",
    "\n",
    "#looping through all the stories\n",
    "for x in Tagi_stories:\n",
    "    \n",
    "    #Getting each headline and extracting only the text\n",
    "    try:\n",
    "        title = x.find('h3').get_text().strip()\n",
    "    except:\n",
    "        title == None\n",
    "\n",
    "    #Getting the byline\n",
    "    #time = title.find('p', {'class' : 'storyInfo'})\n",
    "    \n",
    "    #Getting time\n",
    "    #time = x.find('p', {'class' : 'storyInfo'})\n",
    "    #time = time.find('time', {'class' : 'time'})\n",
    "    \n",
    "    #Getting Kommentare\n",
    "    if x.find('a', {'title' : 'Kommentare'}) is None:\n",
    "        kommentare = 0\n",
    "    else:\n",
    "        kommentare = x.find('a', {'title' : 'Kommentare'}).string\n",
    "        #kommentare = kommentare.replace(u'\\xa0', ' ')\n",
    "        kommentare = int(re.findall(r\"\\d+\", kommentare)[0])\n",
    "        \n",
    "    #Getting HREF\n",
    "    try:\n",
    "        href = x.find('h3')\n",
    "        href = href.find('a').get('href')\n",
    "        href = 'http://www.tagesanzeiger.ch' + href\n",
    "    except:\n",
    "        href == None\n",
    "        \n",
    "    #Creating dictionary with Tagi Headlines, time\n",
    "    title = { 'Site': 'Tagi', 'Titel': title, 'Kommentare': kommentare, 'Link': href, 'Date': datestring}\n",
    "    \n",
    "    Tagi_Dict.append(title)"
   ]
  },
  {
   "cell_type": "code",
   "execution_count": 10,
   "metadata": {
    "collapsed": true
   },
   "outputs": [],
   "source": [
    "Tagi_Kommentare_Dict = []\n",
    "\n",
    "for x in Tagi_kommentare:\n",
    "    \n",
    "    #Getting each headline and extracting only the text\n",
    "    try:\n",
    "        title = x.find('h4').get_text().strip()\n",
    "    except:\n",
    "        title == None\n",
    "    \n",
    "    #Getting Kommentare\n",
    "    if x.find('span', {'class' : 'icon icon-comment'}) is None:\n",
    "        kommentare = 0\n",
    "    else:\n",
    "        kommentare = x.find('span', {'class' : 'icon icon-comment'}).next_sibling\n",
    "        kommentare = kommentare[:4]\n",
    "        #A regular expression to make sure to get articles with more of 999 comments\n",
    "        if re.search(r\"\\D$\", kommentare):\n",
    "            kommentare = int(kommentare[:3])\n",
    "        else:\n",
    "            kommentare = int(kommentare)\n",
    "    #Getting HREF\n",
    "    try:\n",
    "        href = x.find('h4')\n",
    "        href = href.find('a').get('href')\n",
    "        href = 'http://www.tagesanzeiger.ch' + href\n",
    "    except:\n",
    "        href == None\n",
    "        \n",
    "    #Creating dictionary with Tagi Headlines, time\n",
    "    Kommentare = { 'Site': 'Tagi', 'Titel': title, 'Kommentare': kommentare, 'Link': href, 'Date': datestring}\n",
    "    \n",
    "    Tagi_Kommentare_Dict.append(Kommentare)"
   ]
  },
  {
   "cell_type": "code",
   "execution_count": 11,
   "metadata": {
    "collapsed": false
   },
   "outputs": [],
   "source": [
    "#adding the two dictionaries\n",
    "all_stories.extend(all_stories_watson)\n",
    "all_stories.extend(Tagi_Dict)\n",
    "all_stories.extend(Tagi_Kommentare_Dict)"
   ]
  },
  {
   "cell_type": "code",
   "execution_count": 12,
   "metadata": {
    "collapsed": false
   },
   "outputs": [],
   "source": [
    "#sorting the dictionary according to the value of the keys\n",
    "import operator\n",
    "all_stories.sort(key=operator.itemgetter('Kommentare'), reverse=True)"
   ]
  },
  {
   "cell_type": "code",
   "execution_count": 14,
   "metadata": {
    "collapsed": false
   },
   "outputs": [
    {
     "data": {
      "text/plain": [
       "{'Date': '2016-Jul-08',\n",
       " 'Kommentare': 572,\n",
       " 'Link': 'http://www.20min.ch/schweiz/energy-challenge/story/Lohnt-es-sich--den-Motor-am-Rotlicht-abzuschalten--21177214',\n",
       " 'Site': '20Min',\n",
       " 'Titel': 'Lohnt es sich, den Motor am Rotlicht abzuschalten?'}"
      ]
     },
     "execution_count": 14,
     "metadata": {},
     "output_type": "execute_result"
    }
   ],
   "source": [
    "all_stories[0]"
   ]
  },
  {
   "cell_type": "code",
   "execution_count": 15,
   "metadata": {
    "collapsed": false
   },
   "outputs": [
    {
     "data": {
      "text/plain": [
       "'Lohnt es sich, den Motor am Rotlicht abzuschalten?'"
      ]
     },
     "execution_count": 15,
     "metadata": {},
     "output_type": "execute_result"
    }
   ],
   "source": [
    "all_stories[0]['Titel']"
   ]
  },
  {
   "cell_type": "code",
   "execution_count": 16,
   "metadata": {
    "collapsed": false
   },
   "outputs": [
    {
     "data": {
      "text/plain": [
       "181"
      ]
     },
     "execution_count": 16,
     "metadata": {},
     "output_type": "execute_result"
    }
   ],
   "source": [
    "len(all_stories)"
   ]
  },
  {
   "cell_type": "code",
   "execution_count": 17,
   "metadata": {
    "collapsed": false
   },
   "outputs": [],
   "source": [
    "Sum = 0\n",
    "for item in all_stories:\n",
    "    Sum = Sum + item['Kommentare']"
   ]
  },
  {
   "cell_type": "code",
   "execution_count": 18,
   "metadata": {
    "collapsed": false
   },
   "outputs": [
    {
     "data": {
      "text/plain": [
       "5014"
      ]
     },
     "execution_count": 18,
     "metadata": {},
     "output_type": "execute_result"
    }
   ],
   "source": [
    "Sum"
   ]
  },
  {
   "cell_type": "code",
   "execution_count": 19,
   "metadata": {
    "collapsed": false
   },
   "outputs": [],
   "source": [
    "Kommentar_Schnitt = round(Sum / len(all_stories))"
   ]
  },
  {
   "cell_type": "code",
   "execution_count": 20,
   "metadata": {
    "collapsed": true
   },
   "outputs": [],
   "source": [
    "Count = all_stories[0]['Kommentare']\n",
    "#if Count > 1100:\n",
    "#    Comment_Count = \"Lesen. Dazu hat Krethi und Plethi eine Meinung.\"\n",
    "#elif Count > 900:\n",
    "#    Comment_Count = \"Party-Talk. Wirklich an jeder Party.\"\n",
    "#elif Count > 700:\n",
    "#    Comment_Count = \"Da haben am Stammtisch einige etwas dazu zu sagen.\"\n",
    "#elif Count > 500:\n",
    "#    Comment_Count = \"Das bewegt einge. Am richtig viele sind das noch nicht.\"\n",
    "#elif Count > 0:\n",
    "#    Comment_Count = \"Da schlafen einige fleissige Kommentarschreiben wohl noch.\""
   ]
  },
  {
   "cell_type": "code",
   "execution_count": 21,
   "metadata": {
    "collapsed": false
   },
   "outputs": [],
   "source": [
    "#sentence = 'Kommentare: {}. Quelle: {}. {} {}'.format(all_stories[0]['Kommentare'], all_stories[0]['Site'], Comment_Count, all_stories[0]['Link'])"
   ]
  },
  {
   "cell_type": "code",
   "execution_count": 22,
   "metadata": {
    "collapsed": true
   },
   "outputs": [],
   "source": [
    "sentence = 'Die heisseste Front-Story läuft auf {} und hat {} Kommentare. Der Schnitt liegt bei {} Reaktionen pro Story. {}'.format(all_stories[0]['Site'], all_stories[0]['Kommentare'], Kommentar_Schnitt, all_stories[0]['Link']) "
   ]
  },
  {
   "cell_type": "code",
   "execution_count": null,
   "metadata": {
    "collapsed": true
   },
   "outputs": [],
   "source": []
  },
  {
   "cell_type": "code",
   "execution_count": 23,
   "metadata": {
    "collapsed": false
   },
   "outputs": [
    {
     "name": "stdout",
     "output_type": "stream",
     "text": [
      "Die heisseste Front-Story läuft auf 20Min und hat 572 Kommentare. Der Schnitt liegt bei 28 Reaktionen pro Story. http://www.20min.ch/schweiz/energy-challenge/story/Lohnt-es-sich--den-Motor-am-Rotlicht-abzuschalten--21177214\n"
     ]
    }
   ],
   "source": [
    "print(sentence)"
   ]
  },
  {
   "cell_type": "code",
   "execution_count": 24,
   "metadata": {
    "collapsed": false
   },
   "outputs": [],
   "source": [
    "#twitter = twython.Twython(api_key, api_secret)\n",
    "#auth = twitter.get_authentication_tokens()\n",
    "#print(\"Log into Twitter as the user you want to authorize and visit this URL:\")\n",
    "#print(\"\\t\" + auth['auth_url'])"
   ]
  },
  {
   "cell_type": "code",
   "execution_count": 25,
   "metadata": {
    "collapsed": false
   },
   "outputs": [],
   "source": [
    "#pin = \"XXXXXX\"\n",
    "#\n",
    "#twitter = twython.Twython(api_key, api_secret, auth['oauth_token'], auth['oauth_token_secret'])\n",
    "#tokens = twitter.get_authorized_tokens(pin)\n",
    "#\n",
    "#new_access_token = tokens['oauth_token']\n",
    "#new_token_secret = tokens['oauth_token_secret']\n",
    "#print(\"your access token:\", new_access_token)\n",
    "#print(\"your token secret:\", new_token_secret)"
   ]
  },
  {
   "cell_type": "code",
   "execution_count": 26,
   "metadata": {
    "collapsed": false
   },
   "outputs": [
    {
     "data": {
      "text/plain": [
       "{'contributors': None,\n",
       " 'coordinates': None,\n",
       " 'created_at': 'Fri Jul 08 16:22:04 +0000 2016',\n",
       " 'entities': {'hashtags': [],\n",
       "  'symbols': [],\n",
       "  'urls': [{'display_url': '20min.ch/schweiz/energy…',\n",
       "    'expanded_url': 'http://www.20min.ch/schweiz/energy-challenge/story/Lohnt-es-sich--den-Motor-am-Rotlicht-abzuschalten--21177214',\n",
       "    'indices': [113, 136],\n",
       "    'url': 'https://t.co/NbccGRlOcA'}],\n",
       "  'user_mentions': []},\n",
       " 'favorite_count': 0,\n",
       " 'favorited': False,\n",
       " 'geo': None,\n",
       " 'id': 751451293642817537,\n",
       " 'id_str': '751451293642817537',\n",
       " 'in_reply_to_screen_name': None,\n",
       " 'in_reply_to_status_id': None,\n",
       " 'in_reply_to_status_id_str': None,\n",
       " 'in_reply_to_user_id': None,\n",
       " 'in_reply_to_user_id_str': None,\n",
       " 'is_quote_status': False,\n",
       " 'lang': 'de',\n",
       " 'place': None,\n",
       " 'possibly_sensitive': False,\n",
       " 'retweet_count': 0,\n",
       " 'retweeted': False,\n",
       " 'source': '<a href=\"http://www.barnabyskinner.com/\" rel=\"nofollow\">First_App_data_and_databases</a>',\n",
       " 'text': 'Die heisseste Front-Story läuft auf 20Min und hat 572 Kommentare. Der Schnitt liegt bei 28 Reaktionen pro Story. https://t.co/NbccGRlOcA',\n",
       " 'truncated': False,\n",
       " 'user': {'contributors_enabled': False,\n",
       "  'created_at': 'Thu Jul 07 18:44:01 +0000 2016',\n",
       "  'default_profile': False,\n",
       "  'default_profile_image': False,\n",
       "  'description': 'Morgens, mittags und abends die meistdiskutierte Story der Front @20min @watson. Input und Fragen @BarJack (Alpha)',\n",
       "  'entities': {'description': {'urls': []}},\n",
       "  'favourites_count': 0,\n",
       "  'follow_request_sent': False,\n",
       "  'followers_count': 2,\n",
       "  'following': False,\n",
       "  'friends_count': 0,\n",
       "  'geo_enabled': False,\n",
       "  'has_extended_profile': False,\n",
       "  'id': 751124626298765312,\n",
       "  'id_str': '751124626298765312',\n",
       "  'is_translation_enabled': False,\n",
       "  'is_translator': False,\n",
       "  'lang': 'en',\n",
       "  'listed_count': 0,\n",
       "  'location': '',\n",
       "  'name': 'Comment_Explosion',\n",
       "  'notifications': False,\n",
       "  'profile_background_color': '000000',\n",
       "  'profile_background_image_url': 'http://abs.twimg.com/images/themes/theme1/bg.png',\n",
       "  'profile_background_image_url_https': 'https://abs.twimg.com/images/themes/theme1/bg.png',\n",
       "  'profile_background_tile': False,\n",
       "  'profile_banner_url': 'https://pbs.twimg.com/profile_banners/751124626298765312/1467918128',\n",
       "  'profile_image_url': 'http://pbs.twimg.com/profile_images/751131761325793281/_MFSDult_normal.jpg',\n",
       "  'profile_image_url_https': 'https://pbs.twimg.com/profile_images/751131761325793281/_MFSDult_normal.jpg',\n",
       "  'profile_link_color': '999999',\n",
       "  'profile_sidebar_border_color': '000000',\n",
       "  'profile_sidebar_fill_color': '000000',\n",
       "  'profile_text_color': '000000',\n",
       "  'profile_use_background_image': False,\n",
       "  'protected': False,\n",
       "  'screen_name': 'com_expl',\n",
       "  'statuses_count': 14,\n",
       "  'time_zone': None,\n",
       "  'url': None,\n",
       "  'utc_offset': None,\n",
       "  'verified': False}}"
      ]
     },
     "execution_count": 26,
     "metadata": {},
     "output_type": "execute_result"
    }
   ],
   "source": [
    "twitter.update_status(status=sentence)"
   ]
  },
  {
   "cell_type": "code",
   "execution_count": null,
   "metadata": {
    "collapsed": true
   },
   "outputs": [],
   "source": []
  }
 ],
 "metadata": {
  "kernelspec": {
   "display_name": "Python 3",
   "language": "python",
   "name": "python3"
  },
  "language_info": {
   "codemirror_mode": {
    "name": "ipython",
    "version": 3
   },
   "file_extension": ".py",
   "mimetype": "text/x-python",
   "name": "python",
   "nbconvert_exporter": "python",
   "pygments_lexer": "ipython3",
   "version": "3.5.1"
  }
 },
 "nbformat": 4,
 "nbformat_minor": 0
}
