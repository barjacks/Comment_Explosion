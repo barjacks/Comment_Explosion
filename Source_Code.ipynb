{
 "cells": [
  {
   "cell_type": "markdown",
   "metadata": {},
   "source": [
    "# Scraping the two news sites with most coments, 20Min & Watson"
   ]
  },
  {
   "cell_type": "code",
   "execution_count": 1,
   "metadata": {
    "collapsed": false
   },
   "outputs": [
    {
     "data": {
      "text/plain": [
       "'2016-Jul-09'"
      ]
     },
     "execution_count": 1,
     "metadata": {},
     "output_type": "execute_result"
    }
   ],
   "source": [
    "import requests\n",
    "from bs4 import BeautifulSoup\n",
    "import re\n",
    "import time\n",
    "import twython\n",
    "\n",
    "datestring = time.strftime(\"%Y-%h-%d\")\n",
    "datestring"
   ]
  },
  {
   "cell_type": "code",
   "execution_count": 2,
   "metadata": {
    "collapsed": true
   },
   "outputs": [],
   "source": [
    "api_key = \"Q5JK9VebduplKnM0JDHuAA7HD\"\n",
    "api_secret = \"kOSrqYUlq1eTyX1fCoNtpS31zLMOdvA8vK5sppBP8OH6rD3yiW\"\n",
    "\n",
    "access_token = \"751124626298765312-Cjgz95g9os1RNT6H3MaJCbdmagjI3YB\"\n",
    "token_secret = \"RSdyXxAL3NTmpMa1AC6GlZ5PzphoaVULYnovFt6LceGAR\""
   ]
  },
  {
   "cell_type": "code",
   "execution_count": 3,
   "metadata": {
    "collapsed": true
   },
   "outputs": [],
   "source": [
    "twitter = twython.Twython(api_key, api_secret, access_token, token_secret)"
   ]
  },
  {
   "cell_type": "code",
   "execution_count": 4,
   "metadata": {
    "collapsed": true
   },
   "outputs": [],
   "source": [
    "# Grab the 20Min & Watson Homepages\n",
    "response = requests.get(\"http://www.20min.ch\")\n",
    "response_watson = requests.get(\"http://www.watson.ch/\")\n",
    "response_Tagi = requests.get(\"http://www.tagesanzeiger.ch\")"
   ]
  },
  {
   "cell_type": "code",
   "execution_count": 5,
   "metadata": {
    "collapsed": false
   },
   "outputs": [],
   "source": [
    "# Feed them into BeautifulSoup\n",
    "_20Min = BeautifulSoup(response.text, 'html.parser')\n",
    "Watson = BeautifulSoup(response_watson.text, 'html.parser')\n",
    "Tagi = BeautifulSoup(response_Tagi.text, 'html.parser')"
   ]
  },
  {
   "cell_type": "code",
   "execution_count": 6,
   "metadata": {
    "collapsed": false
   },
   "outputs": [],
   "source": [
    "stories = _20Min.find_all(\"div\", {'id': 'content'})\n",
    "stories_watson = Watson.find_all('div', {'class': 'teaser teaser_type_default     font_m  combo_bg combo_fg'})\n",
    "Tagi_stories = Tagi.find_all(\"div\", {'class': 'featureStory standard'})\n",
    "Tagi_kommentare = Tagi.find_all(\"div\", {'class': 'articleStory valued'})"
   ]
  },
  {
   "cell_type": "code",
   "execution_count": 7,
   "metadata": {
    "collapsed": false
   },
   "outputs": [],
   "source": [
    "#finding everything outside of the loop\n",
    "teaser_stories = stories[0].find_all('div', {'class': \"teaser \"})\n",
    "\n",
    "#starting the dictionary:\n",
    "all_stories = []\n",
    "\n",
    "#The Loop\n",
    "for story in teaser_stories:\n",
    "    \n",
    "    #Getting the comments\n",
    "    comments = story.find('div', {'class': \"teaser_media front clearfix\"})\n",
    "    if comments:\n",
    "        try:\n",
    "            comment = comments.find('span', {'class': 'icon_talkback'}).next_sibling\n",
    "            #Just using the number of comments\n",
    "            comment = comment[:4]\n",
    "            #A regular expression to make sure to get articles with more of 999 comments\n",
    "            if re.search(r\"\\D$\", comment):\n",
    "                comment = int(comment[:3])\n",
    "            else:\n",
    "                comment = int(comment)\n",
    "        except:\n",
    "            comment = 1\n",
    "    \n",
    "    #Getting the the title\n",
    "    title_div = story.find('div', {'class': \"teaser_title front\"})\n",
    "    title_string = title_div.find('h2').string\n",
    "    if re.search(r\"\\x96\", title_string):\n",
    "        title_string.replace(\"\\x96\", \"\")\n",
    "        \n",
    "    \n",
    "    #Getting the HREF\n",
    "    href = story.find('h3')\n",
    "    href = href.find('a', href=True)\n",
    "    href = href['href']\n",
    "    \n",
    "    #Dealing with non-full links\n",
    "    if re.search(r\"^http:\", href):\n",
    "        href = href\n",
    "    else:\n",
    "        href = 'http://www.20min.ch' + href\n",
    "    \n",
    "    #Creating the dictionary:\n",
    "    dictionary = {'Site': '@20min', 'Titel': title_string, 'Kommentare': int(comment), 'Link': href, 'Date': datestring}\n",
    "    \n",
    "    #List of dictionaries:\n",
    "    all_stories.append(dictionary)"
   ]
  },
  {
   "cell_type": "code",
   "execution_count": 8,
   "metadata": {
    "collapsed": true
   },
   "outputs": [],
   "source": [
    "#starting the dictionary:\n",
    "all_stories_watson = []\n",
    "\n",
    "#looping through titles, comments, links\n",
    "for story in stories_watson:\n",
    "    \n",
    "    #getting HREF\n",
    "    href = story.find('a', {'class': 'storylink combo_bd'})\n",
    "    try:\n",
    "        href = href['href']\n",
    "        href = ('http://watson.ch' + href)\n",
    "    except:\n",
    "        href == None\n",
    "        \n",
    "    #Getting the story\n",
    "    title = story.find('h2')\n",
    "    if title == None:\n",
    "        title = None\n",
    "    else:\n",
    "        title = title.string\n",
    "    \n",
    "    #Getting the Comments\n",
    "    comments = story.find('a', {'class': 'comments'})\n",
    "    if comments == None:\n",
    "        comments = 0\n",
    "    else:\n",
    "        comments = story.find('img', {'src': '/media/img/main/icons/icon_comments.png'}).span.text\n",
    "        comments = int(comments)\n",
    "    \n",
    "    #creating the dictionary\n",
    "    dictionary = {'Site': '@watson_news', 'Titel': title, 'Kommentare': int(comments), 'Link': href, 'Date': datestring}\n",
    "    \n",
    "    #creating the list\n",
    "    all_stories_watson.append(dictionary)"
   ]
  },
  {
   "cell_type": "code",
   "execution_count": 9,
   "metadata": {
    "collapsed": true
   },
   "outputs": [],
   "source": [
    "Tagi_Dict = []\n",
    "\n",
    "#looping through all the stories\n",
    "for x in Tagi_stories:\n",
    "    \n",
    "    #Getting each headline and extracting only the text\n",
    "    try:\n",
    "        title = x.find('h3').get_text().strip()\n",
    "    except:\n",
    "        title == None\n",
    "\n",
    "    #Getting the byline\n",
    "    #time = title.find('p', {'class' : 'storyInfo'})\n",
    "    \n",
    "    #Getting time\n",
    "    #time = x.find('p', {'class' : 'storyInfo'})\n",
    "    #time = time.find('time', {'class' : 'time'})\n",
    "    \n",
    "    #Getting Kommentare\n",
    "    if x.find('a', {'title' : 'Kommentare'}) is None:\n",
    "        kommentare = 0\n",
    "    else:\n",
    "        kommentare = x.find('a', {'title' : 'Kommentare'}).string\n",
    "        #kommentare = kommentare.replace(u'\\xa0', ' ')\n",
    "        kommentare = int(re.findall(r\"\\d+\", kommentare)[0])\n",
    "        \n",
    "    #Getting HREF\n",
    "    try:\n",
    "        href = x.find('h3')\n",
    "        href = href.find('a').get('href')\n",
    "        href = 'http://www.tagesanzeiger.ch' + href\n",
    "    except:\n",
    "        href == None\n",
    "        \n",
    "    #Creating dictionary with Tagi Headlines, time\n",
    "    title = { 'Site': '@tagesanzeiger', 'Titel': title, 'Kommentare': kommentare, 'Link': href, 'Date': datestring}\n",
    "    \n",
    "    Tagi_Dict.append(title)"
   ]
  },
  {
   "cell_type": "code",
   "execution_count": 10,
   "metadata": {
    "collapsed": false
   },
   "outputs": [
    {
     "name": "stdout",
     "output_type": "stream",
     "text": [
      "2\n"
     ]
    }
   ],
   "source": [
    "Tagi_Kommentare_Dict = []\n",
    "\n",
    "for x in Tagi_kommentare:\n",
    "    \n",
    "    #Getting each headline and extracting only the text\n",
    "    try:\n",
    "        title = x.find('h4').get_text().strip()\n",
    "    except:\n",
    "        title == None\n",
    "    \n",
    "    #Getting Kommentare\n",
    "    if x.find('span', {'class' : 'icon icon-comment'}) is None:\n",
    "        kommentare = 0\n",
    "    else:\n",
    "        kommentare = x.find('span', {'class' : 'icon icon-comment'}).next_sibling\n",
    "        kommentare = kommentare[:4]\n",
    "        #A regular expression to make sure to get articles with more of 999 comments\n",
    "        if re.search(r\"\\D$\", kommentare):\n",
    "            kommentare = int(float(kommentare[:2]))\n",
    "            print(kommentare)\n",
    "        else:\n",
    "            kommentare = int(kommentare)\n",
    "    #Getting HREF\n",
    "    try:\n",
    "        href = x.find('h4')\n",
    "        href = href.find('a').get('href')\n",
    "        href = 'http://www.tagesanzeiger.ch' + href\n",
    "    except:\n",
    "        href == None\n",
    "        \n",
    "    #Creating dictionary with Tagi Headlines, time\n",
    "    Kommentare = { 'Site': '@tagesanzeiger', 'Titel': title, 'Kommentare': kommentare, 'Link': href, 'Date': datestring}\n",
    "    \n",
    "    Tagi_Kommentare_Dict.append(Kommentare)"
   ]
  },
  {
   "cell_type": "code",
   "execution_count": 11,
   "metadata": {
    "collapsed": false
   },
   "outputs": [],
   "source": [
    "#adding the two dictionaries\n",
    "all_stories.extend(all_stories_watson)\n",
    "all_stories.extend(Tagi_Dict)\n",
    "all_stories.extend(Tagi_Kommentare_Dict)"
   ]
  },
  {
   "cell_type": "code",
   "execution_count": 12,
   "metadata": {
    "collapsed": false
   },
   "outputs": [],
   "source": [
    "#sorting the dictionary according to the value of the keys\n",
    "import operator\n",
    "all_stories.sort(key=operator.itemgetter('Kommentare'), reverse=True)"
   ]
  },
  {
   "cell_type": "code",
   "execution_count": 13,
   "metadata": {
    "collapsed": false
   },
   "outputs": [
    {
     "name": "stdout",
     "output_type": "stream",
     "text": [
      "[{'Titel': 'Nationalratskommission bittet Ältere zur Kasse', 'Site': '@20min', 'Kommentare': 687, 'Date': '2016-Jul-09', 'Link': 'http://www.20min.ch/schweiz/news/story/Nationalratskommission-bittet--ltere-zur-Kasse-16499162'}, {'Titel': 'Italienische Zahlstellen verwirren Reisende', 'Site': '@20min', 'Kommentare': 670, 'Date': '2016-Jul-09', 'Link': 'http://www.20min.ch/schweiz/news/story/Italienische-Zahlstellen-verwirren-Reisende-17793978'}, {'Titel': 'Lohnt es sich, den Motor am Rotlicht abzuschalten?', 'Site': '@20min', 'Kommentare': 590, 'Date': '2016-Jul-09', 'Link': 'http://www.20min.ch/schweiz/energy-challenge/story/Lohnt-es-sich--den-Motor-am-Rotlicht-abzuschalten--21177214'}, {'Titel': 'Krankenkassenprämien steigen immer mehr', 'Site': '@20min', 'Kommentare': 353, 'Date': '2016-Jul-09', 'Link': 'http://www.20min.ch/finance/news/story/Krankenkassenpraemien-steigen-immer-mehr-24655934'}, {'Titel': '99+ Bilder und Gifs gegen Langeweile: Der Picdump ist da!', 'Site': '@watson_news', 'Kommentare': 322, 'Date': '2016-Jul-09', 'Link': 'http://watson.ch/Popul%C3%A4rkultur/Nightlife/435146696-99+-Bilder-und-Gifs-gegen-Langeweile--Der-Picdump-ist-da!'}, {'Titel': '«Ich bin wütend und traurig»', 'Site': '@20min', 'Kommentare': 266, 'Date': '2016-Jul-09', 'Link': 'http://www.20min.ch/sport/tennis/story/-Ich-bin-wuetend-und-traurig--21028262'}, {'Titel': '«So sehen Bünzli aus, die am Rasenmähen sind»', 'Site': '@20min', 'Kommentare': 250, 'Date': '2016-Jul-09', 'Link': 'http://www.20min.ch/people/schweiz/story/-So-sehen-Buenzli-aus--die-am-Rasenmaehen-sind--21134724'}, {'Titel': 'Salt-Abos fliegen bei Mobilezone raus', 'Site': '@20min', 'Kommentare': 213, 'Date': '2016-Jul-09', 'Link': 'http://www.20min.ch/finance/news/story/Salt-Abos-fliegen-bei-Mobilezone-raus-11249922'}, {'Titel': '«Ich bin nach einer \\x8bHarry Potter\\x9b-Figur benannt»', 'Site': '@20min', 'Kommentare': 189, 'Date': '2016-Jul-09', 'Link': 'http://www.20min.ch/community/stories/story/-Ich-bin-nach-einer--Harry-Potter--Figur-benannt--18315099'}, {'Titel': 'Was kann man tun, wenn ein Flug annulliert wird?', 'Site': '@20min', 'Kommentare': 139, 'Date': '2016-Jul-09', 'Link': 'http://www.20min.ch/finance/news/story/Was-kann-man-tun--wenn-ein-Flug-annulliert-wird--19751249'}, {'Titel': 'Darum hatte Salt gestern einen Totalausfall', 'Site': '@20min', 'Kommentare': 132, 'Date': '2016-Jul-09', 'Link': 'http://www.20min.ch/digital/news/story/Darum-hatte-Salt-gestern-einen-Totalausfall-24903910'}, {'Titel': 'Bomben-Roboter ist die neue Waffe der Polizei', 'Site': '@20min', 'Kommentare': 126, 'Date': '2016-Jul-09', 'Link': 'http://www.20min.ch/panorama/news/story/Bomben-Roboter-ist-die-neue-Waffe-der-Polizei-29514670'}, {'Titel': 'Rührende Szenen nach dem Schlusspfiff', 'Site': '@20min', 'Kommentare': 121, 'Date': '2016-Jul-09', 'Link': 'http://www.20min.ch/em2016/international/story/Ruehrende-Szenen-nach-dem-Schlusspfiff-18814596'}, {'Titel': 'EM-Tagesticker: Die spezielle Geschichte von Raphael Guerreiros +++ welcher Torjäger drückt dem Final seinen Stempel auf?', 'Site': '@watson_news', 'Kommentare': 119, 'Date': '2016-Jul-09', 'Link': 'http://watson.ch/EM%202016%20Tagesticker/articles/177786071-EM-Tagesticker--Die-spezielle-Geschichte-von-Raphael-Guerreiros-+++-welcher-Torj%C3%A4ger-dr%C3%BCckt-dem-Final-seinen-Stempel-auf-'}, {'Titel': 'Finden Sie heraus, wie Sie mit dem Chef reden sollten', 'Site': '@20min', 'Kommentare': 104, 'Date': '2016-Jul-09', 'Link': 'http://www.20min.ch/wissen/news/story/Finden-Sie-heraus--wie-Sie-mit-dem-Chef-reden-sollten-27744258'}, {'Titel': 'UPC-Kunden müssen ihr Passwort ändern', 'Site': '@20min', 'Kommentare': 104, 'Date': '2016-Jul-09', 'Link': 'http://www.20min.ch/digital/news/story/UPC-Kunden-muessen-ihr-Passwort-aendern-26881844'}, {'Titel': '«Die Zustände in den Camps gehen mir nahe»', 'Site': '@20min', 'Kommentare': 99, 'Date': '2016-Jul-09', 'Link': 'http://www.20min.ch/schweiz/news/story/-Die-Zustaende-in-den-Camps-gehen-mir-nahe--10860101'}, {'Titel': 'Weil ihr so schön brav wart: 101 Bilder für ein besseres Wochenende – EXTRA PICDUMP', 'Site': '@watson_news', 'Kommentare': 94, 'Date': '2016-Jul-09', 'Link': 'http://watson.ch/Popul%C3%A4rkultur/Nightlife/235485990-Weil-ihr-so-sch%C3%B6n-brav-wart--101-Bilder-f%C3%BCr-ein-besseres-Wochenende-%E2%80%93-EXTRA-PICDUMP'}, {'Titel': 'Tropennacht leitet heisses Wochenende ein', 'Site': '@20min', 'Kommentare': 89, 'Date': '2016-Jul-09', 'Link': 'http://www.20min.ch/schweiz/news/story/Tropennacht-leitet-heisses-Wochenende-ein-13285423'}, {'Titel': '«Statt AKWs braucht es Tausende Batterien»', 'Site': '@20min', 'Kommentare': 86, 'Date': '2016-Jul-09', 'Link': 'http://www.20min.ch/schweiz/energy-challenge/story/-Statt-AKWs-braucht-es-Tausende-Batterien--21860029'}, {'Titel': 'Kikos Mitinsasse wusste von den Fluchtplänen', 'Site': '@20min', 'Kommentare': 84, 'Date': '2016-Jul-09', 'Link': 'http://www.20min.ch/schweiz/zuerich/story/Kikos-Mitinsasse-wusste-von-den-Fluchtplaenen-24701227'}, {'Titel': 'Wie ich am Open Air zum gläsernen Festival-Besucher wurde und was nun mit den Daten passiert', 'Site': '@watson_news', 'Kommentare': 75, 'Date': '2016-Jul-09', 'Link': 'http://watson.ch/Digital/Schweiz/987676318-Wie-ich-am-Open-Air-zum-gl%C3%A4sernen-Festival-Besucher-wurde-und-was-nun-mit-den-Daten-passiert'}, {'Titel': '16 extrem deprimierende Musik-Fakten (der Schweizer Beitrag ist fast der schlimmste imfall)', 'Site': '@watson_news', 'Kommentare': 70, 'Date': '2016-Jul-09', 'Link': 'http://watson.ch/Popul%C3%A4rkultur/Musik/672849407-16-extrem-deprimierende-Musik-Fakten-%28der-Schweizer-Beitrag-ist-fast-der-schlimmste-imfall%29'}, {'Titel': 'Der Sommerdrink 2016 braucht keinen Alkohol', 'Site': '@20min', 'Kommentare': 59, 'Date': '2016-Jul-09', 'Link': 'http://www.20min.ch/native/stories/story/Der-Sommerdrink-2016-braucht-keinen-Alkohol-18277838'}, {'Titel': 'Nato verlegt Truppen nach Osteuropa', 'Site': '@20min', 'Kommentare': 58, 'Date': '2016-Jul-09', 'Link': 'http://www.20min.ch/panorama/news/story/Nato-verlegt-Truppen-nach-Osteuropa-14489248'}, {'Titel': \"«Brauche jedes Jahr 31'000 Euro für Handys»\", 'Site': '@20min', 'Kommentare': 53, 'Date': '2016-Jul-09', 'Link': 'http://www.20min.ch/people/international/story/-Brauche-jedes-Jahr-31-000-Euro-fuer-Handys--28780044'}, {'Titel': 'Was Disney-Prinzessinnen aus den Mädchen machen', 'Site': '@20min', 'Kommentare': 53, 'Date': '2016-Jul-09', 'Link': 'http://www.20min.ch/wissen/news/story/Was-Disney-Prinzessinnen-aus-den-Maedchen-machen-19220509'}, {'Titel': 'Auf diese News haben wir alle gewartet: Wer öfter Pasta isst, bleibt schlanker', 'Site': '@watson_news', 'Kommentare': 53, 'Date': '2016-Jul-09', 'Link': 'http://watson.ch/watson-Leser%20empfehlen/Forschung/567635908-Auf-diese-News-haben-wir-alle-gewartet--Wer-%C3%B6fter-Pasta-isst--bleibt-schlanker'}, {'Titel': '«Ein Grossraumbüro kann wunderbar sein»', 'Site': '@20min', 'Kommentare': 51, 'Date': '2016-Jul-09', 'Link': 'http://www.20min.ch/wissen/news/story/-Ein-Grossraumbuero-kann-wunderbar-sein--27146840'}, {'Titel': 'Griezmann braucht den Hattrick für den Rekord', 'Site': '@20min', 'Kommentare': 50, 'Date': '2016-Jul-09', 'Link': 'http://www.20min.ch/em2016/international/story/Griezmann-braucht-den-Hattrick-fuer-den-Rekord-25734325'}, {'Titel': 'Das ist Nina Agdal, Leo DiCaprios alte Neue', 'Site': '@20min', 'Kommentare': 46, 'Date': '2016-Jul-09', 'Link': 'http://www.20min.ch/people/international/story/Das-ist-Nina-Agdal--Leo-DiCaprios-alte-Neue-28647397'}, {'Titel': '«Nicht die Waffe tötete meinen Buben, ich tat es»', 'Site': '@20min', 'Kommentare': 43, 'Date': '2016-Jul-09', 'Link': 'http://www.20min.ch/panorama/news/story/-Nicht-die-Waffe-toetete-meinen-Buben--ich-tat-es--26946298'}, {'Titel': 'Mit dem Schulbus von Alaska bis Argentinien', 'Site': '@20min', 'Kommentare': 41, 'Date': '2016-Jul-09', 'Link': 'http://www.20min.ch/leben/reisen/story/Mit-dem-Schulbus-von-Alaska-bis-Argentinien-12453067'}, {'Titel': '20 Minuten knackt die Milliarden-Grenze', 'Site': '@20min', 'Kommentare': 39, 'Date': '2016-Jul-09', 'Link': 'http://www.20min.ch/finance/news/story/20-Minuten-knackt-die-Milliarden-Grenze-12135114'}, {'Titel': '«Ein König ohne Krone»', 'Site': '@20min', 'Kommentare': 38, 'Date': '2016-Jul-09', 'Link': 'http://www.20min.ch/sport/tennis/story/-Ein-Koenig-ohne-Krone--31029797'}, {'Titel': 'Huh! Wer plötzlich alles behauptet, den Schlachtruf der isländischen Fans erfunden zu haben', 'Site': '@watson_news', 'Kommentare': 36, 'Date': '2016-Jul-09', 'Link': 'http://watson.ch/EM%202016/Sport/532744155-Huh!-Wer-pl%C3%B6tzlich-alles-behauptet--den-Schlachtruf-der-isl%C3%A4ndischen-Fans-erfunden-zu-haben'}, {'Titel': 'AfD-Politikerin twittert gegen die deutsche Elf', 'Site': '@20min', 'Kommentare': 35, 'Date': '2016-Jul-09', 'Link': 'http://www.20min.ch/ausland/news/story/AfD-Politikerin-twittert-gegen-die-deutsche-Elf-22571002'}, {'Titel': 'Nachlässig eingesetzte Gentech stärkt Schädlinge', 'Site': '@20min', 'Kommentare': 32, 'Date': '2016-Jul-09', 'Link': 'http://www.20min.ch/wissen/news/story/Nachlaessig-eingesetzte-Gentech-staerkt-Schaedlinge-22828346'}, {'Titel': 'Wahr oder falsch? 15 Ernährungs-Mythen im Check', 'Site': '@watson_news', 'Kommentare': 32, 'Date': '2016-Jul-09', 'Link': 'http://watson.ch/Wissen/Fit%20for%20Life/453978770-Wahr-oder-falsch--15-Ern%C3%A4hrungs-Mythen-im-Check'}, {'Titel': 'Die Robo-Bombe von Dallas: Einsatz von C4-Sprengstoff gegen Täter wirft Fragen auf', 'Site': '@watson_news', 'Kommentare': 30, 'Date': '2016-Jul-09', 'Link': 'http://watson.ch/International/USA/275472601-Die-Robo-Bombe-von-Dallas--Einsatz-von-C4-Sprengstoff-gegen-T%C3%A4ter-wirft-Fragen-auf'}, {'Titel': 'Giulias grosse Schwester', 'Site': '@20min', 'Kommentare': 29, 'Date': '2016-Jul-09', 'Link': 'http://www.20min.ch/auto/youngtimer/story/Giulias-grosse-Schwester-30406473'}, {'Titel': '«Weltwoche»-Autor hat (auch) bei watson abgekupfert', 'Site': '@watson_news', 'Kommentare': 27, 'Date': '2016-Jul-09', 'Link': 'http://watson.ch/Digital/Schweiz/493138867-%C2%ABWeltwoche%C2%BB-Autor-hat-%28auch%29-bei-watson-abgekupfert'}, {'Titel': 'Auf Deutsch sind sie die «Satansweiber von Tittfield». Doch der Original-Filmtitel lautet ...?', 'Site': '@watson_news', 'Kommentare': 26, 'Date': '2016-Jul-09', 'Link': 'http://watson.ch/Popul%C3%A4rkultur/Quiz/654529527-Auf-Deutsch-sind-sie-die-%C2%ABSatansweiber-von-Tittfield%C2%BB--Doch-der-Original-Filmtitel-lautet-----'}, {'Titel': 'Coiffeur wegen sexueller Belästigung angeklagt', 'Site': '@20min', 'Kommentare': 25, 'Date': '2016-Jul-09', 'Link': 'http://www.20min.ch/schweiz/zuerich/story/Coiffeur-wegen-sexueller-Belaestigung-angeklagt-29427551'}, {'Titel': 'Die E-Mail-Affäre begleitet Clinton weiter', 'Site': '@20min', 'Kommentare': 25, 'Date': '2016-Jul-09', 'Link': 'http://www.20min.ch/ausland/news/story/Die-E-Mail-Affaere-begleitet-Clinton-weiter-18667288'}, {'Titel': 'Gesunde Schoggi zum Trinken', 'Site': '@20min', 'Kommentare': 24, 'Date': '2016-Jul-09', 'Link': 'http://www.20min.ch/fitness/fitfood/story/Gesunde-Schoggi-zum-Trinken-24352471'}, {'Titel': 'Hört auf, dieses Bild von Mark Hughes zu teilen: Er hat mit dem Massaker in Dallas nichts zu tun', 'Site': '@watson_news', 'Kommentare': 24, 'Date': '2016-Jul-09', 'Link': 'http://watson.ch/International/USA/221287232-H%C3%B6rt-auf--dieses-Bild-von-Mark-Hughes-zu-teilen--Er-hat-mit-dem-Massaker-in-Dallas-nichts-zu-tun'}, {'Titel': '750 Meldungen aus dem Ausland \\x96 pro Monat', 'Site': '@20min', 'Kommentare': 23, 'Date': '2016-Jul-09', 'Link': 'http://www.20min.ch/schweiz/news/story/750-Meldungen-aus-dem-Ausland---pro-Monat-10923771'}, {'Titel': 'Darum hat der Pfannenwender Schlitze', 'Site': '@20min', 'Kommentare': 23, 'Date': '2016-Jul-09', 'Link': 'http://www.20min.ch/wissen/news/story/Darum-hat-der-Pfannenwender-Schlitze-31091999'}, {'Titel': 'Die härtesten Frauen Norwegens', 'Site': '@tagesanzeiger', 'Kommentare': 23, 'Date': '2016-Jul-09', 'Link': 'http://www.tagesanzeiger.ch/ausland/europa/die-haertesten-frauen-norwegens/story/13828171'}, {'Titel': 'Presse, Pussy und Pomade: Eine Beleidigung «mal von der anderen Seite beleuchtet»', 'Site': '@watson_news', 'Kommentare': 21, 'Date': '2016-Jul-09', 'Link': 'http://watson.ch/EM%202016/Schweiz/321308722-Presse--Pussy-und-Pomade--Eine-Beleidigung-%C2%ABmal-von-der-anderen-Seite-beleuchtet%C2%BB'}, {'Titel': 'Kalte Suppe für heisse Sommertage', 'Site': '@20min', 'Kommentare': 20, 'Date': '2016-Jul-09', 'Link': 'http://www.20min.ch/fitness/fitfood/story/Kalte-Suppe-fuer-heisse-Sommertage-27332596'}, {'Titel': 'Diese Bilder beweisen, dass wir betrunken ALLES lecker finden (und nicht kochen sollten)', 'Site': '@watson_news', 'Kommentare': 20, 'Date': '2016-Jul-09', 'Link': 'http://watson.ch/Popul%C3%A4rkultur/watson-Leser%20empfehlen/694381399-Diese-Bilder-beweisen--dass-wir-betrunken-ALLES-lecker-finden-%28und-nicht-kochen-sollten%29'}, {'Titel': 'Du verlierst immer deine Freunde im Getümmel? Wenn du diese 10 Aufgaben meisterst, bist du bereit\\xa0fürs Züri Fäscht', 'Site': '@watson_news', 'Kommentare': 20, 'Date': '2016-Jul-09', 'Link': 'http://watson.ch/Quiz/Nightlife/238140942-Du-verlierst-immer-deine-Freunde-im-Get%C3%BCmmel--Wenn-du-diese-10-Aufgaben-meisterst--bist-du-bereit-f%C3%BCrs-Z%C3%BCri-F%C3%A4scht'}, {'Titel': '5 Spiele für weniger Langeweile im Stau', 'Site': '@20min', 'Kommentare': 19, 'Date': '2016-Jul-09', 'Link': 'http://www.20min.ch/sogehtsommer/sommer/story/5-Spiele-fuer-weniger-Langeweile-im-Stau-19044096'}, {'Titel': 'Lügen bei der Wohnungsbewerbung', 'Site': '@20min', 'Kommentare': 19, 'Date': '2016-Jul-09', 'Link': 'http://www.20min.ch/immobilien/news/story/Luegen-bei-der-Wohnungsbewerbung-23034725'}, {'Titel': 'Nach dem Motorenstart sind die Zweifel weg', 'Site': '@20min', 'Kommentare': 19, 'Date': '2016-Jul-09', 'Link': 'http://www.20min.ch/auto/youngtimer/story/Nach-dem-Motorenstart-sind-die-Zweifel-weg-27985491'}, {'Titel': 'Die unglaubliche Geschichte hinter diesem Mann, der bei jedem Terroranschlag stirbt', 'Site': '@watson_news', 'Kommentare': 19, 'Date': '2016-Jul-09', 'Link': 'http://watson.ch/International/Terrorismus/666492057-Die-unglaubliche-Geschichte-hinter-diesem-Mann--der-bei-jedem-Terroranschlag-stirbt'}, {'Titel': 'Die besten Sportlerpics auf Social Media: Lara Gut macht Giulia Steingruber Konkurrenz', 'Site': '@watson_news', 'Kommentare': 18, 'Date': '2016-Jul-09', 'Link': 'http://watson.ch/Sport/articles/596122896-Die-besten-Sportlerpics-auf-Social-Media--Lara-Gut-macht-Giulia-Steingruber-Konkurrenz'}, {'Titel': 'Unser erstes Rechtschreib-Quiz war zu einfach? Nimm das, du Deutsch-Experte!', 'Site': '@watson_news', 'Kommentare': 18, 'Date': '2016-Jul-09', 'Link': 'http://watson.ch/Wissen/Quiz/140974260-Unser-erstes-Rechtschreib-Quiz-war-zu-einfach--Nimm-das--du-Deutsch-Experte!'}, {'Titel': \"Humans of Olten:\\xa0«Z'Oute muesch nüt mache ond chonnsch trotzdäm id Ziitig»\", 'Site': '@watson_news', 'Kommentare': 18, 'Date': '2016-Jul-09', 'Link': 'http://watson.ch/Schweiz/Solothurn/258200133-Humans-of-Olten--%C2%ABZ%27Oute-muesch-n%C3%BCt-mache-ond-chonnsch-trotzd%C3%A4m-id-Ziitig%C2%BB'}, {'Titel': 'Grillieren? Das kannst du besser! Mit diesen einfachen Rezepten wird dein Grill-Sommer zum besten aller Zeiten', 'Site': '@watson_news', 'Kommentare': 17, 'Date': '2016-Jul-09', 'Link': 'http://watson.ch/Popul%C3%A4rkultur/Essen/296670013-Grillieren--Das-kannst-du-besser!-Mit-diesen-einfachen-Rezepten-wird-dein-Grill-Sommer-zum-besten-aller-Zeiten'}, {'Titel': 'Traumhäuser, in denen Sie garantiert niemand stört', 'Site': '@20min', 'Kommentare': 14, 'Date': '2016-Jul-09', 'Link': 'http://www.20min.ch/immobilien/news/story/Traumhaeuser--in-denen-Sie-garantiert-niemand-stoert-30168917'}, {'Titel': 'Iron Maiden lassen Eddie auf die Smartphones los', 'Site': '@20min', 'Kommentare': 13, 'Date': '2016-Jul-09', 'Link': 'http://www.20min.ch/digital/games/story/Iron-Maiden-lassen-Eddie-auf-die-Smartphones-los-13848126'}, {'Titel': 'Was alles noch langsamer ist als Giroud: Kontinentaldrift und Zaza! Die besten User-Kommentare', 'Site': '@watson_news', 'Kommentare': 13, 'Date': '2016-Jul-09', 'Link': 'http://watson.ch/EM%202016/Sport/618637817-Was-alles-noch-langsamer-ist-als-Giroud--Kontinentaldrift-und-Zaza!-Die-besten-User-Kommentare'}, {'Titel': 'So sieht die Welt die Schweizer Politik – in 20 unneutralen Bildern und Memes\\xa0', 'Site': '@watson_news', 'Kommentare': 13, 'Date': '2016-Jul-09', 'Link': 'http://watson.ch/Schweiz/Popul%C3%A4rkultur/648517291-So-sieht-die-Welt-die-Schweizer-Politik-%E2%80%93-in-20-unneutralen-Bildern-und-Memes-'}, {'Titel': 'Blutrache und Hexerei-Vorwürfe – so spielten sie im Mittelalter Fussball\\xa0', 'Site': '@watson_news', 'Kommentare': 13, 'Date': '2016-Jul-09', 'Link': 'http://watson.ch/International/Best%20of%20watson/266858657-Blutrache-und-Hexerei-Vorw%C3%BCrfe-%E2%80%93-so-spielten-sie-im-Mittelalter-Fussball-'}, {'Titel': 'Williams hievt sich auf eine Stufe mit Steffi Graf', 'Site': '@20min', 'Kommentare': 12, 'Date': '2016-Jul-09', 'Link': 'http://www.20min.ch/sport/tennis/story/Williams-hievt-sich-auf-eine-Stufe-mit-Steffi-Graf-20527926'}, {'Titel': 'Fussballstars und ihre Schwestern', 'Site': '@20min', 'Kommentare': 12, 'Date': '2016-Jul-09', 'Link': 'http://www.20min.ch/people/international/story/Fussballstars-und-ihre-Schwestern-26650565'}, {'Titel': 'So schön leidet und jubelt Serena Williams', 'Site': '@20min', 'Kommentare': 11, 'Date': '2016-Jul-09', 'Link': 'http://www.20min.ch/sport/tennis/story/So-schoen-leidet-und-jubelt-Serena-Williams-26926754'}, {'Titel': 'Ferienstadt erobert hunderte Kinderherzen', 'Site': '@20min', 'Kommentare': 11, 'Date': '2016-Jul-09', 'Link': 'http://www.20min.ch/schweiz/basel/story/Ferienstadt-erobert-hunderte-Kinderherzen-19012313'}, {'Titel': 'Abkühlung auf laotische Art', 'Site': '@20min', 'Kommentare': 10, 'Date': '2016-Jul-09', 'Link': 'http://www.20min.ch/leben/reisen/story/Abkuehlung-auf-laotische-Art-11326167'}, {'Titel': '«Saugen statt baggern» – schau mal, was heute bei watson abging', 'Site': '@watson_news', 'Kommentare': 10, 'Date': '2016-Jul-09', 'Link': 'http://watson.ch/Schweiz/Region%20Z%C3%BCrich/842104468-%C2%ABSaugen-statt-baggern%C2%BB-%E2%80%93-schau-mal--was-heute-bei-watson-abging'}, {'Titel': 'Schweinsteiger macht den Boateng: «Hätten sie doch nur wie Löw ihre Eier gekrault ...»\\xa0', 'Site': '@watson_news', 'Kommentare': 10, 'Date': '2016-Jul-09', 'Link': 'http://watson.ch/EM%202016/Sport/654971253-Schweinsteiger-macht-den-Boateng--%C2%ABH%C3%A4tten-sie-doch-nur-wie-L%C3%B6w-ihre-Eier-gekrault----%C2%BB-'}, {'Titel': 'Zum Weinen schön: Das erste Bild des geliebten Haustieres – und das letzte\\xa0', 'Site': '@watson_news', 'Kommentare': 10, 'Date': '2016-Jul-09', 'Link': 'http://watson.ch/Popul%C3%A4rkultur/Tier/305343348-Zum-Weinen-sch%C3%B6n--Das-erste-Bild-des-geliebten-Haustieres-%E2%80%93-und-das-letzte-'}, {'Titel': 'Uruguay gewinnt vor Gericht gegen Tabakkonzern Philip Morris', 'Site': '@watson_news', 'Kommentare': 9, 'Date': '2016-Jul-09', 'Link': 'http://watson.ch/Wirtschaft/International/593392087-Uruguay-gewinnt-vor-Gericht-gegen-Tabakkonzern-Philip-Morris'}, {'Titel': 'Velo-, Töff- und Cabrio-Fahrer: Wie gut kennst du die Schweizer Pässe?', 'Site': '@watson_news', 'Kommentare': 9, 'Date': '2016-Jul-09', 'Link': 'http://watson.ch/Schweiz/Quiz/303349143-Velo---T%C3%B6ff--und-Cabrio-Fahrer--Wie-gut-kennst-du-die-Schweizer-P%C3%A4sse-'}, {'Titel': 'Wir wurden reingelegt, darum seid ihr jetzt dran: Sind diese 10 Videos echt oder nicht?', 'Site': '@watson_news', 'Kommentare': 9, 'Date': '2016-Jul-09', 'Link': 'http://watson.ch/Digital/Popul%C3%A4rkultur/790863542-Wir-wurden-reingelegt--darum-seid-ihr-jetzt-dran--Sind-diese-10-Videos-echt-oder-nicht-'}, {'Titel': 'Hier kannst du was erleben! 13 extreme Orte der Welt', 'Site': '@watson_news', 'Kommentare': 8, 'Date': '2016-Jul-09', 'Link': 'http://watson.ch/Wissen/Natur/895008808-Hier-kannst-du-was-erleben!-13-extreme-Orte-der-Welt'}, {'Titel': 'Mit diesem Trick finden iPhone-Nutzer heraus, wie gut die Mobilfunk-Verbindung wirklich ist', 'Site': '@watson_news', 'Kommentare': 7, 'Date': '2016-Jul-09', 'Link': 'http://watson.ch/Digital/Apple/432669373-Mit-diesem-Trick-finden-iPhone-Nutzer-heraus--wie-gut-die-Mobilfunk-Verbindung-wirklich-ist'}, {'Titel': 'Wie viel Gift steckt in deinen Kleidern? Hier siehst du, wer sauber und wer dreckig produziert', 'Site': '@watson_news', 'Kommentare': 7, 'Date': '2016-Jul-09', 'Link': 'http://watson.ch/Wissen/Wirtschaft/830394943-Wie-viel-Gift-steckt-in-deinen-Kleidern--Hier-siehst-du--wer-sauber-und-wer-dreckig-produziert'}, {'Titel': 'Frankreichs grosser Vorteil: Die Erinnerung an den Heimtriumph 1998', 'Site': '@watson_news', 'Kommentare': 6, 'Date': '2016-Jul-09', 'Link': 'http://watson.ch/EM%202016/Sport/765189965-Frankreichs-grosser-Vorteil--Die-Erinnerung-an-den-Heimtriumph-1998'}, {'Titel': '6 TV-Tabus von 1949 und 6 Nacktszenen aus «Game of Thrones» zum Vergleich', 'Site': '@watson_news', 'Kommentare': 6, 'Date': '2016-Jul-09', 'Link': 'http://watson.ch/Popul%C3%A4rkultur/Nightlife/332657553-6-TV-Tabus-von-1949-und-6-Nacktszenen-aus-%C2%ABGame-of-Thrones%C2%BB-zum-Vergleich'}, {'Titel': 'Die Deutschen hadern mit dem Schicksal: «Wir haben heute unser bestes Spiel der EM gemacht»', 'Site': '@watson_news', 'Kommentare': 6, 'Date': '2016-Jul-09', 'Link': 'http://watson.ch/EM%202016/Sport/338878329-Die-Deutschen-hadern-mit-dem-Schicksal--%C2%ABWir-haben-heute-unser-bestes-Spiel-der-EM-gemacht%C2%BB'}, {'Titel': 'Superkanone V3: Wie ein Kennedy Hitlers Hochdruckpumpe ausschalten sollte', 'Site': '@watson_news', 'Kommentare': 4, 'Date': '2016-Jul-09', 'Link': 'http://watson.ch/Wissen/History/783683165-Superkanone-V3--Wie-ein-Kennedy-Hitlers-Hochdruckpumpe-ausschalten-sollte'}, {'Titel': 'Aufgepasst! Bund warnt vor versandten Microsoft-Office-Dokumenten', 'Site': '@watson_news', 'Kommentare': 4, 'Date': '2016-Jul-09', 'Link': 'http://watson.ch/Digital/articles/316963171-Aufgepasst!-Bund-warnt-vor-versandten-Microsoft-Office-Dokumenten'}, {'Titel': 'Bale oder Ronaldo? 12 Fragen, die nur echte Profis beantworten können', 'Site': '@watson_news', 'Kommentare': 4, 'Date': '2016-Jul-09', 'Link': 'http://watson.ch/EM%202016/Sport/738132844-Bale-oder-Ronaldo--12-Fragen--die-nur-echte-Profis-beantworten-k%C3%B6nnen'}, {'Titel': '«Wie Champions!» und «Bonne nuit, Schweini!» – die Pressestimmen zu Frankreichs Triumph gegen Deutschland', 'Site': '@watson_news', 'Kommentare': 3, 'Date': '2016-Jul-09', 'Link': 'http://watson.ch/EM%202016/Sport/923011686-%C2%ABWie-Champions!%C2%BB-und-%C2%ABBonne-nuit--Schweini!%C2%BB-%E2%80%93-die-Pressestimmen-zu-Frankreichs-Triumph-gegen-Deutschland'}, {'Titel': 'Zum Open Air Frauenfeld: Erkennst du all diese Rap-Songs anhand einer Grafik?', 'Site': '@watson_news', 'Kommentare': 3, 'Date': '2016-Jul-09', 'Link': 'http://watson.ch/Popul%C3%A4rkultur/Musik/568267612-Zum-Open-Air-Frauenfeld--Erkennst-du-all-diese-Rap-Songs-anhand-einer-Grafik-'}, {'Titel': 'Weltmeister mit Ladehemmungen – Deutschland fehlt an der EM die Kälte vor dem Tor', 'Site': '@watson_news', 'Kommentare': 2, 'Date': '2016-Jul-09', 'Link': 'http://watson.ch/EM%202016/Sport/132157065-Weltmeister-mit-Ladehemmungen-%E2%80%93-Deutschland-fehlt-an-der-EM-die-K%C3%A4lte-vor-dem-Tor'}, {'Titel': 'Ein Ex-NHL-Verteidiger an Fischers Seite – Tommy Albelin wird neuer Nati-Assistenztrainer', 'Site': '@watson_news', 'Kommentare': 2, 'Date': '2016-Jul-09', 'Link': 'http://watson.ch/Sport/Eishockey/886630439-Ein-Ex-NHL-Verteidiger-an-Fischers-Seite-%E2%80%93-Tommy-Albelin-wird-neuer-Nati-Assistenztrainer'}, {'Titel': 'Schaun mer mal, wie gut du aufgepasst hast: Kennst du die Stadien der EM 2016?', 'Site': '@watson_news', 'Kommentare': 2, 'Date': '2016-Jul-09', 'Link': 'http://watson.ch/EM%202016/Sport/330455847-Schaun-mer-mal--wie-gut-du-aufgepasst-hast--Kennst-du-die-Stadien-der-EM-2016-'}, {'Titel': 'Amerika ist im Unreinen mit sich', 'Site': '@tagesanzeiger', 'Kommentare': 2, 'Date': '2016-Jul-09', 'Link': 'http://www.tagesanzeiger.ch/ausland/amerika/amerika-ist-im-unreinen-mit-sich/story/15773675'}, {'Titel': 'Reitschule macht die Schotten dicht', 'Site': '@20min', 'Kommentare': 1, 'Date': '2016-Jul-09', 'Link': 'http://www.20min.ch/schweiz/bern/story/Reitschule-macht-die-Schotten-dicht-18858083'}, {'Titel': '«Die Franzosen mussten zuerst hungrig werden»', 'Site': '@20min', 'Kommentare': 1, 'Date': '2016-Jul-09', 'Link': 'http://www.20min.ch/em2016/international/story/-Die-Franzosen-mussten-zuerst-hungrig-werden--26682832'}, {'Titel': 'Falsche Virenwarnung für 20min.ch', 'Site': '@20min', 'Kommentare': 1, 'Date': '2016-Jul-09', 'Link': 'http://www.20min.ch/digital/news/story/Falsche-Virenwarnung-fuer-20min-ch-11347989'}, {'Titel': '15-Jähriger flüchtet mit BMW der Eltern vor Polizei', 'Site': '@20min', 'Kommentare': 1, 'Date': '2016-Jul-09', 'Link': 'http://www.20min.ch/schweiz/ostschweiz/story/15-Jaehriger-fluechtet-mit-BMW-der-Eltern-vor-Polizei-29452419'}, {'Titel': 'Wo steht die beste Wasserrutschbahn?', 'Site': '@20min', 'Kommentare': 1, 'Date': '2016-Jul-09', 'Link': 'http://www.20min.ch/community/stories/story/Wo-steht-die-beste-Wasserrutschbahn--20361694'}, {'Titel': 'Zur exklusiven 20-Minuten-Vorpremiere von «Pets»', 'Site': '@20min', 'Kommentare': 1, 'Date': '2016-Jul-09', 'Link': 'http://www.20min.ch/panorama/wettbewerbe/story/12389275'}, {'Titel': 'So wird Ihre Wohnung zum Backofen', 'Site': '@20min', 'Kommentare': 1, 'Date': '2016-Jul-09', 'Link': 'http://www.20min.ch/immobilien/news/story/So-wird-Ihre-Wohnung-zum-Backofen-12943935'}, {'Titel': '«Sechs Franken für ein Bier? Das ist verrückt!»', 'Site': '@20min', 'Kommentare': 1, 'Date': '2016-Jul-09', 'Link': 'http://www.20min.ch/tilllate/redirect.tmpl?storyurl=/jugend/tilllate/story/-Sechs-Franken-fuer-ein-Bier--Das-ist-verrueckt---26515473&tilllateurl=http://ch.tilllate.com/de/story/festival-cash?ref=20min-story'}, {'Titel': 'Nato schickt Aufklärungs-Flieger in Kampf gegen IS', 'Site': '@20min', 'Kommentare': 1, 'Date': '2016-Jul-09', 'Link': 'http://www.20min.ch/ausland/news/story/Nato-schickt-Aufklaerungs-Flieger-in-Kampf-gegen-IS-19323330'}, {'Titel': \"Kämpfe gegen 13'000 Leser um die Quiz-Krone!\", 'Site': '@20min', 'Kommentare': 1, 'Date': '2016-Jul-09', 'Link': 'http://www.20min.ch/em2016/leser/story/Kaempfe-gegen-13-000-Leser-um-die-Quiz-Krone--20261389'}, {'Titel': 'Waffennarr, Soldat, Einzelgänger', 'Site': '@20min', 'Kommentare': 1, 'Date': '2016-Jul-09', 'Link': 'http://www.20min.ch/panorama/news/story/Waffennarr--Soldat--Einzelgaenger-21699602'}, {'Titel': '«Es waren einfach so viele Schüsse»', 'Site': '@20min', 'Kommentare': 1, 'Date': '2016-Jul-09', 'Link': 'http://www.20min.ch/panorama/news/story/-Es-waren-einfach-so-viele-Schuesse--25254476'}, {'Titel': 'Hunde fressen Katze \\x96 Besitzer verurteilt', 'Site': '@20min', 'Kommentare': 1, 'Date': '2016-Jul-09', 'Link': 'http://www.20min.ch/schweiz/romandie/story/Hunde-fressen-Katze---Besitzer-verurteilt-16110994'}, {'Titel': \"14'600 Arztbesuche wegen Zeckenstichen\", 'Site': '@20min', 'Kommentare': 1, 'Date': '2016-Jul-09', 'Link': 'http://www.20min.ch/schweiz/news/story/14-600-Arztbesuche-wegen-Zeckenstichen-29243939'}, {'Titel': 'Bis zu 2300 Fr Belohnung für die Polizisten', 'Site': '@20min', 'Kommentare': 1, 'Date': '2016-Jul-09', 'Link': 'http://www.20min.ch/schweiz/news/story/Bis-zu-2300-Fr-Belohnung-fuer-die-Polizisten-21085010'}, {'Titel': '14 Festnahmen nach Schlägereien im Kreis 4', 'Site': '@20min', 'Kommentare': 1, 'Date': '2016-Jul-09', 'Link': 'http://www.20min.ch/schweiz/zuerich/story/14-Festnahmen-nach-Schlaegereien-im-Kreis-4-29597884'}, {'Titel': '50 Hotelgäste wegen defektem Föhn evakuiert', 'Site': '@20min', 'Kommentare': 1, 'Date': '2016-Jul-09', 'Link': 'http://www.20min.ch/schweiz/basel/story/50-Hotelgaeste-wegen-defektem-Foehn-evakuiert-12200495'}, {'Titel': 'Nordkorea feuert Rakete von U-Boot aus ab', 'Site': '@20min', 'Kommentare': 1, 'Date': '2016-Jul-09', 'Link': 'http://www.20min.ch/ausland/news/story/Nordkorea-feuert-Rakete-von-U-Boot-aus-ab-30317018'}, {'Titel': 'Die Seele baumeln lassen', 'Site': '@20min', 'Kommentare': 1, 'Date': '2016-Jul-09', 'Link': 'http://www.20min.ch/sponsored/stories/story/Die-Seele-baumeln-lassen-20498203'}, {'Titel': 'Menschenrechtler prangern Polizeigewalt an', 'Site': '@20min', 'Kommentare': 1, 'Date': '2016-Jul-09', 'Link': 'http://www.20min.ch/ausland/news/story/Menschenrechtler-prangern-Polizeigewalt-an-14803944'}, {'Titel': 'Polizist schreibt einen Brief an Kanzlerin Merkel', 'Site': '@20min', 'Kommentare': 1, 'Date': '2016-Jul-09', 'Link': 'http://www.20min.ch/ausland/news/story/Polizist-schreibt-einen-Brief-an-Kanzlerin-Merkel-14399162'}, {'Titel': 'Die Bilder des Tages', 'Site': '@20min', 'Kommentare': 1, 'Date': '2016-Jul-09', 'Link': 'http://www.20min.ch/ausland/news/story/Die-Bilder-des-Tages-21261077'}, {'Titel': 'Hunderttausende fliehen vor Tropensturm', 'Site': '@20min', 'Kommentare': 1, 'Date': '2016-Jul-09', 'Link': 'http://www.20min.ch/panorama/news/story/Hunderttausende-fliehen-vor-Tropensturm-28301032'}, {'Titel': 'Neunjährige lockte Horror-Vater in die Falle', 'Site': '@20min', 'Kommentare': 1, 'Date': '2016-Jul-09', 'Link': 'http://www.20min.ch/panorama/news/story/Neunjaehrige-lockte-Horror-Vater-in-die-Falle-22621546'}, {'Titel': 'ZDF will Böhmermanns Vertrag verlängern', 'Site': '@20min', 'Kommentare': 1, 'Date': '2016-Jul-09', 'Link': 'http://www.20min.ch/panorama/news/story/ZDF-will-Boehmermanns-Vertrag-verlaengern-23184297'}, {'Titel': 'Ist «El Chapo» schon wieder getürmt?', 'Site': '@20min', 'Kommentare': 1, 'Date': '2016-Jul-09', 'Link': 'http://www.20min.ch/panorama/news/story/Ist--El-Chapo--schon-wieder-getuermt--22452321'}, {'Titel': 'Auf zur Schatzsuche im Bike-Paradies Verbier', 'Site': '@20min', 'Kommentare': 1, 'Date': '2016-Jul-09', 'Link': 'http://www.20min.ch/sponsored/story/27248207'}, {'Titel': 'Arbeitslosenquote sinkt auf 3,1 Prozent', 'Site': '@20min', 'Kommentare': 1, 'Date': '2016-Jul-09', 'Link': 'http://www.20min.ch/finance/news/story/Arbeitslosenquote-sinkt-auf-3-1-Prozent-21396042'}, {'Titel': 'US-Steuerbehörde geht gegen Facebook vor', 'Site': '@20min', 'Kommentare': 1, 'Date': '2016-Jul-09', 'Link': 'http://www.20min.ch/finance/news/story/US-Steuerbehoerde-geht-gegen-Facebook-vor-26729290'}, {'Titel': 'Tulpenzwiebeln und Zoggeli für das Bronze-Duo', 'Site': '@20min', 'Kommentare': 1, 'Date': '2016-Jul-09', 'Link': 'http://www.20min.ch/sport/weitere/story/Tulpenzwiebeln-und-Zoggeli-fuer-das-Bronze-Duo-12011822'}, {'Titel': 'Rettet Big Data die Stromkonzerne?', 'Site': '@20min', 'Kommentare': 1, 'Date': '2016-Jul-09', 'Link': 'http://www.20min.ch/schweiz/energy-challenge/story/Rettet-Big-Data-die-Stromkonzerne--19936080'}, {'Titel': 'Weniger Album-Verkäufe, aber mehr Song-Streams', 'Site': '@20min', 'Kommentare': 1, 'Date': '2016-Jul-09', 'Link': 'http://www.20min.ch/entertainment/musik/story/Weniger-Album-Verkaeufe--aber-mehr-Song-Streams-20805405'}, {'Titel': 'Wie Frauen auf Sex-Portalen erobert werden wollen!', 'Site': '@20min', 'Kommentare': 1, 'Date': '2016-Jul-09', 'Link': 'http://www.20min.ch/sponsored/erotik/story/Wie-Frauen-auf-Sex-Portalen-erobert-werden-wollen--15390283'}, {'Titel': 'Bill Cosby muss doch vor Gericht', 'Site': '@20min', 'Kommentare': 1, 'Date': '2016-Jul-09', 'Link': 'http://www.20min.ch/people/international/story/Bill-Cosby-muss-doch-vor-Gericht-29822575'}, {'Titel': 'Warum sitzt ihr so lange auf der Toilette?', 'Site': '@20min', 'Kommentare': 1, 'Date': '2016-Jul-09', 'Link': 'http://www.20min.ch/tilllate/redirect.tmpl?storyurl=/jugend/tilllate/story/Warum-sitzt-ihr-so-lange-auf-der-Toilette--28877699&tilllateurl=http://ch.tilllate.com/de/story/frauen-fragen-m%C3%A4nner?ref=20min-story'}, {'Titel': 'Wir drehen am Rad! Pokémon ist zurück!', 'Site': '@20min', 'Kommentare': 1, 'Date': '2016-Jul-09', 'Link': 'http://www.20min.ch/tilllate/redirect.tmpl?storyurl=/jugend/tilllate/story/Wir-drehen-am-Rad--Pokemon-ist-zurueck--16422951&tilllateurl=http://ch.tilllate.com/de/story/pokemon-go?ref=20min-story'}, {'Titel': 'Iron Man geht in Superhelden-Rente', 'Site': '@20min', 'Kommentare': 1, 'Date': '2016-Jul-09', 'Link': 'http://www.20min.ch/tilllate/redirect.tmpl?storyurl=/jugend/tilllate/story/Iron-Man-geht-in-Superhelden-Rente-20095334&tilllateurl=http://ch.tilllate.com/de/story/ironman-teenagerin?ref=20min-story'}, {'Titel': 'Schicken Sie uns Ihren schönsten Kuss-Clip', 'Site': '@20min', 'Kommentare': 1, 'Date': '2016-Jul-09', 'Link': 'http://www.20min.ch/play/yourturn/story/Schicken-Sie-uns-Ihren-schoensten-Kuss-Clip-26918205'}, {'Titel': 'Drei traumhafte Sommersalate', 'Site': '@20min', 'Kommentare': 1, 'Date': '2016-Jul-09', 'Link': 'http://www.friday-magazine.ch/de/2016/07/09/drei-traumhafte-sommersalate.html'}, {'Titel': 'Wassermelone steht uns!', 'Site': '@20min', 'Kommentare': 1, 'Date': '2016-Jul-09', 'Link': 'http://www.friday-magazine.ch/de/2016/07/08/wassermelone-steht-uns.html'}, {'Titel': 'Macht euren Move und werdet #Poolhero', 'Site': '@20min', 'Kommentare': 1, 'Date': '2016-Jul-09', 'Link': 'http://www.20min.ch/tilllate/redirect.tmpl?storyurl=/sponsored/stories/story/Macht-euren-Move-und-werdet--Poolhero-24354126&tilllateurl=http://ch.tilllate.com/de/sponsoredcontent/poolhero'}, {'Titel': 'Einfach und natürlich zur Sommerfigur', 'Site': '@20min', 'Kommentare': 1, 'Date': '2016-Jul-09', 'Link': 'http://www.20min.ch/sponsored/stories/story/Einfach-und-natuerlich-zur-Sommerfigur-21810055'}, {'Titel': 'Bund warnt vor Microsoft-Office-Dokumenten', 'Site': '@20min', 'Kommentare': 1, 'Date': '2016-Jul-09', 'Link': 'http://www.20min.ch/digital/news/story/Bund-warnt-vor-Microsoft-Office-Dokumenten-22354082'}, {'Titel': 'Surfen in den bitterkalten Fluten', 'Site': '@20min', 'Kommentare': 1, 'Date': '2016-Jul-09', 'Link': 'http://www.20min.ch/leben/reisen/story/Surfen-in-den-bitterkalten-Fluten-22454003'}, {'Titel': 'Hotels zum halben Preis', 'Site': '@20min', 'Kommentare': 1, 'Date': '2016-Jul-09', 'Link': 'http://www.20min.ch/sponsored/stories/story/Hotels-zum-halben-Preis-14231766'}, {'Titel': 'Tschüss, ihr Loser, ich bin dann mal am Strand!', 'Site': '@20min', 'Kommentare': 1, 'Date': '2016-Jul-09', 'Link': 'http://www.20min.ch/leben/reisen/story/Tschuess--ihr-Loser--ich-bin-dann-mal-am-Strand--19861860'}, {'Titel': 'Australien \\x96 ein langersehnter Traum', 'Site': '@20min', 'Kommentare': 1, 'Date': '2016-Jul-09', 'Link': 'http://www.20min.ch/leben/dossier/publiblog/story/Australien---ein-langersehnter-Traum-13592535'}, {'Titel': 'Gewinne Tickets für das Blue Balls Festival!', 'Site': '@20min', 'Kommentare': 1, 'Date': '2016-Jul-09', 'Link': 'http://www.20min.ch/panorama/wettbewerbe/story/Gewinne-Tickets-fuer-das-Blue-Balls-Festival--15617944'}, {'Titel': 'Wer bekommt Cash für seine Fahrstunden?', 'Site': '@20min', 'Kommentare': 1, 'Date': '2016-Jul-09', 'Link': 'http://www.20min.ch/panorama/wettbewerbe/story/Wer-bekommt-Cash-fuer-seine-Fahrstunden--25135961'}, {'Titel': 'Allianz Cinema Basel: Preisreduktion auf Vorpremieren', 'Site': '@20min', 'Kommentare': 1, 'Date': '2016-Jul-09', 'Link': 'http://www.20min.ch/panorama/wettbewerbe/story/Allianz-Cinema-Basel--Preisreduktion-auf-Vorpremieren-14485260'}, {'Titel': 'Wir schicken dich als VIP ans Zürich Openair!', 'Site': '@20min', 'Kommentare': 1, 'Date': '2016-Jul-09', 'Link': 'http://www.20min.ch/panorama/wettbewerbe/story/Wir-schicken-dich-als-VIP-ans-Zuerich-Openair--16430091'}, {'Titel': 'Wir schicken dich als VIP ans Zürich Openair!', 'Site': '@20min', 'Kommentare': 1, 'Date': '2016-Jul-09', 'Link': 'http://www.20min.ch/tilllate/redirect.tmpl?storyurl=/panorama/wettbewerbe/story/Wir-schicken-dich-als-VIP-ans-Zuerich-Openair--30235625&tilllateurl=http://ch.tilllate.com/de/promo/zurichopenair2016'}, {'Titel': 'Mit Sack, Pack und Family ab nach Florida', 'Site': '@20min', 'Kommentare': 1, 'Date': '2016-Jul-09', 'Link': 'http://www.20min.ch/panorama/wettbewerbe/story/Mit-Sack--Pack-und-Family-ab-nach-Florida-12733243'}, {'Titel': 'Das Halbfinal-Out ist keine verpasste Chance – Federer sollte auf der guten Leistung aufbauen', 'Site': '@watson_news', 'Kommentare': 1, 'Date': '2016-Jul-09', 'Link': 'http://watson.ch/Sport/Tennis/846193017-Das-Halbfinal-Out-ist-keine-verpasste-Chance-%E2%80%93-Federer-sollte-auf-der-guten-Leistung-aufbauen'}, {'Titel': 'Vor diesem Kuharsch flüchten sogar die Löwen', 'Site': '@watson_news', 'Kommentare': 1, 'Date': '2016-Jul-09', 'Link': 'http://watson.ch/Wissen/Tier/820915706-Vor-diesem-Kuharsch-fl%C3%BCchten-sogar-die-L%C3%B6wen'}, {'Titel': 'Muss die britische Premierministerin Mutter sein? Kinderlose Theresa May wird angegriffen', 'Site': '@watson_news', 'Kommentare': 0, 'Date': '2016-Jul-09', 'Link': 'http://watson.ch/International/Brexit/961175614-Muss-die-britische-Premierministerin-Mutter-sein--Kinderlose-Theresa-May-wird-angegriffen'}, {'Titel': 'Schweizer Nachrichtendienst lieferte letztes Jahr 4500 Meldungen an ausländische Geheimdienste', 'Site': '@watson_news', 'Kommentare': 0, 'Date': '2016-Jul-09', 'Link': 'http://watson.ch/Schweiz/Geheimdienste/261148775-Schweizer-Nachrichtendienst-lieferte-letztes-Jahr-4500-Meldungen-an-ausl%C3%A4ndische-Geheimdienste'}, {'Titel': 'Medizinische Einweg-Handschuhe in der Schweiz mit Bakterien verseucht', 'Site': '@watson_news', 'Kommentare': 0, 'Date': '2016-Jul-09', 'Link': 'http://watson.ch/Schweiz/Gesundheit/814710699-Medizinische-Einweg-Handschuhe-in-der-Schweiz-mit-Bakterien-verseucht'}, {'Titel': 'Der Umgang von Facebook mit Hass-Kommentaren ist so intransparent wie die FIFA und Putin', 'Site': '@watson_news', 'Kommentare': 0, 'Date': '2016-Jul-09', 'Link': 'http://watson.ch/Digital/International/717987921-Der-Umgang-von-Facebook-mit-Hass-Kommentaren-ist-so-intransparent-wie-die-FIFA-und-Putin'}, {'Titel': 'Wenn du gegen die Wand läufst: Das steckt hinter dem «Hungerast» und so kannst du ihn vermeiden', 'Site': '@watson_news', 'Kommentare': 0, 'Date': '2016-Jul-09', 'Link': 'http://watson.ch/Wissen/Fit%20for%20Life/450154897-Wenn-du-gegen-die-Wand-l%C3%A4ufst--Das-steckt-hinter-dem-%C2%ABHungerast%C2%BB-und-so-kannst-du-ihn-vermeiden'}, {'Titel': '«Der Krieg muss enden»: Das sagt Beyoncé zu den jüngsten Fällen tödlicher Polizeigewalt', 'Site': '@watson_news', 'Kommentare': 0, 'Date': '2016-Jul-09', 'Link': 'http://watson.ch/Popul%C3%A4rkultur/International/624074616-%C2%ABDer-Krieg-muss-enden%C2%BB--Das-sagt-Beyonc%C3%A9-zu-den-j%C3%BCngsten-F%C3%A4llen-t%C3%B6dlicher-Polizeigewalt'}, {'Titel': 'Knackeboul, der alte Freestyler, hat nur für dich gerappt! Hier sein Werk zum Nachgeniessen\\xa0', 'Site': '@watson_news', 'Kommentare': 0, 'Date': '2016-Jul-09', 'Link': 'http://watson.ch/Popul%C3%A4rkultur/Musik/824078128-Knackeboul--der-alte-Freestyler--hat-nur-f%C3%BCr-dich-gerappt!-Hier-sein-Werk-zum-Nachgeniessen-'}, {'Titel': 'Sechs Personen am Säntis von Schnee- und Gerölllawine erfasst', 'Site': '@tagesanzeiger', 'Kommentare': 0, 'Date': '2016-Jul-09', 'Link': 'http://www.tagesanzeiger.ch/panorama/vermischtes/mehrere-regahelikopter-im-einsatz-am-saentis/story/24342246'}, {'Titel': 'Nato schickt Aufklärungsflieger in Kampf gegen IS', 'Site': '@tagesanzeiger', 'Kommentare': 0, 'Date': '2016-Jul-09', 'Link': 'http://www.tagesanzeiger.ch/ausland/naher-osten-und-afrika/nato-schickt-aufklaerungsflieger-in-kampf-gegen-is/story/14708647'}, {'Titel': 'Eine Roboter-Bombe tötete den Heckenschützen', 'Site': '@tagesanzeiger', 'Kommentare': 0, 'Date': '2016-Jul-09', 'Link': 'http://www.tagesanzeiger.ch/panorama/vermischtes/roboter-toetete-heckenschuetze-von-dallas/story/22896133'}, {'Titel': 'Augenzeugen-Foto geht um die Welt', 'Site': '@tagesanzeiger', 'Kommentare': 0, 'Date': '2016-Jul-09', 'Link': 'http://www.tagesanzeiger.ch/ausland/amerika/ein-beamter-bei-protest-in-dallas-erschossen/story/17524444'}, {'Titel': 'Harter Schlag für einst gefeierte Unternehmerin', 'Site': '@tagesanzeiger', 'Kommentare': 0, 'Date': '2016-Jul-09', 'Link': 'http://www.tagesanzeiger.ch/wirtschaft/unternehmen-und-konjunktur/harter-schlag-fuer-einst-gefeierte-unternehmerin/story/25846160'}, {'Titel': 'So gut wie Steffi Graf', 'Site': '@tagesanzeiger', 'Kommentare': 0, 'Date': '2016-Jul-09', 'Link': 'http://www.tagesanzeiger.ch/news/standard/grrosser-triumph-fuer-williams/story/15273494'}, {'Titel': 'Im Schnitt 750 Meldungen aus dem Ausland', 'Site': '@tagesanzeiger', 'Kommentare': 0, 'Date': '2016-Jul-09', 'Link': 'http://www.tagesanzeiger.ch/schweiz/jeden-monat-erhaelt-der-geheimdienst-750-meldungen-aus-dem-ausland/story/24187997'}, {'Titel': 'Nothilfe per SMS', 'Site': '@tagesanzeiger', 'Kommentare': 0, 'Date': '2016-Jul-09', 'Link': 'http://www.tagesanzeiger.ch/zuerich/stadt/nothilfe-per-sms/story/19798839'}, {'Titel': '14 Festnahmen nach Schlägereien im Kreis 4', 'Site': '@tagesanzeiger', 'Kommentare': 0, 'Date': '2016-Jul-09', 'Link': 'http://www.tagesanzeiger.ch/zuerich/stadt/14-festnahmen-nach-schlaegereien-im-kreis-4/story/12498936'}, {'Titel': 'Mobility-Pricing? Ihre Meinung ist gefragt!', 'Site': '@tagesanzeiger', 'Kommentare': 0, 'Date': '2016-Jul-09', 'Link': 'http://www.tagesanzeiger.ch/schweiz/standard/mobilitypricing-ihre-meinung-ist-gefragt/story/18282591'}, {'Titel': 'Wie stark belasten «glückliche Rinder» die Umwelt?', 'Site': '@tagesanzeiger', 'Kommentare': 0, 'Date': '2016-Jul-09', 'Link': 'http://www.tagesanzeiger.ch/schweiz/standard/das-bild-der-gluecklichen-rinder-erhaelt-einen-kratzer/story/26523274'}, {'Titel': 'Uruguay gewinnt gegen Philip Morris', 'Site': '@tagesanzeiger', 'Kommentare': 0, 'Date': '2016-Jul-09', 'Link': 'http://www.tagesanzeiger.ch/wirtschaft/unternehmen-und-konjunktur/uruguay-gewinnt-gegen-philip-morris/story/21783135'}, {'Titel': 'Die Auto-Roboter', 'Site': '@tagesanzeiger', 'Kommentare': 0, 'Date': '2016-Jul-09', 'Link': 'http://www.tagesanzeiger.ch/wirtschaft/unternehmen-und-konjunktur/sie-sind-schon-unter-uns/story/23538890'}, {'Titel': '«Ich fürchte um mein Leben»', 'Site': '@tagesanzeiger', 'Kommentare': 0, 'Date': '2016-Jul-09', 'Link': 'http://www.tagesanzeiger.ch/sport/tennis/ich-fuerchte-um-mein-leben/story/20453561'}, {'Titel': 'Den Hai verprügelt', 'Site': '@tagesanzeiger', 'Kommentare': 0, 'Date': '2016-Jul-09', 'Link': 'http://www.tagesanzeiger.ch/sport/weitere/den-hai-verpruegelt/story/26211022'}, {'Titel': '«Das Video ist schwer anzusehen»', 'Site': '@tagesanzeiger', 'Kommentare': 0, 'Date': '2016-Jul-09', 'Link': 'http://www.tagesanzeiger.ch/ausland/amerika/handykamera-ist-ein-anker-in-einer-extremsituation/story/17477529'}, {'Titel': '«Das Königreich wird überleben»', 'Site': '@tagesanzeiger', 'Kommentare': 0, 'Date': '2016-Jul-09', 'Link': 'http://www.tagesanzeiger.ch/ausland/europa/das-koenigreich-wird-ueberleben/story/24605924'}, {'Titel': 'Unsterbliche Rockstars', 'Site': '@tagesanzeiger', 'Kommentare': 0, 'Date': '2016-Jul-09', 'Link': 'http://www.tagesanzeiger.ch/kultur/pop-und-jazz/der-lange-abschied/story/28207375'}, {'Titel': 'Gotthelfs «Uli der Pächter» als prächtige Seifenoper', 'Site': '@tagesanzeiger', 'Kommentare': 0, 'Date': '2016-Jul-09', 'Link': 'http://www.tagesanzeiger.ch/kultur/theater/gotthelfs-uli-der-paechter-als-praechtige-seifenoper/story/14195718'}, {'Titel': 'Falsche Virenwarnung für tagesanzeiger.ch', 'Site': '@tagesanzeiger', 'Kommentare': 0, 'Date': '2016-Jul-09', 'Link': 'http://www.tagesanzeiger.ch/digital/computer/falsche-virenwarnung-fuer-tamedianewsseiten/story/18427746'}, {'Titel': '«Ganz viele junge Leute nehmen es mit den Umgangsformen allzu easy»', 'Site': '@tagesanzeiger', 'Kommentare': 0, 'Date': '2016-Jul-09', 'Link': 'http://www.tagesanzeiger.ch/leben/gesellschaft/duzis-mit-dem-ceo/story/24952079'}, {'Titel': 'Die Jungen? Apolitisch? Von wegen!', 'Site': '@tagesanzeiger', 'Kommentare': 0, 'Date': '2016-Jul-09', 'Link': 'http://www.tagesanzeiger.ch/leben/gesellschaft/die-alten-waren-auch-nicht-besser/story/18057115'}, {'Titel': 'Waffennarr, Soldat, Einzelgänger', 'Site': '@tagesanzeiger', 'Kommentare': 0, 'Date': '2016-Jul-09', 'Link': 'http://www.tagesanzeiger.ch/panorama/vermischtes/waffennarr-soldat-einzelgaenger/story/25399698'}, {'Titel': 'Mitinsasse von Hassan K. will von Fluchtplänen gewusst haben', 'Site': '@tagesanzeiger', 'Kommentare': 0, 'Date': '2016-Jul-09', 'Link': 'http://www.tagesanzeiger.ch/panorama/vermischtes/kikos-mitinsasse-wusste-von-den-fluchtplaenen/story/10607120'}, {'Titel': 'Eine fremde Sprache', 'Site': '@tagesanzeiger', 'Kommentare': 0, 'Date': '2016-Jul-09', 'Link': 'http://www.tagesanzeiger.ch/schweiz/standard/eine-fremde-sprache/story/13688061'}, {'Titel': 'Bersets Überzeugungstat', 'Site': '@tagesanzeiger', 'Kommentare': 0, 'Date': '2016-Jul-09', 'Link': 'http://www.tagesanzeiger.ch/schweiz/standard/bersets-ueberzeugungstat/story/28454193'}]\n"
     ]
    }
   ],
   "source": [
    "print(all_stories)"
   ]
  },
  {
   "cell_type": "code",
   "execution_count": 14,
   "metadata": {
    "collapsed": false
   },
   "outputs": [
    {
     "name": "stdout",
     "output_type": "stream",
     "text": [
      "@20min Nationalratskommission bittet Ältere zur Kasse\n",
      "@20min Italienische Zahlstellen verwirren Reisende\n",
      "@20min Lohnt es sich, den Motor am Rotlicht abzuschalten?\n",
      "@20min Krankenkassenprämien steigen immer mehr\n",
      "@watson_news 99+ Bilder und Gifs gegen Langeweile: Der Picdump ist da!\n",
      "@20min «Ich bin wütend und traurig»\n",
      "@20min «So sehen Bünzli aus, die am Rasenmähen sind»\n",
      "@20min Salt-Abos fliegen bei Mobilezone raus\n",
      "@20min «Ich bin nach einer Harry Potter-Figur benannt»\n",
      "@20min Was kann man tun, wenn ein Flug annulliert wird?\n",
      "@20min Darum hatte Salt gestern einen Totalausfall\n",
      "@20min Bomben-Roboter ist die neue Waffe der Polizei\n",
      "@20min Rührende Szenen nach dem Schlusspfiff\n",
      "@watson_news EM-Tagesticker: Die spezielle Geschichte von Raphael Guerreiros +++ welcher Torjäger drückt dem Final seinen Stempel auf?\n",
      "@20min Finden Sie heraus, wie Sie mit dem Chef reden sollten\n",
      "@20min UPC-Kunden müssen ihr Passwort ändern\n",
      "@20min «Die Zustände in den Camps gehen mir nahe»\n",
      "@watson_news Weil ihr so schön brav wart: 101 Bilder für ein besseres Wochenende – EXTRA PICDUMP\n",
      "@20min Tropennacht leitet heisses Wochenende ein\n",
      "@20min «Statt AKWs braucht es Tausende Batterien»\n",
      "@20min Kikos Mitinsasse wusste von den Fluchtplänen\n",
      "@watson_news Wie ich am Open Air zum gläsernen Festival-Besucher wurde und was nun mit den Daten passiert\n",
      "@watson_news 16 extrem deprimierende Musik-Fakten (der Schweizer Beitrag ist fast der schlimmste imfall)\n",
      "@20min Der Sommerdrink 2016 braucht keinen Alkohol\n",
      "@20min Nato verlegt Truppen nach Osteuropa\n",
      "@20min «Brauche jedes Jahr 31'000 Euro für Handys»\n",
      "@20min Was Disney-Prinzessinnen aus den Mädchen machen\n",
      "@watson_news Auf diese News haben wir alle gewartet: Wer öfter Pasta isst, bleibt schlanker\n",
      "@20min «Ein Grossraumbüro kann wunderbar sein»\n",
      "@20min Griezmann braucht den Hattrick für den Rekord\n",
      "@20min Das ist Nina Agdal, Leo DiCaprios alte Neue\n",
      "@20min «Nicht die Waffe tötete meinen Buben, ich tat es»\n",
      "@20min Mit dem Schulbus von Alaska bis Argentinien\n",
      "@20min 20 Minuten knackt die Milliarden-Grenze\n",
      "@20min «Ein König ohne Krone»\n",
      "@watson_news Huh! Wer plötzlich alles behauptet, den Schlachtruf der isländischen Fans erfunden zu haben\n",
      "@20min AfD-Politikerin twittert gegen die deutsche Elf\n",
      "@20min Nachlässig eingesetzte Gentech stärkt Schädlinge\n",
      "@watson_news Wahr oder falsch? 15 Ernährungs-Mythen im Check\n",
      "@watson_news Die Robo-Bombe von Dallas: Einsatz von C4-Sprengstoff gegen Täter wirft Fragen auf\n",
      "@20min Giulias grosse Schwester\n",
      "@watson_news «Weltwoche»-Autor hat (auch) bei watson abgekupfert\n",
      "@watson_news Auf Deutsch sind sie die «Satansweiber von Tittfield». Doch der Original-Filmtitel lautet ...?\n",
      "@20min Coiffeur wegen sexueller Belästigung angeklagt\n",
      "@20min Die E-Mail-Affäre begleitet Clinton weiter\n",
      "@20min Gesunde Schoggi zum Trinken\n",
      "@watson_news Hört auf, dieses Bild von Mark Hughes zu teilen: Er hat mit dem Massaker in Dallas nichts zu tun\n",
      "@20min 750 Meldungen aus dem Ausland  pro Monat\n",
      "@20min Darum hat der Pfannenwender Schlitze\n",
      "@tagesanzeiger Die härtesten Frauen Norwegens\n",
      "@watson_news Presse, Pussy und Pomade: Eine Beleidigung «mal von der anderen Seite beleuchtet»\n",
      "@20min Kalte Suppe für heisse Sommertage\n",
      "@watson_news Diese Bilder beweisen, dass wir betrunken ALLES lecker finden (und nicht kochen sollten)\n",
      "@watson_news Du verlierst immer deine Freunde im Getümmel? Wenn du diese 10 Aufgaben meisterst, bist du bereit fürs Züri Fäscht\n",
      "@20min 5 Spiele für weniger Langeweile im Stau\n",
      "@20min Lügen bei der Wohnungsbewerbung\n",
      "@20min Nach dem Motorenstart sind die Zweifel weg\n",
      "@watson_news Die unglaubliche Geschichte hinter diesem Mann, der bei jedem Terroranschlag stirbt\n",
      "@watson_news Die besten Sportlerpics auf Social Media: Lara Gut macht Giulia Steingruber Konkurrenz\n",
      "@watson_news Unser erstes Rechtschreib-Quiz war zu einfach? Nimm das, du Deutsch-Experte!\n",
      "@watson_news Humans of Olten: «Z'Oute muesch nüt mache ond chonnsch trotzdäm id Ziitig»\n",
      "@watson_news Grillieren? Das kannst du besser! Mit diesen einfachen Rezepten wird dein Grill-Sommer zum besten aller Zeiten\n",
      "@20min Traumhäuser, in denen Sie garantiert niemand stört\n",
      "@20min Iron Maiden lassen Eddie auf die Smartphones los\n",
      "@watson_news Was alles noch langsamer ist als Giroud: Kontinentaldrift und Zaza! Die besten User-Kommentare\n",
      "@watson_news So sieht die Welt die Schweizer Politik – in 20 unneutralen Bildern und Memes \n",
      "@watson_news Blutrache und Hexerei-Vorwürfe – so spielten sie im Mittelalter Fussball \n",
      "@20min Williams hievt sich auf eine Stufe mit Steffi Graf\n",
      "@20min Fussballstars und ihre Schwestern\n",
      "@20min So schön leidet und jubelt Serena Williams\n",
      "@20min Ferienstadt erobert hunderte Kinderherzen\n",
      "@20min Abkühlung auf laotische Art\n",
      "@watson_news «Saugen statt baggern» – schau mal, was heute bei watson abging\n",
      "@watson_news Schweinsteiger macht den Boateng: «Hätten sie doch nur wie Löw ihre Eier gekrault ...» \n",
      "@watson_news Zum Weinen schön: Das erste Bild des geliebten Haustieres – und das letzte \n",
      "@watson_news Uruguay gewinnt vor Gericht gegen Tabakkonzern Philip Morris\n",
      "@watson_news Velo-, Töff- und Cabrio-Fahrer: Wie gut kennst du die Schweizer Pässe?\n",
      "@watson_news Wir wurden reingelegt, darum seid ihr jetzt dran: Sind diese 10 Videos echt oder nicht?\n",
      "@watson_news Hier kannst du was erleben! 13 extreme Orte der Welt\n",
      "@watson_news Mit diesem Trick finden iPhone-Nutzer heraus, wie gut die Mobilfunk-Verbindung wirklich ist\n",
      "@watson_news Wie viel Gift steckt in deinen Kleidern? Hier siehst du, wer sauber und wer dreckig produziert\n",
      "@watson_news Frankreichs grosser Vorteil: Die Erinnerung an den Heimtriumph 1998\n",
      "@watson_news 6 TV-Tabus von 1949 und 6 Nacktszenen aus «Game of Thrones» zum Vergleich\n",
      "@watson_news Die Deutschen hadern mit dem Schicksal: «Wir haben heute unser bestes Spiel der EM gemacht»\n",
      "@watson_news Superkanone V3: Wie ein Kennedy Hitlers Hochdruckpumpe ausschalten sollte\n",
      "@watson_news Aufgepasst! Bund warnt vor versandten Microsoft-Office-Dokumenten\n",
      "@watson_news Bale oder Ronaldo? 12 Fragen, die nur echte Profis beantworten können\n",
      "@watson_news «Wie Champions!» und «Bonne nuit, Schweini!» – die Pressestimmen zu Frankreichs Triumph gegen Deutschland\n",
      "@watson_news Zum Open Air Frauenfeld: Erkennst du all diese Rap-Songs anhand einer Grafik?\n",
      "@watson_news Weltmeister mit Ladehemmungen – Deutschland fehlt an der EM die Kälte vor dem Tor\n",
      "@watson_news Ein Ex-NHL-Verteidiger an Fischers Seite – Tommy Albelin wird neuer Nati-Assistenztrainer\n",
      "@watson_news Schaun mer mal, wie gut du aufgepasst hast: Kennst du die Stadien der EM 2016?\n",
      "@tagesanzeiger Amerika ist im Unreinen mit sich\n",
      "@20min Reitschule macht die Schotten dicht\n",
      "@20min «Die Franzosen mussten zuerst hungrig werden»\n",
      "@20min Falsche Virenwarnung für 20min.ch\n",
      "@20min 15-Jähriger flüchtet mit BMW der Eltern vor Polizei\n",
      "@20min Wo steht die beste Wasserrutschbahn?\n",
      "@20min Zur exklusiven 20-Minuten-Vorpremiere von «Pets»\n",
      "@20min So wird Ihre Wohnung zum Backofen\n",
      "@20min «Sechs Franken für ein Bier? Das ist verrückt!»\n",
      "@20min Nato schickt Aufklärungs-Flieger in Kampf gegen IS\n",
      "@20min Kämpfe gegen 13'000 Leser um die Quiz-Krone!\n",
      "@20min Waffennarr, Soldat, Einzelgänger\n",
      "@20min «Es waren einfach so viele Schüsse»\n",
      "@20min Hunde fressen Katze  Besitzer verurteilt\n",
      "@20min 14'600 Arztbesuche wegen Zeckenstichen\n",
      "@20min Bis zu 2300 Fr Belohnung für die Polizisten\n",
      "@20min 14 Festnahmen nach Schlägereien im Kreis 4\n",
      "@20min 50 Hotelgäste wegen defektem Föhn evakuiert\n",
      "@20min Nordkorea feuert Rakete von U-Boot aus ab\n",
      "@20min Die Seele baumeln lassen\n",
      "@20min Menschenrechtler prangern Polizeigewalt an\n",
      "@20min Polizist schreibt einen Brief an Kanzlerin Merkel\n",
      "@20min Die Bilder des Tages\n",
      "@20min Hunderttausende fliehen vor Tropensturm\n",
      "@20min Neunjährige lockte Horror-Vater in die Falle\n",
      "@20min ZDF will Böhmermanns Vertrag verlängern\n",
      "@20min Ist «El Chapo» schon wieder getürmt?\n",
      "@20min Auf zur Schatzsuche im Bike-Paradies Verbier\n",
      "@20min Arbeitslosenquote sinkt auf 3,1 Prozent\n",
      "@20min US-Steuerbehörde geht gegen Facebook vor\n",
      "@20min Tulpenzwiebeln und Zoggeli für das Bronze-Duo\n",
      "@20min Rettet Big Data die Stromkonzerne?\n",
      "@20min Weniger Album-Verkäufe, aber mehr Song-Streams\n",
      "@20min Wie Frauen auf Sex-Portalen erobert werden wollen!\n",
      "@20min Bill Cosby muss doch vor Gericht\n",
      "@20min Warum sitzt ihr so lange auf der Toilette?\n",
      "@20min Wir drehen am Rad! Pokémon ist zurück!\n",
      "@20min Iron Man geht in Superhelden-Rente\n",
      "@20min Schicken Sie uns Ihren schönsten Kuss-Clip\n",
      "@20min Drei traumhafte Sommersalate\n",
      "@20min Wassermelone steht uns!\n",
      "@20min Macht euren Move und werdet #Poolhero\n",
      "@20min Einfach und natürlich zur Sommerfigur\n",
      "@20min Bund warnt vor Microsoft-Office-Dokumenten\n",
      "@20min Surfen in den bitterkalten Fluten\n",
      "@20min Hotels zum halben Preis\n",
      "@20min Tschüss, ihr Loser, ich bin dann mal am Strand!\n",
      "@20min Australien  ein langersehnter Traum\n",
      "@20min Gewinne Tickets für das Blue Balls Festival!\n",
      "@20min Wer bekommt Cash für seine Fahrstunden?\n",
      "@20min Allianz Cinema Basel: Preisreduktion auf Vorpremieren\n",
      "@20min Wir schicken dich als VIP ans Zürich Openair!\n",
      "@20min Wir schicken dich als VIP ans Zürich Openair!\n",
      "@20min Mit Sack, Pack und Family ab nach Florida\n",
      "@watson_news Das Halbfinal-Out ist keine verpasste Chance – Federer sollte auf der guten Leistung aufbauen\n",
      "@watson_news Vor diesem Kuharsch flüchten sogar die Löwen\n",
      "@watson_news Muss die britische Premierministerin Mutter sein? Kinderlose Theresa May wird angegriffen\n",
      "@watson_news Schweizer Nachrichtendienst lieferte letztes Jahr 4500 Meldungen an ausländische Geheimdienste\n",
      "@watson_news Medizinische Einweg-Handschuhe in der Schweiz mit Bakterien verseucht\n",
      "@watson_news Der Umgang von Facebook mit Hass-Kommentaren ist so intransparent wie die FIFA und Putin\n",
      "@watson_news Wenn du gegen die Wand läufst: Das steckt hinter dem «Hungerast» und so kannst du ihn vermeiden\n",
      "@watson_news «Der Krieg muss enden»: Das sagt Beyoncé zu den jüngsten Fällen tödlicher Polizeigewalt\n",
      "@watson_news Knackeboul, der alte Freestyler, hat nur für dich gerappt! Hier sein Werk zum Nachgeniessen \n",
      "@tagesanzeiger Sechs Personen am Säntis von Schnee- und Gerölllawine erfasst\n",
      "@tagesanzeiger Nato schickt Aufklärungsflieger in Kampf gegen IS\n",
      "@tagesanzeiger Eine Roboter-Bombe tötete den Heckenschützen\n",
      "@tagesanzeiger Augenzeugen-Foto geht um die Welt\n",
      "@tagesanzeiger Harter Schlag für einst gefeierte Unternehmerin\n",
      "@tagesanzeiger So gut wie Steffi Graf\n",
      "@tagesanzeiger Im Schnitt 750 Meldungen aus dem Ausland\n",
      "@tagesanzeiger Nothilfe per SMS\n",
      "@tagesanzeiger 14 Festnahmen nach Schlägereien im Kreis 4\n",
      "@tagesanzeiger Mobility-Pricing? Ihre Meinung ist gefragt!\n",
      "@tagesanzeiger Wie stark belasten «glückliche Rinder» die Umwelt?\n",
      "@tagesanzeiger Uruguay gewinnt gegen Philip Morris\n",
      "@tagesanzeiger Die Auto-Roboter\n",
      "@tagesanzeiger «Ich fürchte um mein Leben»\n",
      "@tagesanzeiger Den Hai verprügelt\n",
      "@tagesanzeiger «Das Video ist schwer anzusehen»\n",
      "@tagesanzeiger «Das Königreich wird überleben»\n",
      "@tagesanzeiger Unsterbliche Rockstars\n",
      "@tagesanzeiger Gotthelfs «Uli der Pächter» als prächtige Seifenoper\n",
      "@tagesanzeiger Falsche Virenwarnung für tagesanzeiger.ch\n",
      "@tagesanzeiger «Ganz viele junge Leute nehmen es mit den Umgangsformen allzu easy»\n",
      "@tagesanzeiger Die Jungen? Apolitisch? Von wegen!\n",
      "@tagesanzeiger Waffennarr, Soldat, Einzelgänger\n",
      "@tagesanzeiger Mitinsasse von Hassan K. will von Fluchtplänen gewusst haben\n",
      "@tagesanzeiger Eine fremde Sprache\n",
      "@tagesanzeiger Bersets Überzeugungstat\n"
     ]
    }
   ],
   "source": [
    "len(all_stories )\n",
    "for x in all_stories:\n",
    "    print(x['Site'], x['Titel'])"
   ]
  },
  {
   "cell_type": "code",
   "execution_count": 15,
   "metadata": {
    "collapsed": false
   },
   "outputs": [
    {
     "data": {
      "text/plain": [
       "{'Date': '2016-Jul-09',\n",
       " 'Kommentare': 687,\n",
       " 'Link': 'http://www.20min.ch/schweiz/news/story/Nationalratskommission-bittet--ltere-zur-Kasse-16499162',\n",
       " 'Site': '@20min',\n",
       " 'Titel': 'Nationalratskommission bittet Ältere zur Kasse'}"
      ]
     },
     "execution_count": 15,
     "metadata": {},
     "output_type": "execute_result"
    }
   ],
   "source": [
    "all_stories[0]"
   ]
  },
  {
   "cell_type": "code",
   "execution_count": 16,
   "metadata": {
    "collapsed": false
   },
   "outputs": [
    {
     "data": {
      "text/plain": [
       "'Nationalratskommission bittet Ältere zur Kasse'"
      ]
     },
     "execution_count": 16,
     "metadata": {},
     "output_type": "execute_result"
    }
   ],
   "source": [
    "all_stories[0]['Titel']"
   ]
  },
  {
   "cell_type": "code",
   "execution_count": 17,
   "metadata": {
    "collapsed": false
   },
   "outputs": [
    {
     "data": {
      "text/plain": [
       "181"
      ]
     },
     "execution_count": 17,
     "metadata": {},
     "output_type": "execute_result"
    }
   ],
   "source": [
    "len(all_stories)"
   ]
  },
  {
   "cell_type": "code",
   "execution_count": 18,
   "metadata": {
    "collapsed": false
   },
   "outputs": [],
   "source": [
    "Sum = 0\n",
    "for item in all_stories:\n",
    "    Sum = Sum + item['Kommentare']"
   ]
  },
  {
   "cell_type": "code",
   "execution_count": 19,
   "metadata": {
    "collapsed": false
   },
   "outputs": [
    {
     "data": {
      "text/plain": [
       "6508"
      ]
     },
     "execution_count": 19,
     "metadata": {},
     "output_type": "execute_result"
    }
   ],
   "source": [
    "Sum"
   ]
  },
  {
   "cell_type": "code",
   "execution_count": 20,
   "metadata": {
    "collapsed": false
   },
   "outputs": [],
   "source": [
    "Kommentar_Schnitt = round(Sum / len(all_stories))"
   ]
  },
  {
   "cell_type": "code",
   "execution_count": 21,
   "metadata": {
    "collapsed": true
   },
   "outputs": [],
   "source": [
    "Count = all_stories[0]['Kommentare']\n",
    "#if Count > 1100:\n",
    "#    Comment_Count = \"Lesen. Dazu hat Krethi und Plethi eine Meinung.\"\n",
    "#elif Count > 900:\n",
    "#    Comment_Count = \"Party-Talk. Wirklich an jeder Party.\"\n",
    "#elif Count > 700:\n",
    "#    Comment_Count = \"Da haben am Stammtisch einige etwas dazu zu sagen.\"\n",
    "#elif Count > 500:\n",
    "#    Comment_Count = \"Das bewegt einge. Am richtig viele sind das noch nicht.\"\n",
    "#elif Count > 0:\n",
    "#    Comment_Count = \"Da schlafen einige fleissige Kommentarschreiben wohl noch.\""
   ]
  },
  {
   "cell_type": "code",
   "execution_count": 22,
   "metadata": {
    "collapsed": false
   },
   "outputs": [],
   "source": [
    "#sentence = 'Kommentare: {}. Quelle: {}. {} {}'.format(all_stories[0]['Kommentare'], all_stories[0]['Site'], Comment_Count, all_stories[0]['Link'])"
   ]
  },
  {
   "cell_type": "code",
   "execution_count": 23,
   "metadata": {
    "collapsed": true
   },
   "outputs": [],
   "source": [
    "sentence = 'Die heisseste Front-Story läuft {} mit {} Kommentaren. Der Schnitt liegt bei {} Reaktionen pro Story. {}'.format(all_stories[0]['Site'], all_stories[0]['Kommentare'], Kommentar_Schnitt, all_stories[0]['Link']) "
   ]
  },
  {
   "cell_type": "markdown",
   "metadata": {
    "collapsed": false
   },
   "source": [
    "print(sentence)"
   ]
  },
  {
   "cell_type": "code",
   "execution_count": 25,
   "metadata": {
    "collapsed": false
   },
   "outputs": [],
   "source": [
    "#twitter = twython.Twython(api_key, api_secret)\n",
    "#auth = twitter.get_authentication_tokens()\n",
    "#print(\"Log into Twitter as the user you want to authorize and visit this URL:\")\n",
    "#print(\"\\t\" + auth['auth_url'])"
   ]
  },
  {
   "cell_type": "code",
   "execution_count": 26,
   "metadata": {
    "collapsed": false
   },
   "outputs": [],
   "source": [
    "#pin = \"XXXXXX\"\n",
    "#\n",
    "#twitter = twython.Twython(api_key, api_secret, auth['oauth_token'], auth['oauth_token_secret'])\n",
    "#tokens = twitter.get_authorized_tokens(pin)\n",
    "#\n",
    "#new_access_token = tokens['oauth_token']\n",
    "#new_token_secret = tokens['oauth_token_secret']\n",
    "#print(\"your access token:\", new_access_token)\n",
    "#print(\"your token secret:\", new_token_secret)"
   ]
  },
  {
   "cell_type": "code",
   "execution_count": 27,
   "metadata": {
    "collapsed": false
   },
   "outputs": [
    {
     "data": {
      "text/plain": [
       "{'contributors': None,\n",
       " 'coordinates': None,\n",
       " 'created_at': 'Sat Jul 09 16:21:43 +0000 2016',\n",
       " 'entities': {'hashtags': [],\n",
       "  'symbols': [],\n",
       "  'urls': [{'display_url': '20min.ch/schweiz/news/s…',\n",
       "    'expanded_url': 'http://www.20min.ch/schweiz/news/story/Nationalratskommission-bittet--ltere-zur-Kasse-16499162',\n",
       "    'indices': [110, 133],\n",
       "    'url': 'https://t.co/xkafvQCw7W'}],\n",
       "  'user_mentions': [{'id': 15786941,\n",
       "    'id_str': '15786941',\n",
       "    'indices': [32, 38],\n",
       "    'name': '20 Minuten',\n",
       "    'screen_name': '20min'}]},\n",
       " 'favorite_count': 0,\n",
       " 'favorited': False,\n",
       " 'geo': None,\n",
       " 'id': 751813593478356993,\n",
       " 'id_str': '751813593478356993',\n",
       " 'in_reply_to_screen_name': None,\n",
       " 'in_reply_to_status_id': None,\n",
       " 'in_reply_to_status_id_str': None,\n",
       " 'in_reply_to_user_id': None,\n",
       " 'in_reply_to_user_id_str': None,\n",
       " 'is_quote_status': False,\n",
       " 'lang': 'de',\n",
       " 'place': None,\n",
       " 'possibly_sensitive': False,\n",
       " 'retweet_count': 0,\n",
       " 'retweeted': False,\n",
       " 'source': '<a href=\"http://www.barnabyskinner.com/\" rel=\"nofollow\">First_App_data_and_databases</a>',\n",
       " 'text': 'Die heisseste Front-Story läuft @20min und hat 687 Kommentare. Der Schnitt liegt bei 36 Reaktionen pro Story. https://t.co/xkafvQCw7W',\n",
       " 'truncated': False,\n",
       " 'user': {'contributors_enabled': False,\n",
       "  'created_at': 'Thu Jul 07 18:44:01 +0000 2016',\n",
       "  'default_profile': False,\n",
       "  'default_profile_image': False,\n",
       "  'description': 'Morgens, mittags und abends die meistdiskutierte Story der Front @20min @tagesanzeiger @watson. Ein Projekt von @BarJack.',\n",
       "  'entities': {'description': {'urls': []},\n",
       "   'url': {'urls': [{'display_url': 'github.com/barjacks/Comme…',\n",
       "      'expanded_url': 'https://github.com/barjacks/Comment_Explosion',\n",
       "      'indices': [0, 23],\n",
       "      'url': 'https://t.co/ydysYu1W7A'}]}},\n",
       "  'favourites_count': 0,\n",
       "  'follow_request_sent': False,\n",
       "  'followers_count': 21,\n",
       "  'following': False,\n",
       "  'friends_count': 2,\n",
       "  'geo_enabled': False,\n",
       "  'has_extended_profile': False,\n",
       "  'id': 751124626298765312,\n",
       "  'id_str': '751124626298765312',\n",
       "  'is_translation_enabled': False,\n",
       "  'is_translator': False,\n",
       "  'lang': 'en',\n",
       "  'listed_count': 2,\n",
       "  'location': '',\n",
       "  'name': 'Comment_Explosion',\n",
       "  'notifications': False,\n",
       "  'profile_background_color': '000000',\n",
       "  'profile_background_image_url': 'http://abs.twimg.com/images/themes/theme1/bg.png',\n",
       "  'profile_background_image_url_https': 'https://abs.twimg.com/images/themes/theme1/bg.png',\n",
       "  'profile_background_tile': False,\n",
       "  'profile_banner_url': 'https://pbs.twimg.com/profile_banners/751124626298765312/1467918128',\n",
       "  'profile_image_url': 'http://pbs.twimg.com/profile_images/751131761325793281/_MFSDult_normal.jpg',\n",
       "  'profile_image_url_https': 'https://pbs.twimg.com/profile_images/751131761325793281/_MFSDult_normal.jpg',\n",
       "  'profile_link_color': '999999',\n",
       "  'profile_sidebar_border_color': '000000',\n",
       "  'profile_sidebar_fill_color': '000000',\n",
       "  'profile_text_color': '000000',\n",
       "  'profile_use_background_image': False,\n",
       "  'protected': False,\n",
       "  'screen_name': 'com_expl',\n",
       "  'statuses_count': 9,\n",
       "  'time_zone': None,\n",
       "  'url': 'https://t.co/ydysYu1W7A',\n",
       "  'utc_offset': None,\n",
       "  'verified': False}}"
      ]
     },
     "execution_count": 27,
     "metadata": {},
     "output_type": "execute_result"
    }
   ],
   "source": [
    "twitter.update_status(status=sentence)"
   ]
  },
  {
   "cell_type": "code",
   "execution_count": null,
   "metadata": {
    "collapsed": true
   },
   "outputs": [],
   "source": []
  }
 ],
 "metadata": {
  "kernelspec": {
   "display_name": "Python 3",
   "language": "python",
   "name": "python3"
  },
  "language_info": {
   "codemirror_mode": {
    "name": "ipython",
    "version": 3
   },
   "file_extension": ".py",
   "mimetype": "text/x-python",
   "name": "python",
   "nbconvert_exporter": "python",
   "pygments_lexer": "ipython3",
   "version": "3.5.1"
  }
 },
 "nbformat": 4,
 "nbformat_minor": 0
}
